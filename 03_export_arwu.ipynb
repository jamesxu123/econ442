{
 "cells": [
  {
   "cell_type": "code",
   "execution_count": 1,
   "metadata": {},
   "outputs": [],
   "source": [
    "import subprocess\n",
    "import json\n",
    "from functools import reduce\n",
    "from operator import add\n",
    "from statistics import mean"
   ]
  },
  {
   "cell_type": "code",
   "execution_count": 2,
   "metadata": {},
   "outputs": [],
   "source": [
    "years = list(i for i in range(2003, 2024))"
   ]
  },
  {
   "cell_type": "code",
   "execution_count": 3,
   "metadata": {},
   "outputs": [],
   "source": [
    "def extract_year(y):\n",
    "    proc = subprocess.run([\"bun\", f\"./arwu/processed/arwu_processed_{y}.js\"], capture_output=True)\n",
    "    data = json.loads(proc.stdout.decode())\n",
    "    return reduce(add, data, [])"
   ]
  },
  {
   "cell_type": "code",
   "execution_count": 4,
   "metadata": {},
   "outputs": [],
   "source": [
    "mapping = {\n",
    "  \"Israel\": \"ISR\",\n",
    "  \"Lithuania\": \"LTU\",\n",
    "  \"Australia\": \"AUS\",\n",
    "  \"China-Taiwan\": \"TAP\",\n",
    "  \"Romania\": \"ROU\",\n",
    "  \"South Korea\": \"KOR\",\n",
    "  \"South Africa\": \"ZAF\",\n",
    "  \"France\": \"FRA\",\n",
    "  \"India\": \"IND\",\n",
    "  \"Uganda\": \"UGA\",\n",
    "  \"Ghana\": \"GHA\",\n",
    "  \"United Arab Emirates\": \"ARE\",\n",
    "  \"Czech Republic\": \"CZE\",\n",
    "  \"Jordan\": \"JOR\",\n",
    "  \"Austria\": \"AUT\",\n",
    "  \"Costa Rica\": \"CRI\",\n",
    "  \"New Zealand\": \"NZL\",\n",
    "  \"Italy\": \"ITA\",\n",
    "  \"Greece\": \"GRC\",\n",
    "  \"Egypt\": \"EGY\",\n",
    "  \"Japan\": \"JPN\",\n",
    "  \"Singapore\": \"SGP\",\n",
    "  \"Colombia\": \"COL\",\n",
    "  \"Mexico\": \"MEX\",\n",
    "  \"Nigeria\": \"NGA\",\n",
    "  \"Slovenia\": \"SVN\",\n",
    "  \"Luxembourg\": \"LUX\",\n",
    "  \"Oman\": \"OMN\",\n",
    "  \"Tunisia\": \"TUN\",\n",
    "  \"Cyprus\": \"CYP\",\n",
    "  \"Ethiopia\": \"ETH\",\n",
    "  \"United Kingdom\": \"GBR\",\n",
    "  \"Turkey\": \"TUR\",\n",
    "  \"Poland\": \"POL\",\n",
    "  \"Sweden\": \"SWE\",\n",
    "  \"Puerto Rico\": \"USA\",\n",
    "  \"Bulgaria\": \"BGR\",\n",
    "  \"Estonia\": \"EST\",\n",
    "  \"Norway\": \"NOR\",\n",
    "  \"United States\": \"USA\",\n",
    "  \"Hungary\": \"HUN\",\n",
    "  \"Brazil\": \"BRA\",\n",
    "  \"Spain\": \"ESP\",\n",
    "  \"Malaysia\": \"MYS\",\n",
    "  \"Argentina\": \"ARG\",\n",
    "  \"Thailand\": \"THA\",\n",
    "  \"Ireland\": \"IRL\",\n",
    "  \"Vietnam\": \"VNM\",\n",
    "  \"China-Hong Kong\": \"HKG\",\n",
    "  \"China\": \"CHN\",\n",
    "  \"Belgium\": \"BEL\",\n",
    "  \"Saudi Arabia\": \"SAU\",\n",
    "  \"Croatia\": \"HRV\",\n",
    "  \"Germany\": \"DEU\",\n",
    "  \"Netherlands\": \"NLD\",\n",
    "  \"Denmark\": \"DNK\",\n",
    "  \"Iceland\": \"ISL\",\n",
    "  \"Slovakia\": \"SVK\",\n",
    "  \"Switzerland\": \"CHE\",\n",
    "  \"Finland\": \"FIN\",\n",
    "  \"Qatar\": \"QAT\",\n",
    "  \"Uruguay\": \"URY\",\n",
    "  \"Portugal\": \"PRT\",\n",
    "  \"Russia\": \"RUS\",\n",
    "  \"Canada\": \"CAN\",\n",
    "  \"Serbia\": \"SRB\",\n",
    "  \"Chile\": \"CHL\",\n",
    "  \"Iran\": \"IRN\",\n",
    "  \"China-Macau\": \"MAC\",\n",
    "  \"Lebanon\": \"LBN\",\n",
    "  \"Pakistan\": \"PAK\"\n",
    "}\n"
   ]
  },
  {
   "cell_type": "code",
   "execution_count": 5,
   "metadata": {},
   "outputs": [],
   "source": [
    "def transform(year):\n",
    "    def f(item):\n",
    "        rank = item[\"ranking\"]\n",
    "        if \"-\" in rank:\n",
    "            parsed_rank = int(mean(map(int, rank.split(\"-\"))))\n",
    "        else:\n",
    "            parsed_rank = int(rank)\n",
    "        return {\"rank\": parsed_rank, \"univ_name\": item[\"univNameEn\"], \"country\": mapping[item[\"region\"]], \"score\": item[\"score\"], \"year\": year}\n",
    "    return f"
   ]
  },
  {
   "cell_type": "code",
   "execution_count": 6,
   "metadata": {},
   "outputs": [],
   "source": [
    "results = []"
   ]
  },
  {
   "cell_type": "code",
   "execution_count": 7,
   "metadata": {},
   "outputs": [],
   "source": [
    "for y in years:\n",
    "    year_result = list(map(transform(y), extract_year(y)))\n",
    "    results += year_result"
   ]
  },
  {
   "cell_type": "code",
   "execution_count": 8,
   "metadata": {},
   "outputs": [],
   "source": [
    "import pandas as pd"
   ]
  },
  {
   "cell_type": "code",
   "execution_count": 9,
   "metadata": {},
   "outputs": [],
   "source": [
    "df = pd.DataFrame(results)"
   ]
  },
  {
   "cell_type": "code",
   "execution_count": 10,
   "metadata": {},
   "outputs": [
    {
     "data": {
      "text/html": [
       "<div>\n",
       "<style scoped>\n",
       "    .dataframe tbody tr th:only-of-type {\n",
       "        vertical-align: middle;\n",
       "    }\n",
       "\n",
       "    .dataframe tbody tr th {\n",
       "        vertical-align: top;\n",
       "    }\n",
       "\n",
       "    .dataframe thead th {\n",
       "        text-align: right;\n",
       "    }\n",
       "</style>\n",
       "<table border=\"1\" class=\"dataframe\">\n",
       "  <thead>\n",
       "    <tr style=\"text-align: right;\">\n",
       "      <th></th>\n",
       "      <th>rank</th>\n",
       "      <th>score</th>\n",
       "      <th>year</th>\n",
       "    </tr>\n",
       "  </thead>\n",
       "  <tbody>\n",
       "    <tr>\n",
       "      <th>count</th>\n",
       "      <td>13816.000000</td>\n",
       "      <td>2104.000000</td>\n",
       "      <td>13816.000000</td>\n",
       "    </tr>\n",
       "    <tr>\n",
       "      <th>mean</th>\n",
       "      <td>367.615518</td>\n",
       "      <td>36.658460</td>\n",
       "      <td>2014.708382</td>\n",
       "    </tr>\n",
       "    <tr>\n",
       "      <th>std</th>\n",
       "      <td>252.799107</td>\n",
       "      <td>13.314495</td>\n",
       "      <td>6.179778</td>\n",
       "    </tr>\n",
       "    <tr>\n",
       "      <th>min</th>\n",
       "      <td>1.000000</td>\n",
       "      <td>23.500000</td>\n",
       "      <td>2003.000000</td>\n",
       "    </tr>\n",
       "    <tr>\n",
       "      <th>25%</th>\n",
       "      <td>175.000000</td>\n",
       "      <td>27.800000</td>\n",
       "      <td>2009.000000</td>\n",
       "    </tr>\n",
       "    <tr>\n",
       "      <th>50%</th>\n",
       "      <td>350.000000</td>\n",
       "      <td>31.900000</td>\n",
       "      <td>2016.000000</td>\n",
       "    </tr>\n",
       "    <tr>\n",
       "      <th>75%</th>\n",
       "      <td>456.000000</td>\n",
       "      <td>40.900000</td>\n",
       "      <td>2020.000000</td>\n",
       "    </tr>\n",
       "    <tr>\n",
       "      <th>max</th>\n",
       "      <td>950.000000</td>\n",
       "      <td>100.000000</td>\n",
       "      <td>2023.000000</td>\n",
       "    </tr>\n",
       "  </tbody>\n",
       "</table>\n",
       "</div>"
      ],
      "text/plain": [
       "               rank        score          year\n",
       "count  13816.000000  2104.000000  13816.000000\n",
       "mean     367.615518    36.658460   2014.708382\n",
       "std      252.799107    13.314495      6.179778\n",
       "min        1.000000    23.500000   2003.000000\n",
       "25%      175.000000    27.800000   2009.000000\n",
       "50%      350.000000    31.900000   2016.000000\n",
       "75%      456.000000    40.900000   2020.000000\n",
       "max      950.000000   100.000000   2023.000000"
      ]
     },
     "execution_count": 10,
     "metadata": {},
     "output_type": "execute_result"
    }
   ],
   "source": [
    "df.describe()"
   ]
  },
  {
   "cell_type": "code",
   "execution_count": 15,
   "metadata": {},
   "outputs": [],
   "source": [
    "df.to_parquet(\"data/arwu_2003-2023.parquet\")"
   ]
  }
 ],
 "metadata": {
  "kernelspec": {
   "display_name": "442research",
   "language": "python",
   "name": "python3"
  },
  "language_info": {
   "codemirror_mode": {
    "name": "ipython",
    "version": 3
   },
   "file_extension": ".py",
   "mimetype": "text/x-python",
   "name": "python",
   "nbconvert_exporter": "python",
   "pygments_lexer": "ipython3",
   "version": "3.12.2"
  }
 },
 "nbformat": 4,
 "nbformat_minor": 2
}
