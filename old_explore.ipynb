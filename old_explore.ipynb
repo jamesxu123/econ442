{
 "cells": [
  {
   "cell_type": "code",
   "execution_count": 1,
   "metadata": {},
   "outputs": [],
   "source": [
    "import polars as pl\n",
    "import numpy as np"
   ]
  },
  {
   "cell_type": "code",
   "execution_count": 2,
   "metadata": {},
   "outputs": [],
   "source": [
    "df = pl.scan_parquet(\"data/combined_PISA_00_18_all.parquet\")"
   ]
  },
  {
   "cell_type": "code",
   "execution_count": 3,
   "metadata": {},
   "outputs": [
    {
     "data": {
      "text/plain": [
       "['index',\n",
       " 'year',\n",
       " 'country',\n",
       " 'school_id',\n",
       " 'student_id',\n",
       " 'mother_educ',\n",
       " 'father_educ',\n",
       " 'gender',\n",
       " 'computer',\n",
       " 'internet',\n",
       " 'math',\n",
       " 'read',\n",
       " 'science',\n",
       " 'stu_wgt',\n",
       " 'desk',\n",
       " 'room',\n",
       " 'dishwasher',\n",
       " 'television',\n",
       " 'computer_n',\n",
       " 'car',\n",
       " 'book',\n",
       " 'wealth',\n",
       " 'escs']"
      ]
     },
     "execution_count": 3,
     "metadata": {},
     "output_type": "execute_result"
    }
   ],
   "source": [
    "df.columns"
   ]
  },
  {
   "cell_type": "code",
   "execution_count": 4,
   "metadata": {},
   "outputs": [],
   "source": [
    "q2 = df.lazy().group_by(pl.col(\"year\")).agg(pl.quantile(\"math\", 0.99).alias(\"math99\"), pl.quantile(\"read\", 0.99).alias(\"read99\"), pl.quantile(\"science\", 0.99).alias(\"science99\")).sort(\"year\")\n",
    "# this computation is flawed - should use weighted quantile"
   ]
  },
  {
   "cell_type": "code",
   "execution_count": 5,
   "metadata": {},
   "outputs": [],
   "source": [
    "q = df.lazy().join(q2, on=\"year\").group_by(pl.col(\"year\"), pl.col(\"country\")).agg(pl.mean(\"math\"), pl.mean(\"read\"), pl.mean(\"science\"), (((pl.col(\"math\") > pl.col(\"math99\")) * 100 * pl.col(\"stu_wgt\")).sum() / pl.col(\"stu_wgt\").sum()).alias(\"in_math99\"))"
   ]
  },
  {
   "cell_type": "code",
   "execution_count": 6,
   "metadata": {},
   "outputs": [],
   "source": [
    "worldbank = pl.scan_parquet(\"data/worldbank_indicators.parquet\").with_columns(pl.col(\"Time\").cast(pl.Int64))"
   ]
  },
  {
   "cell_type": "code",
   "execution_count": 7,
   "metadata": {},
   "outputs": [],
   "source": [
    "merged = q.join(worldbank, left_on=[\"country\", \"year\"], right_on=[\"Country Code\", \"Time\"], how=\"left\")"
   ]
  },
  {
   "cell_type": "code",
   "execution_count": 8,
   "metadata": {},
   "outputs": [
    {
     "name": "stdout",
     "output_type": "stream",
     "text": [
      "LEFT JOIN:\n",
      "LEFT PLAN ON: [col(\"country\"), col(\"year\")]\n",
      "  AGGREGATE\n",
      "  \t[col(\"math\").mean(), col(\"read\").mean(), col(\"science\").mean(), [([([([(col(\"math\")) > (col(\"math99\"))].cast(Int32)) * (100)].cast(Float64)) * (col(\"stu_wgt\"))].sum()) / (col(\"stu_wgt\").sum())].alias(\"in_math99\")] BY [col(\"year\"), col(\"country\")] FROM\n",
      "    FAST_PROJECT: [year, math, read, science, math99, stu_wgt, country]\n",
      "      INNER JOIN:\n",
      "      LEFT PLAN ON: [col(\"year\")]\n",
      "        FAST_PROJECT: [year, math, read, science, stu_wgt, country]\n",
      "          CACHE[id: aa26a40801c8cd74, count: 1]\n",
      "\n",
      "              Parquet SCAN data/combined_PISA_00_18_all.parquet\n",
      "              PROJECT 6/23 COLUMNS\n",
      "      RIGHT PLAN ON: [col(\"year\")]\n",
      "        SORT BY [col(\"year\")]\n",
      "          AGGREGATE\n",
      "          \t[col(\"math\").quantile().alias(\"math99\"), col(\"read\").quantile().alias(\"read99\"), col(\"science\").quantile().alias(\"science99\")] BY [col(\"year\")] FROM\n",
      "            FAST_PROJECT: [year, math, read, science]\n",
      "              CACHE[id: aa26a40801c8cd74, count: 1]\n",
      "\n",
      "                  Parquet SCAN data/combined_PISA_00_18_all.parquet\n",
      "                  PROJECT 6/23 COLUMNS\n",
      "      END INNER JOIN\n",
      "RIGHT PLAN ON: [col(\"Country Code\"), col(\"Time\")]\n",
      "   WITH_COLUMNS:\n",
      "   [col(\"Time\").strict_cast(Int64)]\n",
      "\n",
      "      Parquet SCAN data/worldbank_indicators.parquet\n",
      "      PROJECT */8 COLUMNS\n",
      "END LEFT JOIN\n"
     ]
    }
   ],
   "source": [
    "print(merged.explain(optimized=True))"
   ]
  },
  {
   "cell_type": "code",
   "execution_count": 9,
   "metadata": {},
   "outputs": [],
   "source": [
    "df2 = merged.collect()"
   ]
  },
  {
   "cell_type": "code",
   "execution_count": 10,
   "metadata": {},
   "outputs": [
    {
     "data": {
      "text/html": [
       "<div><style>\n",
       ".dataframe > thead > tr,\n",
       ".dataframe > tbody > tr {\n",
       "  text-align: right;\n",
       "  white-space: pre-wrap;\n",
       "}\n",
       "</style>\n",
       "<small>shape: (6, 12)</small><table border=\"1\" class=\"dataframe\"><thead><tr><th>year</th><th>country</th><th>math</th><th>read</th><th>science</th><th>in_math99</th><th>gdp_pc</th><th>gdp_pc_growth</th><th>primary_completion</th><th>lower_sec_completion</th><th>upper_sec_completion</th><th>population</th></tr><tr><td>i64</td><td>str</td><td>f64</td><td>f64</td><td>f64</td><td>f64</td><td>f64</td><td>f64</td><td>f64</td><td>f64</td><td>f64</td><td>u64</td></tr></thead><tbody><tr><td>2000</td><td>&quot;USA&quot;</td><td>483.273001</td><td>495.653837</td><td>490.537116</td><td>0.321525</td><td>36329.956073</td><td>2.925441</td><td>null</td><td>null</td><td>null</td><td>282162411</td></tr><tr><td>2003</td><td>&quot;USA&quot;</td><td>481.961563</td><td>493.767805</td><td>490.007714</td><td>0.565479</td><td>39490.274956</td><td>1.91648</td><td>null</td><td>null</td><td>null</td><td>290107933</td></tr><tr><td>2006</td><td>&quot;USA&quot;</td><td>475.177462</td><td>null</td><td>488.291876</td><td>0.486487</td><td>46302.00088</td><td>1.796486</td><td>98.54126</td><td>94.191933</td><td>85.751007</td><td>298379912</td></tr><tr><td>2009</td><td>&quot;USA&quot;</td><td>485.637508</td><td>497.591875</td><td>499.626656</td><td>0.340298</td><td>47194.943355</td><td>-3.450016</td><td>98.594177</td><td>94.535217</td><td>86.709084</td><td>306771529</td></tr><tr><td>2012</td><td>&quot;USA&quot;</td><td>481.032476</td><td>497.471639</td><td>497.788388</td><td>0.401697</td><td>51784.418574</td><td>1.533102</td><td>98.790482</td><td>94.984489</td><td>87.6791</td><td>313877662</td></tr><tr><td>2018</td><td>&quot;USA&quot;</td><td>473.142717</td><td>500.15018</td><td>497.277201</td><td>0.427504</td><td>62823.309438</td><td>2.404868</td><td>99.031532</td><td>96.029373</td><td>89.805359</td><td>326838199</td></tr></tbody></table></div>"
      ],
      "text/plain": [
       "shape: (6, 12)\n",
       "┌──────┬─────────┬────────────┬────────────┬───┬────────────┬────────────┬────────────┬────────────┐\n",
       "│ year ┆ country ┆ math       ┆ read       ┆ … ┆ primary_co ┆ lower_sec_ ┆ upper_sec_ ┆ population │\n",
       "│ ---  ┆ ---     ┆ ---        ┆ ---        ┆   ┆ mpletion   ┆ completion ┆ completion ┆ ---        │\n",
       "│ i64  ┆ str     ┆ f64        ┆ f64        ┆   ┆ ---        ┆ ---        ┆ ---        ┆ u64        │\n",
       "│      ┆         ┆            ┆            ┆   ┆ f64        ┆ f64        ┆ f64        ┆            │\n",
       "╞══════╪═════════╪════════════╪════════════╪═══╪════════════╪════════════╪════════════╪════════════╡\n",
       "│ 2000 ┆ USA     ┆ 483.273001 ┆ 495.653837 ┆ … ┆ null       ┆ null       ┆ null       ┆ 282162411  │\n",
       "│ 2003 ┆ USA     ┆ 481.961563 ┆ 493.767805 ┆ … ┆ null       ┆ null       ┆ null       ┆ 290107933  │\n",
       "│ 2006 ┆ USA     ┆ 475.177462 ┆ null       ┆ … ┆ 98.54126   ┆ 94.191933  ┆ 85.751007  ┆ 298379912  │\n",
       "│ 2009 ┆ USA     ┆ 485.637508 ┆ 497.591875 ┆ … ┆ 98.594177  ┆ 94.535217  ┆ 86.709084  ┆ 306771529  │\n",
       "│ 2012 ┆ USA     ┆ 481.032476 ┆ 497.471639 ┆ … ┆ 98.790482  ┆ 94.984489  ┆ 87.6791    ┆ 313877662  │\n",
       "│ 2018 ┆ USA     ┆ 473.142717 ┆ 500.15018  ┆ … ┆ 99.031532  ┆ 96.029373  ┆ 89.805359  ┆ 326838199  │\n",
       "└──────┴─────────┴────────────┴────────────┴───┴────────────┴────────────┴────────────┴────────────┘"
      ]
     },
     "execution_count": 10,
     "metadata": {},
     "output_type": "execute_result"
    }
   ],
   "source": [
    "df2.filter(pl.col(\"country\") == \"USA\").sort(\"year\")"
   ]
  },
  {
   "cell_type": "code",
   "execution_count": 11,
   "metadata": {},
   "outputs": [
    {
     "data": {
      "text/html": [
       "<div><style>\n",
       ".dataframe > thead > tr,\n",
       ".dataframe > tbody > tr {\n",
       "  text-align: right;\n",
       "  white-space: pre-wrap;\n",
       "}\n",
       "</style>\n",
       "<small>shape: (6, 12)</small><table border=\"1\" class=\"dataframe\"><thead><tr><th>year</th><th>country</th><th>math</th><th>read</th><th>science</th><th>in_math99</th><th>gdp_pc</th><th>gdp_pc_growth</th><th>primary_completion</th><th>lower_sec_completion</th><th>upper_sec_completion</th><th>population</th></tr><tr><td>i64</td><td>str</td><td>f64</td><td>f64</td><td>f64</td><td>f64</td><td>f64</td><td>f64</td><td>f64</td><td>f64</td><td>f64</td><td>u64</td></tr></thead><tbody><tr><td>2000</td><td>&quot;CAN&quot;</td><td>522.717763</td><td>523.567877</td><td>520.791287</td><td>0.704775</td><td>24271.002056</td><td>4.163949</td><td>null</td><td>null</td><td>null</td><td>30685730</td></tr><tr><td>2003</td><td>&quot;CAN&quot;</td><td>521.631895</td><td>516.088253</td><td>508.497317</td><td>1.497084</td><td>28300.463096</td><td>0.892853</td><td>null</td><td>null</td><td>null</td><td>31644028</td></tr><tr><td>2006</td><td>&quot;CAN&quot;</td><td>517.446121</td><td>512.42873</td><td>522.5038</td><td>1.636177</td><td>40504.060725</td><td>1.606178</td><td>null</td><td>null</td><td>79.403389</td><td>32571174</td></tr><tr><td>2009</td><td>&quot;CAN&quot;</td><td>516.392387</td><td>511.531936</td><td>518.117041</td><td>1.597291</td><td>40876.310154</td><td>-4.017257</td><td>null</td><td>null</td><td>null</td><td>33628895</td></tr><tr><td>2012</td><td>&quot;CAN&quot;</td><td>509.328982</td><td>511.235906</td><td>514.712929</td><td>1.348539</td><td>52669.089963</td><td>0.656758</td><td>null</td><td>null</td><td>null</td><td>34714222</td></tr><tr><td>2018</td><td>&quot;CAN&quot;</td><td>503.450271</td><td>509.466476</td><td>509.894194</td><td>2.039556</td><td>46548.638411</td><td>1.301965</td><td>null</td><td>null</td><td>null</td><td>37065084</td></tr></tbody></table></div>"
      ],
      "text/plain": [
       "shape: (6, 12)\n",
       "┌──────┬─────────┬────────────┬────────────┬───┬────────────┬────────────┬────────────┬────────────┐\n",
       "│ year ┆ country ┆ math       ┆ read       ┆ … ┆ primary_co ┆ lower_sec_ ┆ upper_sec_ ┆ population │\n",
       "│ ---  ┆ ---     ┆ ---        ┆ ---        ┆   ┆ mpletion   ┆ completion ┆ completion ┆ ---        │\n",
       "│ i64  ┆ str     ┆ f64        ┆ f64        ┆   ┆ ---        ┆ ---        ┆ ---        ┆ u64        │\n",
       "│      ┆         ┆            ┆            ┆   ┆ f64        ┆ f64        ┆ f64        ┆            │\n",
       "╞══════╪═════════╪════════════╪════════════╪═══╪════════════╪════════════╪════════════╪════════════╡\n",
       "│ 2000 ┆ CAN     ┆ 522.717763 ┆ 523.567877 ┆ … ┆ null       ┆ null       ┆ null       ┆ 30685730   │\n",
       "│ 2003 ┆ CAN     ┆ 521.631895 ┆ 516.088253 ┆ … ┆ null       ┆ null       ┆ null       ┆ 31644028   │\n",
       "│ 2006 ┆ CAN     ┆ 517.446121 ┆ 512.42873  ┆ … ┆ null       ┆ null       ┆ 79.403389  ┆ 32571174   │\n",
       "│ 2009 ┆ CAN     ┆ 516.392387 ┆ 511.531936 ┆ … ┆ null       ┆ null       ┆ null       ┆ 33628895   │\n",
       "│ 2012 ┆ CAN     ┆ 509.328982 ┆ 511.235906 ┆ … ┆ null       ┆ null       ┆ null       ┆ 34714222   │\n",
       "│ 2018 ┆ CAN     ┆ 503.450271 ┆ 509.466476 ┆ … ┆ null       ┆ null       ┆ null       ┆ 37065084   │\n",
       "└──────┴─────────┴────────────┴────────────┴───┴────────────┴────────────┴────────────┴────────────┘"
      ]
     },
     "execution_count": 11,
     "metadata": {},
     "output_type": "execute_result"
    }
   ],
   "source": [
    "df2.filter(pl.col(\"country\").str.contains(\"CAN\")).sort(\"year\")"
   ]
  },
  {
   "cell_type": "code",
   "execution_count": 12,
   "metadata": {},
   "outputs": [
    {
     "data": {
      "text/plain": [
       "(360, 12)"
      ]
     },
     "execution_count": 12,
     "metadata": {},
     "output_type": "execute_result"
    }
   ],
   "source": [
    "df2.shape"
   ]
  },
  {
   "cell_type": "code",
   "execution_count": 13,
   "metadata": {},
   "outputs": [
    {
     "data": {
      "text/html": [
       "<div><style>\n",
       ".dataframe > thead > tr,\n",
       ".dataframe > tbody > tr {\n",
       "  text-align: right;\n",
       "  white-space: pre-wrap;\n",
       "}\n",
       "</style>\n",
       "<small>shape: (5, 12)</small><table border=\"1\" class=\"dataframe\"><thead><tr><th>year</th><th>country</th><th>math</th><th>read</th><th>science</th><th>in_math99</th><th>gdp_pc</th><th>gdp_pc_growth</th><th>primary_completion</th><th>lower_sec_completion</th><th>upper_sec_completion</th><th>population</th></tr><tr><td>i64</td><td>str</td><td>f64</td><td>f64</td><td>f64</td><td>f64</td><td>f64</td><td>f64</td><td>f64</td><td>f64</td><td>f64</td><td>u64</td></tr></thead><tbody><tr><td>2000</td><td>&quot;BGR&quot;</td><td>432.166333</td><td>424.442482</td><td>442.851508</td><td>0.337287</td><td>1621.262107</td><td>5.105057</td><td>null</td><td>null</td><td>null</td><td>8170172</td></tr><tr><td>2000</td><td>&quot;CHE&quot;</td><td>529.359372</td><td>497.897374</td><td>497.673435</td><td>0.970659</td><td>38865.02194</td><td>3.376157</td><td>null</td><td>null</td><td>null</td><td>7184250</td></tr><tr><td>2000</td><td>&quot;IRL&quot;</td><td>499.922874</td><td>525.052807</td><td>514.282774</td><td>0.137622</td><td>26334.567205</td><td>7.954806</td><td>null</td><td>null</td><td>null</td><td>3805174</td></tr><tr><td>2000</td><td>&quot;PRT&quot;</td><td>455.83801</td><td>476.354926</td><td>464.356791</td><td>0.029423</td><td>11526.372067</td><td>3.089054</td><td>78.558182</td><td>25.260309</td><td>15.77243</td><td>10289898</td></tr><tr><td>2000</td><td>&quot;THA&quot;</td><td>444.679506</td><td>435.85854</td><td>444.772084</td><td>0.024493</td><td>2004.107059</td><td>3.421815</td><td>null</td><td>null</td><td>null</td><td>63066603</td></tr></tbody></table></div>"
      ],
      "text/plain": [
       "shape: (5, 12)\n",
       "┌──────┬─────────┬────────────┬────────────┬───┬────────────┬────────────┬────────────┬────────────┐\n",
       "│ year ┆ country ┆ math       ┆ read       ┆ … ┆ primary_co ┆ lower_sec_ ┆ upper_sec_ ┆ population │\n",
       "│ ---  ┆ ---     ┆ ---        ┆ ---        ┆   ┆ mpletion   ┆ completion ┆ completion ┆ ---        │\n",
       "│ i64  ┆ str     ┆ f64        ┆ f64        ┆   ┆ ---        ┆ ---        ┆ ---        ┆ u64        │\n",
       "│      ┆         ┆            ┆            ┆   ┆ f64        ┆ f64        ┆ f64        ┆            │\n",
       "╞══════╪═════════╪════════════╪════════════╪═══╪════════════╪════════════╪════════════╪════════════╡\n",
       "│ 2000 ┆ BGR     ┆ 432.166333 ┆ 424.442482 ┆ … ┆ null       ┆ null       ┆ null       ┆ 8170172    │\n",
       "│ 2000 ┆ CHE     ┆ 529.359372 ┆ 497.897374 ┆ … ┆ null       ┆ null       ┆ null       ┆ 7184250    │\n",
       "│ 2000 ┆ IRL     ┆ 499.922874 ┆ 525.052807 ┆ … ┆ null       ┆ null       ┆ null       ┆ 3805174    │\n",
       "│ 2000 ┆ PRT     ┆ 455.83801  ┆ 476.354926 ┆ … ┆ 78.558182  ┆ 25.260309  ┆ 15.77243   ┆ 10289898   │\n",
       "│ 2000 ┆ THA     ┆ 444.679506 ┆ 435.85854  ┆ … ┆ null       ┆ null       ┆ null       ┆ 63066603   │\n",
       "└──────┴─────────┴────────────┴────────────┴───┴────────────┴────────────┴────────────┴────────────┘"
      ]
     },
     "execution_count": 13,
     "metadata": {},
     "output_type": "execute_result"
    }
   ],
   "source": [
    "df2.head()"
   ]
  },
  {
   "cell_type": "code",
   "execution_count": 14,
   "metadata": {},
   "outputs": [],
   "source": [
    "import statsmodels.formula.api as smf\n",
    "import pandas as pd"
   ]
  },
  {
   "cell_type": "code",
   "execution_count": 15,
   "metadata": {},
   "outputs": [],
   "source": [
    "pd_df = df2.to_pandas()"
   ]
  },
  {
   "cell_type": "code",
   "execution_count": 55,
   "metadata": {},
   "outputs": [
    {
     "data": {
      "text/html": [
       "<div><style>\n",
       ".dataframe > thead > tr,\n",
       ".dataframe > tbody > tr {\n",
       "  text-align: right;\n",
       "  white-space: pre-wrap;\n",
       "}\n",
       "</style>\n",
       "<small>shape: (9, 13)</small><table border=\"1\" class=\"dataframe\"><thead><tr><th>statistic</th><th>year</th><th>country</th><th>math</th><th>read</th><th>science</th><th>in_math99</th><th>gdp_pc</th><th>gdp_pc_growth</th><th>primary_completion</th><th>lower_sec_completion</th><th>upper_sec_completion</th><th>population</th></tr><tr><td>str</td><td>f64</td><td>str</td><td>f64</td><td>f64</td><td>f64</td><td>f64</td><td>f64</td><td>f64</td><td>f64</td><td>f64</td><td>f64</td><td>f64</td></tr></thead><tbody><tr><td>&quot;count&quot;</td><td>360.0</td><td>&quot;360&quot;</td><td>359.0</td><td>357.0</td><td>359.0</td><td>360.0</td><td>343.0</td><td>342.0</td><td>126.0</td><td>144.0</td><td>158.0</td><td>343.0</td></tr><tr><td>&quot;null_count&quot;</td><td>0.0</td><td>&quot;0&quot;</td><td>1.0</td><td>3.0</td><td>1.0</td><td>0.0</td><td>17.0</td><td>18.0</td><td>234.0</td><td>216.0</td><td>202.0</td><td>17.0</td></tr><tr><td>&quot;mean&quot;</td><td>2009.308333</td><td>null</td><td>469.566848</td><td>465.64966</td><td>471.923403</td><td>0.984724</td><td>27157.540836</td><td>1.655096</td><td>89.066682</td><td>74.660638</td><td>60.460062</td><td>3.6713e7</td></tr><tr><td>&quot;std&quot;</td><td>5.901413</td><td>null</td><td>57.846265</td><td>52.065152</td><td>52.738004</td><td>1.771274</td><td>24604.229288</td><td>4.392687</td><td>11.072305</td><td>21.041142</td><td>21.202768</td><td>5.9855e7</td></tr><tr><td>&quot;min&quot;</td><td>2000.0</td><td>&quot;ALB&quot;</td><td>315.963154</td><td>290.918937</td><td>326.40745</td><td>0.0</td><td>543.110702</td><td>-17.145394</td><td>51.353222</td><td>25.260309</td><td>15.77243</td><td>33026.0</td></tr><tr><td>&quot;25%&quot;</td><td>2006.0</td><td>null</td><td>426.894651</td><td>425.347082</td><td>429.386717</td><td>0.066259</td><td>8003.814493</td><td>-0.185773</td><td>81.543251</td><td>57.16</td><td>41.57</td><td>4.564855e6</td></tr><tr><td>&quot;50%&quot;</td><td>2009.0</td><td>null</td><td>486.185453</td><td>480.551538</td><td>487.156522</td><td>0.471216</td><td>20137.591222</td><td>1.92983</td><td>92.483467</td><td>79.658386</td><td>64.448914</td><td>1.0193798e7</td></tr><tr><td>&quot;75%&quot;</td><td>2012.0</td><td>null</td><td>511.663285</td><td>502.90935</td><td>510.583331</td><td>1.118103</td><td>40870.852365</td><td>3.953911</td><td>98.790482</td><td>94.448936</td><td>79.004883</td><td>4.4622518e7</td></tr><tr><td>&quot;max&quot;</td><td>2018.0</td><td>&quot;YUG&quot;</td><td>610.54703</td><td>567.419714</td><td>593.636845</td><td>16.089708</td><td>149461.785571</td><td>33.030488</td><td>100.0</td><td>99.816658</td><td>97.399788</td><td>3.26838199e8</td></tr></tbody></table></div>"
      ],
      "text/plain": [
       "shape: (9, 13)\n",
       "┌────────────┬───────────┬─────────┬───────────┬───┬───────────┬───────────┬───────────┬───────────┐\n",
       "│ statistic  ┆ year      ┆ country ┆ math      ┆ … ┆ primary_c ┆ lower_sec ┆ upper_sec ┆ populatio │\n",
       "│ ---        ┆ ---       ┆ ---     ┆ ---       ┆   ┆ ompletion ┆ _completi ┆ _completi ┆ n         │\n",
       "│ str        ┆ f64       ┆ str     ┆ f64       ┆   ┆ ---       ┆ on        ┆ on        ┆ ---       │\n",
       "│            ┆           ┆         ┆           ┆   ┆ f64       ┆ ---       ┆ ---       ┆ f64       │\n",
       "│            ┆           ┆         ┆           ┆   ┆           ┆ f64       ┆ f64       ┆           │\n",
       "╞════════════╪═══════════╪═════════╪═══════════╪═══╪═══════════╪═══════════╪═══════════╪═══════════╡\n",
       "│ count      ┆ 360.0     ┆ 360     ┆ 359.0     ┆ … ┆ 126.0     ┆ 144.0     ┆ 158.0     ┆ 343.0     │\n",
       "│ null_count ┆ 0.0       ┆ 0       ┆ 1.0       ┆ … ┆ 234.0     ┆ 216.0     ┆ 202.0     ┆ 17.0      │\n",
       "│ mean       ┆ 2009.3083 ┆ null    ┆ 469.56684 ┆ … ┆ 89.066682 ┆ 74.660638 ┆ 60.460062 ┆ 3.6713e7  │\n",
       "│            ┆ 33        ┆         ┆ 8         ┆   ┆           ┆           ┆           ┆           │\n",
       "│ std        ┆ 5.901413  ┆ null    ┆ 57.846265 ┆ … ┆ 11.072305 ┆ 21.041142 ┆ 21.202768 ┆ 5.9855e7  │\n",
       "│ min        ┆ 2000.0    ┆ ALB     ┆ 315.96315 ┆ … ┆ 51.353222 ┆ 25.260309 ┆ 15.77243  ┆ 33026.0   │\n",
       "│            ┆           ┆         ┆ 4         ┆   ┆           ┆           ┆           ┆           │\n",
       "│ 25%        ┆ 2006.0    ┆ null    ┆ 426.89465 ┆ … ┆ 81.543251 ┆ 57.16     ┆ 41.57     ┆ 4.564855e │\n",
       "│            ┆           ┆         ┆ 1         ┆   ┆           ┆           ┆           ┆ 6         │\n",
       "│ 50%        ┆ 2009.0    ┆ null    ┆ 486.18545 ┆ … ┆ 92.483467 ┆ 79.658386 ┆ 64.448914 ┆ 1.0193798 │\n",
       "│            ┆           ┆         ┆ 3         ┆   ┆           ┆           ┆           ┆ e7        │\n",
       "│ 75%        ┆ 2012.0    ┆ null    ┆ 511.66328 ┆ … ┆ 98.790482 ┆ 94.448936 ┆ 79.004883 ┆ 4.4622518 │\n",
       "│            ┆           ┆         ┆ 5         ┆   ┆           ┆           ┆           ┆ e7        │\n",
       "│ max        ┆ 2018.0    ┆ YUG     ┆ 610.54703 ┆ … ┆ 100.0     ┆ 99.816658 ┆ 97.399788 ┆ 3.2683819 │\n",
       "│            ┆           ┆         ┆           ┆   ┆           ┆           ┆           ┆ 9e8       │\n",
       "└────────────┴───────────┴─────────┴───────────┴───┴───────────┴───────────┴───────────┴───────────┘"
      ]
     },
     "execution_count": 55,
     "metadata": {},
     "output_type": "execute_result"
    }
   ],
   "source": [
    "df2.describe()"
   ]
  },
  {
   "cell_type": "code",
   "execution_count": 59,
   "metadata": {},
   "outputs": [
    {
     "data": {
      "text/html": [
       "<div>\n",
       "<style scoped>\n",
       "    .dataframe tbody tr th:only-of-type {\n",
       "        vertical-align: middle;\n",
       "    }\n",
       "\n",
       "    .dataframe tbody tr th {\n",
       "        vertical-align: top;\n",
       "    }\n",
       "\n",
       "    .dataframe thead th {\n",
       "        text-align: right;\n",
       "    }\n",
       "</style>\n",
       "<table border=\"1\" class=\"dataframe\">\n",
       "  <thead>\n",
       "    <tr style=\"text-align: right;\">\n",
       "      <th></th>\n",
       "      <th>math</th>\n",
       "      <th>read</th>\n",
       "      <th>science</th>\n",
       "      <th>in_math99</th>\n",
       "      <th>gdp_pc</th>\n",
       "      <th>gdp_pc_growth</th>\n",
       "    </tr>\n",
       "  </thead>\n",
       "  <tbody>\n",
       "    <tr>\n",
       "      <th>math</th>\n",
       "      <td>1.000000</td>\n",
       "      <td>0.942113</td>\n",
       "      <td>0.966018</td>\n",
       "      <td>0.596006</td>\n",
       "      <td>0.501018</td>\n",
       "      <td>-0.029224</td>\n",
       "    </tr>\n",
       "    <tr>\n",
       "      <th>read</th>\n",
       "      <td>0.942113</td>\n",
       "      <td>1.000000</td>\n",
       "      <td>0.970027</td>\n",
       "      <td>0.509521</td>\n",
       "      <td>0.478101</td>\n",
       "      <td>-0.119945</td>\n",
       "    </tr>\n",
       "    <tr>\n",
       "      <th>science</th>\n",
       "      <td>0.966018</td>\n",
       "      <td>0.970027</td>\n",
       "      <td>1.000000</td>\n",
       "      <td>0.540994</td>\n",
       "      <td>0.464683</td>\n",
       "      <td>-0.097748</td>\n",
       "    </tr>\n",
       "    <tr>\n",
       "      <th>in_math99</th>\n",
       "      <td>0.596006</td>\n",
       "      <td>0.509521</td>\n",
       "      <td>0.540994</td>\n",
       "      <td>1.000000</td>\n",
       "      <td>0.392876</td>\n",
       "      <td>-0.060483</td>\n",
       "    </tr>\n",
       "    <tr>\n",
       "      <th>gdp_pc</th>\n",
       "      <td>0.501018</td>\n",
       "      <td>0.478101</td>\n",
       "      <td>0.464683</td>\n",
       "      <td>0.392876</td>\n",
       "      <td>1.000000</td>\n",
       "      <td>-0.196734</td>\n",
       "    </tr>\n",
       "    <tr>\n",
       "      <th>gdp_pc_growth</th>\n",
       "      <td>-0.029224</td>\n",
       "      <td>-0.119945</td>\n",
       "      <td>-0.097748</td>\n",
       "      <td>-0.060483</td>\n",
       "      <td>-0.196734</td>\n",
       "      <td>1.000000</td>\n",
       "    </tr>\n",
       "  </tbody>\n",
       "</table>\n",
       "</div>"
      ],
      "text/plain": [
       "                   math      read   science  in_math99    gdp_pc  \\\n",
       "math           1.000000  0.942113  0.966018   0.596006  0.501018   \n",
       "read           0.942113  1.000000  0.970027   0.509521  0.478101   \n",
       "science        0.966018  0.970027  1.000000   0.540994  0.464683   \n",
       "in_math99      0.596006  0.509521  0.540994   1.000000  0.392876   \n",
       "gdp_pc         0.501018  0.478101  0.464683   0.392876  1.000000   \n",
       "gdp_pc_growth -0.029224 -0.119945 -0.097748  -0.060483 -0.196734   \n",
       "\n",
       "               gdp_pc_growth  \n",
       "math               -0.029224  \n",
       "read               -0.119945  \n",
       "science            -0.097748  \n",
       "in_math99          -0.060483  \n",
       "gdp_pc             -0.196734  \n",
       "gdp_pc_growth       1.000000  "
      ]
     },
     "execution_count": 59,
     "metadata": {},
     "output_type": "execute_result"
    }
   ],
   "source": [
    "pd_df[[\"math\", \"read\", \"science\", \"in_math99\", \"gdp_pc\", \"gdp_pc_growth\"]].corr()"
   ]
  },
  {
   "cell_type": "code",
   "execution_count": 16,
   "metadata": {},
   "outputs": [],
   "source": [
    "import plotly.express as px"
   ]
  },
  {
   "cell_type": "code",
   "execution_count": 65,
   "metadata": {},
   "outputs": [
    {
     "data": {
      "text/html": [
       "<table class=\"simpletable\">\n",
       "<caption>OLS Regression Results</caption>\n",
       "<tr>\n",
       "  <th>Dep. Variable:</th>      <td>gdp_pc_growth</td>  <th>  R-squared:         </th> <td>   0.542</td>\n",
       "</tr>\n",
       "<tr>\n",
       "  <th>Model:</th>                   <td>OLS</td>       <th>  Adj. R-squared:    </th> <td>   0.526</td>\n",
       "</tr>\n",
       "<tr>\n",
       "  <th>Method:</th>             <td>Least Squares</td>  <th>  F-statistic:       </th> <td>   35.15</td>\n",
       "</tr>\n",
       "<tr>\n",
       "  <th>Date:</th>             <td>Tue, 26 Mar 2024</td> <th>  Prob (F-statistic):</th> <td>4.69e-49</td>\n",
       "</tr>\n",
       "<tr>\n",
       "  <th>Time:</th>                 <td>14:24:36</td>     <th>  Log-Likelihood:    </th> <td> -850.83</td>\n",
       "</tr>\n",
       "<tr>\n",
       "  <th>No. Observations:</th>      <td>   339</td>      <th>  AIC:               </th> <td>   1726.</td>\n",
       "</tr>\n",
       "<tr>\n",
       "  <th>Df Residuals:</th>          <td>   327</td>      <th>  BIC:               </th> <td>   1772.</td>\n",
       "</tr>\n",
       "<tr>\n",
       "  <th>Df Model:</th>              <td>    11</td>      <th>                     </th>     <td> </td>   \n",
       "</tr>\n",
       "<tr>\n",
       "  <th>Covariance Type:</th>      <td>nonrobust</td>    <th>                     </th>     <td> </td>   \n",
       "</tr>\n",
       "</table>\n",
       "<table class=\"simpletable\">\n",
       "<tr>\n",
       "         <td></td>            <th>coef</th>     <th>std err</th>      <th>t</th>      <th>P>|t|</th>  <th>[0.025</th>    <th>0.975]</th>  \n",
       "</tr>\n",
       "<tr>\n",
       "  <th>Intercept</th>       <td>    9.2274</td> <td>    2.127</td> <td>    4.339</td> <td> 0.000</td> <td>    5.043</td> <td>   13.411</td>\n",
       "</tr>\n",
       "<tr>\n",
       "  <th>C(year)[T.2003]</th> <td>   -1.5882</td> <td>    0.685</td> <td>   -2.318</td> <td> 0.021</td> <td>   -2.936</td> <td>   -0.240</td>\n",
       "</tr>\n",
       "<tr>\n",
       "  <th>C(year)[T.2006]</th> <td>    1.2696</td> <td>    0.657</td> <td>    1.934</td> <td> 0.054</td> <td>   -0.022</td> <td>    2.561</td>\n",
       "</tr>\n",
       "<tr>\n",
       "  <th>C(year)[T.2009]</th> <td>   -7.2723</td> <td>    0.625</td> <td>  -11.635</td> <td> 0.000</td> <td>   -8.502</td> <td>   -6.043</td>\n",
       "</tr>\n",
       "<tr>\n",
       "  <th>C(year)[T.2012]</th> <td>   -2.1079</td> <td>    0.636</td> <td>   -3.312</td> <td> 0.001</td> <td>   -3.360</td> <td>   -0.856</td>\n",
       "</tr>\n",
       "<tr>\n",
       "  <th>C(year)[T.2018]</th> <td>   -1.5439</td> <td>    0.618</td> <td>   -2.498</td> <td> 0.013</td> <td>   -2.760</td> <td>   -0.328</td>\n",
       "</tr>\n",
       "<tr>\n",
       "  <th>gdp_pc</th>          <td>-3.685e-05</td> <td> 8.38e-06</td> <td>   -4.397</td> <td> 0.000</td> <td>-5.33e-05</td> <td>-2.04e-05</td>\n",
       "</tr>\n",
       "<tr>\n",
       "  <th>math</th>            <td>    0.0809</td> <td>    0.013</td> <td>    6.345</td> <td> 0.000</td> <td>    0.056</td> <td>    0.106</td>\n",
       "</tr>\n",
       "<tr>\n",
       "  <th>read</th>            <td>   -0.0315</td> <td>    0.014</td> <td>   -2.291</td> <td> 0.023</td> <td>   -0.059</td> <td>   -0.004</td>\n",
       "</tr>\n",
       "<tr>\n",
       "  <th>science</th>         <td>   -0.0589</td> <td>    0.018</td> <td>   -3.354</td> <td> 0.001</td> <td>   -0.093</td> <td>   -0.024</td>\n",
       "</tr>\n",
       "<tr>\n",
       "  <th>in_math99</th>       <td>    0.0011</td> <td>    0.189</td> <td>    0.006</td> <td> 0.995</td> <td>   -0.371</td> <td>    0.373</td>\n",
       "</tr>\n",
       "<tr>\n",
       "  <th>population</th>      <td> 2.605e-09</td> <td> 2.95e-09</td> <td>    0.882</td> <td> 0.378</td> <td> -3.2e-09</td> <td> 8.41e-09</td>\n",
       "</tr>\n",
       "</table>\n",
       "<table class=\"simpletable\">\n",
       "<tr>\n",
       "  <th>Omnibus:</th>       <td>53.831</td> <th>  Durbin-Watson:     </th> <td>   2.044</td>\n",
       "</tr>\n",
       "<tr>\n",
       "  <th>Prob(Omnibus):</th> <td> 0.000</td> <th>  Jarque-Bera (JB):  </th> <td> 355.973</td>\n",
       "</tr>\n",
       "<tr>\n",
       "  <th>Skew:</th>          <td> 0.407</td> <th>  Prob(JB):          </th> <td>5.03e-78</td>\n",
       "</tr>\n",
       "<tr>\n",
       "  <th>Kurtosis:</th>      <td> 7.954</td> <th>  Cond. No.          </th> <td>9.13e+08</td>\n",
       "</tr>\n",
       "</table><br/><br/>Notes:<br/>[1] Standard Errors assume that the covariance matrix of the errors is correctly specified.<br/>[2] The condition number is large, 9.13e+08. This might indicate that there are<br/>strong multicollinearity or other numerical problems."
      ],
      "text/latex": [
       "\\begin{center}\n",
       "\\begin{tabular}{lclc}\n",
       "\\toprule\n",
       "\\textbf{Dep. Variable:}    & gdp\\_pc\\_growth  & \\textbf{  R-squared:         } &     0.542   \\\\\n",
       "\\textbf{Model:}            &       OLS        & \\textbf{  Adj. R-squared:    } &     0.526   \\\\\n",
       "\\textbf{Method:}           &  Least Squares   & \\textbf{  F-statistic:       } &     35.15   \\\\\n",
       "\\textbf{Date:}             & Tue, 26 Mar 2024 & \\textbf{  Prob (F-statistic):} &  4.69e-49   \\\\\n",
       "\\textbf{Time:}             &     14:24:36     & \\textbf{  Log-Likelihood:    } &   -850.83   \\\\\n",
       "\\textbf{No. Observations:} &         339      & \\textbf{  AIC:               } &     1726.   \\\\\n",
       "\\textbf{Df Residuals:}     &         327      & \\textbf{  BIC:               } &     1772.   \\\\\n",
       "\\textbf{Df Model:}         &          11      & \\textbf{                     } &             \\\\\n",
       "\\textbf{Covariance Type:}  &    nonrobust     & \\textbf{                     } &             \\\\\n",
       "\\bottomrule\n",
       "\\end{tabular}\n",
       "\\begin{tabular}{lcccccc}\n",
       "                         & \\textbf{coef} & \\textbf{std err} & \\textbf{t} & \\textbf{P$> |$t$|$} & \\textbf{[0.025} & \\textbf{0.975]}  \\\\\n",
       "\\midrule\n",
       "\\textbf{Intercept}       &       9.2274  &        2.127     &     4.339  &         0.000        &        5.043    &       13.411     \\\\\n",
       "\\textbf{C(year)[T.2003]} &      -1.5882  &        0.685     &    -2.318  &         0.021        &       -2.936    &       -0.240     \\\\\n",
       "\\textbf{C(year)[T.2006]} &       1.2696  &        0.657     &     1.934  &         0.054        &       -0.022    &        2.561     \\\\\n",
       "\\textbf{C(year)[T.2009]} &      -7.2723  &        0.625     &   -11.635  &         0.000        &       -8.502    &       -6.043     \\\\\n",
       "\\textbf{C(year)[T.2012]} &      -2.1079  &        0.636     &    -3.312  &         0.001        &       -3.360    &       -0.856     \\\\\n",
       "\\textbf{C(year)[T.2018]} &      -1.5439  &        0.618     &    -2.498  &         0.013        &       -2.760    &       -0.328     \\\\\n",
       "\\textbf{gdp\\_pc}         &   -3.685e-05  &     8.38e-06     &    -4.397  &         0.000        &    -5.33e-05    &    -2.04e-05     \\\\\n",
       "\\textbf{math}            &       0.0809  &        0.013     &     6.345  &         0.000        &        0.056    &        0.106     \\\\\n",
       "\\textbf{read}            &      -0.0315  &        0.014     &    -2.291  &         0.023        &       -0.059    &       -0.004     \\\\\n",
       "\\textbf{science}         &      -0.0589  &        0.018     &    -3.354  &         0.001        &       -0.093    &       -0.024     \\\\\n",
       "\\textbf{in\\_math99}      &       0.0011  &        0.189     &     0.006  &         0.995        &       -0.371    &        0.373     \\\\\n",
       "\\textbf{population}      &    2.605e-09  &     2.95e-09     &     0.882  &         0.378        &     -3.2e-09    &     8.41e-09     \\\\\n",
       "\\bottomrule\n",
       "\\end{tabular}\n",
       "\\begin{tabular}{lclc}\n",
       "\\textbf{Omnibus:}       & 53.831 & \\textbf{  Durbin-Watson:     } &    2.044  \\\\\n",
       "\\textbf{Prob(Omnibus):} &  0.000 & \\textbf{  Jarque-Bera (JB):  } &  355.973  \\\\\n",
       "\\textbf{Skew:}          &  0.407 & \\textbf{  Prob(JB):          } & 5.03e-78  \\\\\n",
       "\\textbf{Kurtosis:}      &  7.954 & \\textbf{  Cond. No.          } & 9.13e+08  \\\\\n",
       "\\bottomrule\n",
       "\\end{tabular}\n",
       "%\\caption{OLS Regression Results}\n",
       "\\end{center}\n",
       "\n",
       "Notes: \\newline\n",
       " [1] Standard Errors assume that the covariance matrix of the errors is correctly specified. \\newline\n",
       " [2] The condition number is large, 9.13e+08. This might indicate that there are \\newline\n",
       " strong multicollinearity or other numerical problems."
      ],
      "text/plain": [
       "<class 'statsmodels.iolib.summary.Summary'>\n",
       "\"\"\"\n",
       "                            OLS Regression Results                            \n",
       "==============================================================================\n",
       "Dep. Variable:          gdp_pc_growth   R-squared:                       0.542\n",
       "Model:                            OLS   Adj. R-squared:                  0.526\n",
       "Method:                 Least Squares   F-statistic:                     35.15\n",
       "Date:                Tue, 26 Mar 2024   Prob (F-statistic):           4.69e-49\n",
       "Time:                        14:24:36   Log-Likelihood:                -850.83\n",
       "No. Observations:                 339   AIC:                             1726.\n",
       "Df Residuals:                     327   BIC:                             1772.\n",
       "Df Model:                          11                                         \n",
       "Covariance Type:            nonrobust                                         \n",
       "===================================================================================\n",
       "                      coef    std err          t      P>|t|      [0.025      0.975]\n",
       "-----------------------------------------------------------------------------------\n",
       "Intercept           9.2274      2.127      4.339      0.000       5.043      13.411\n",
       "C(year)[T.2003]    -1.5882      0.685     -2.318      0.021      -2.936      -0.240\n",
       "C(year)[T.2006]     1.2696      0.657      1.934      0.054      -0.022       2.561\n",
       "C(year)[T.2009]    -7.2723      0.625    -11.635      0.000      -8.502      -6.043\n",
       "C(year)[T.2012]    -2.1079      0.636     -3.312      0.001      -3.360      -0.856\n",
       "C(year)[T.2018]    -1.5439      0.618     -2.498      0.013      -2.760      -0.328\n",
       "gdp_pc          -3.685e-05   8.38e-06     -4.397      0.000   -5.33e-05   -2.04e-05\n",
       "math                0.0809      0.013      6.345      0.000       0.056       0.106\n",
       "read               -0.0315      0.014     -2.291      0.023      -0.059      -0.004\n",
       "science            -0.0589      0.018     -3.354      0.001      -0.093      -0.024\n",
       "in_math99           0.0011      0.189      0.006      0.995      -0.371       0.373\n",
       "population       2.605e-09   2.95e-09      0.882      0.378    -3.2e-09    8.41e-09\n",
       "==============================================================================\n",
       "Omnibus:                       53.831   Durbin-Watson:                   2.044\n",
       "Prob(Omnibus):                  0.000   Jarque-Bera (JB):              355.973\n",
       "Skew:                           0.407   Prob(JB):                     5.03e-78\n",
       "Kurtosis:                       7.954   Cond. No.                     9.13e+08\n",
       "==============================================================================\n",
       "\n",
       "Notes:\n",
       "[1] Standard Errors assume that the covariance matrix of the errors is correctly specified.\n",
       "[2] The condition number is large, 9.13e+08. This might indicate that there are\n",
       "strong multicollinearity or other numerical problems.\n",
       "\"\"\""
      ]
     },
     "execution_count": 65,
     "metadata": {},
     "output_type": "execute_result"
    }
   ],
   "source": [
    "smf.ols(\"gdp_pc_growth ~ gdp_pc + math + read + science + in_math99 + population + C(year)\", pd_df).fit().summary()"
   ]
  },
  {
   "cell_type": "code",
   "execution_count": 68,
   "metadata": {},
   "outputs": [
    {
     "data": {
      "application/vnd.plotly.v1+json": {
       "config": {
        "plotlyServerURL": "https://plot.ly"
       },
       "data": [
        {
         "customdata": [
          [
           "BGR",
           2000
          ],
          [
           "CHE",
           2000
          ],
          [
           "IRL",
           2000
          ],
          [
           "PRT",
           2000
          ],
          [
           "THA",
           2000
          ],
          [
           "AUT",
           2003
          ],
          [
           "DNK",
           2003
          ],
          [
           "LVA",
           2003
          ],
          [
           "LIE",
           2003
          ],
          [
           "LUX",
           2003
          ],
          [
           "LVA",
           2006
          ],
          [
           "LIE",
           2006
          ],
          [
           "QAT",
           2006
          ],
          [
           "SWE",
           2006
          ],
          [
           "TUR",
           2006
          ],
          [
           "GBR",
           2006
          ],
          [
           "AUT",
           2009
          ],
          [
           "CHL",
           2009
          ],
          [
           "QCN",
           2009
          ],
          [
           "JPN",
           2009
          ],
          [
           "LIE",
           2009
          ],
          [
           "LUX",
           2009
          ],
          [
           "TTO",
           2009
          ],
          [
           "ARE",
           2012
          ],
          [
           "KAZ",
           2012
          ],
          [
           "VNM",
           2012
          ],
          [
           "ARG",
           2018
          ],
          [
           "CAN",
           2018
          ],
          [
           "CZE",
           2018
          ],
          [
           "HRV",
           2018
          ],
          [
           "LTU",
           2018
          ],
          [
           "MLT",
           2018
          ],
          [
           "SRB",
           2018
          ],
          [
           "UKR",
           2018
          ],
          [
           "CZE",
           2000
          ],
          [
           "HUN",
           2000
          ],
          [
           "ISL",
           2000
          ],
          [
           "MEX",
           2000
          ],
          [
           "NZL",
           2000
          ],
          [
           "PER",
           2000
          ],
          [
           "POL",
           2000
          ],
          [
           "JPN",
           2003
          ],
          [
           "KOR",
           2003
          ],
          [
           "GBR",
           2003
          ],
          [
           "URY",
           2003
          ],
          [
           "EST",
           2006
          ],
          [
           "LUX",
           2006
          ],
          [
           "URY",
           2006
          ],
          [
           "ALB",
           2009
          ],
          [
           "HRV",
           2009
          ],
          [
           "DNK",
           2009
          ],
          [
           "KOR",
           2009
          ],
          [
           "LTU",
           2009
          ],
          [
           "SRB",
           2009
          ],
          [
           "GBR",
           2009
          ],
          [
           "MDA",
           2009
          ],
          [
           "QVE",
           2009
          ],
          [
           "BEL",
           2012
          ],
          [
           "ESP",
           2012
          ],
          [
           "HKG",
           2012
          ],
          [
           "IDN",
           2012
          ],
          [
           "NLD",
           2012
          ],
          [
           "RUS",
           2012
          ],
          [
           "SVN",
           2012
          ],
          [
           "TAP",
           2012
          ],
          [
           "TUN",
           2012
          ],
          [
           "FIN",
           2018
          ],
          [
           "FRA",
           2018
          ],
          [
           "ISL",
           2018
          ],
          [
           "ITA",
           2018
          ],
          [
           "NOR",
           2018
          ],
          [
           "PHL",
           2018
          ],
          [
           "QCI",
           2018
          ],
          [
           "QMR",
           2018
          ],
          [
           "QRT",
           2018
          ],
          [
           "SAU",
           2018
          ],
          [
           "ALB",
           2000
          ],
          [
           "AUS",
           2000
          ],
          [
           "BRA",
           2000
          ],
          [
           "CHL",
           2000
          ],
          [
           "DNK",
           2000
          ],
          [
           "BRA",
           2003
          ],
          [
           "AUT",
           2006
          ],
          [
           "CAN",
           2006
          ],
          [
           "CZE",
           2006
          ],
          [
           "HKG",
           2006
          ],
          [
           "ISL",
           2006
          ],
          [
           "KOR",
           2006
          ],
          [
           "SRB",
           2006
          ],
          [
           "BRA",
           2009
          ],
          [
           "NOR",
           2009
          ],
          [
           "ESP",
           2009
          ],
          [
           "THA",
           2009
          ],
          [
           "URY",
           2009
          ],
          [
           "CRI",
           2009
          ],
          [
           "QTN",
           2009
          ],
          [
           "CRI",
           2012
          ],
          [
           "DEU",
           2012
          ],
          [
           "GRC",
           2012
          ],
          [
           "MAC",
           2012
          ],
          [
           "ROU",
           2012
          ],
          [
           "AUS",
           2018
          ],
          [
           "BLR",
           2018
          ],
          [
           "CHE",
           2018
          ],
          [
           "CHL",
           2018
          ],
          [
           "DNK",
           2018
          ],
          [
           "GRC",
           2018
          ],
          [
           "HUN",
           2018
          ],
          [
           "IRL",
           2018
          ],
          [
           "ISR",
           2018
          ],
          [
           "JPN",
           2018
          ],
          [
           "LBN",
           2018
          ],
          [
           "MKD",
           2018
          ],
          [
           "PER",
           2018
          ],
          [
           "PRT",
           2018
          ],
          [
           "QAZ",
           2018
          ],
          [
           "SGP",
           2018
          ],
          [
           "TUR",
           2018
          ],
          [
           "AUT",
           2000
          ],
          [
           "ITA",
           2000
          ],
          [
           "CAN",
           2003
          ],
          [
           "NOR",
           2003
          ],
          [
           "POL",
           2003
          ],
          [
           "PRT",
           2003
          ],
          [
           "ESP",
           2003
          ],
          [
           "SWE",
           2003
          ],
          [
           "CHE",
           2003
          ],
          [
           "ARG",
           2006
          ],
          [
           "NLD",
           2006
          ],
          [
           "SVN",
           2006
          ],
          [
           "CAN",
           2009
          ],
          [
           "EST",
           2009
          ],
          [
           "KGZ",
           2009
          ],
          [
           "POL",
           2009
          ],
          [
           "PRT",
           2009
          ],
          [
           "SGP",
           2009
          ],
          [
           "SWE",
           2009
          ],
          [
           "CHE",
           2009
          ],
          [
           "MUS",
           2009
          ],
          [
           "MYS",
           2012
          ],
          [
           "QAT",
           2012
          ],
          [
           "USA",
           2012
          ],
          [
           "AUT",
           2018
          ],
          [
           "BGR",
           2018
          ],
          [
           "DOM",
           2018
          ],
          [
           "GBR",
           2018
          ],
          [
           "JOR",
           2018
          ],
          [
           "LVA",
           2018
          ],
          [
           "MAR",
           2018
          ],
          [
           "MNE",
           2018
          ],
          [
           "SVK",
           2018
          ],
          [
           "SWE",
           2018
          ],
          [
           "TAP",
           2018
          ],
          [
           "FRA",
           2000
          ],
          [
           "GBR",
           2000
          ],
          [
           "GRC",
           2000
          ],
          [
           "IDN",
           2000
          ],
          [
           "ISR",
           2000
          ],
          [
           "MKD",
           2000
          ],
          [
           "CZE",
           2003
          ],
          [
           "FIN",
           2003
          ],
          [
           "ISL",
           2003
          ],
          [
           "TUR",
           2003
          ],
          [
           "BEL",
           2006
          ],
          [
           "FIN",
           2006
          ],
          [
           "JPN",
           2006
          ],
          [
           "JOR",
           2006
          ],
          [
           "KGZ",
           2006
          ],
          [
           "NOR",
           2006
          ],
          [
           "PRT",
           2006
          ],
          [
           "ESP",
           2006
          ],
          [
           "CHE",
           2006
          ],
          [
           "ARG",
           2009
          ],
          [
           "CZE",
           2009
          ],
          [
           "FIN",
           2009
          ],
          [
           "ISL",
           2009
          ],
          [
           "JOR",
           2009
          ],
          [
           "LVA",
           2009
          ],
          [
           "SVN",
           2009
          ],
          [
           "TUR",
           2009
          ],
          [
           "MLT",
           2009
          ],
          [
           "COL",
           2012
          ],
          [
           "LUX",
           2012
          ],
          [
           "MEX",
           2012
          ],
          [
           "NZL",
           2012
          ],
          [
           "ALB",
           2018
          ],
          [
           "ARE",
           2018
          ],
          [
           "BRA",
           2018
          ],
          [
           "EST",
           2018
          ],
          [
           "KOR",
           2018
          ],
          [
           "POL",
           2018
          ],
          [
           "THA",
           2018
          ],
          [
           "ESP",
           2000
          ],
          [
           "KOR",
           2000
          ],
          [
           "USA",
           2000
          ],
          [
           "AUS",
           2003
          ],
          [
           "BEL",
           2003
          ],
          [
           "MEX",
           2003
          ],
          [
           "NLD",
           2003
          ],
          [
           "RUS",
           2003
          ],
          [
           "TUN",
           2003
          ],
          [
           "AUS",
           2006
          ],
          [
           "BGR",
           2006
          ],
          [
           "DEU",
           2006
          ],
          [
           "GRC",
           2006
          ],
          [
           "HUN",
           2006
          ],
          [
           "ISR",
           2006
          ],
          [
           "MEX",
           2006
          ],
          [
           "RUS",
           2006
          ],
          [
           "SVK",
           2006
          ],
          [
           "AUS",
           2009
          ],
          [
           "BEL",
           2009
          ],
          [
           "NLD",
           2009
          ],
          [
           "ALB",
           2012
          ],
          [
           "ARG",
           2012
          ],
          [
           "CAN",
           2012
          ],
          [
           "ISL",
           2012
          ],
          [
           "LTU",
           2012
          ],
          [
           "QRS",
           2012
          ],
          [
           "SRB",
           2012
          ],
          [
           "URY",
           2012
          ],
          [
           "COL",
           2018
          ],
          [
           "HKG",
           2018
          ],
          [
           "IDN",
           2018
          ],
          [
           "KAZ",
           2018
          ],
          [
           "PAN",
           2018
          ],
          [
           "SVN",
           2018
          ],
          [
           "VNM",
           2018
          ],
          [
           "LVA",
           2000
          ],
          [
           "ROM",
           2000
          ],
          [
           "SWE",
           2000
          ],
          [
           "DEU",
           2003
          ],
          [
           "GRC",
           2003
          ],
          [
           "SVK",
           2003
          ],
          [
           "YUG",
           2003
          ],
          [
           "BRA",
           2006
          ],
          [
           "TAP",
           2006
          ],
          [
           "MNE",
           2006
          ],
          [
           "THA",
           2006
          ],
          [
           "TUN",
           2006
          ],
          [
           "BGR",
           2009
          ],
          [
           "DEU",
           2009
          ],
          [
           "GRC",
           2009
          ],
          [
           "HUN",
           2009
          ],
          [
           "IDN",
           2009
          ],
          [
           "ISR",
           2009
          ],
          [
           "MEX",
           2009
          ],
          [
           "PAN",
           2009
          ],
          [
           "PER",
           2009
          ],
          [
           "ROU",
           2009
          ],
          [
           "SVK",
           2009
          ],
          [
           "TUN",
           2009
          ],
          [
           "ARE",
           2009
          ],
          [
           "CZE",
           2012
          ],
          [
           "FIN",
           2012
          ],
          [
           "FRA",
           2012
          ],
          [
           "HRV",
           2012
          ],
          [
           "ITA",
           2012
          ],
          [
           "LIE",
           2012
          ],
          [
           "ESP",
           2018
          ],
          [
           "NLD",
           2018
          ],
          [
           "ROU",
           2018
          ],
          [
           "ARG",
           2000
          ],
          [
           "BEL",
           2000
          ],
          [
           "LUX",
           2000
          ],
          [
           "FRA",
           2003
          ],
          [
           "HKG",
           2003
          ],
          [
           "HUN",
           2003
          ],
          [
           "ITA",
           2003
          ],
          [
           "THA",
           2003
          ],
          [
           "HRV",
           2006
          ],
          [
           "IDN",
           2006
          ],
          [
           "NZL",
           2006
          ],
          [
           "POL",
           2006
          ],
          [
           "TAP",
           2009
          ],
          [
           "COL",
           2009
          ],
          [
           "FRA",
           2009
          ],
          [
           "HKG",
           2009
          ],
          [
           "ITA",
           2009
          ],
          [
           "MNE",
           2009
          ],
          [
           "RUS",
           2009
          ],
          [
           "GEO",
           2009
          ],
          [
           "BGR",
           2012
          ],
          [
           "CHE",
           2012
          ],
          [
           "CHL",
           2012
          ],
          [
           "DNK",
           2012
          ],
          [
           "GBR",
           2012
          ],
          [
           "IRL",
           2012
          ],
          [
           "ISR",
           2012
          ],
          [
           "JPN",
           2012
          ],
          [
           "KOR",
           2012
          ],
          [
           "NOR",
           2012
          ],
          [
           "PRT",
           2012
          ],
          [
           "SGP",
           2012
          ],
          [
           "SVK",
           2012
          ],
          [
           "SWE",
           2012
          ],
          [
           "TUR",
           2012
          ],
          [
           "BEL",
           2018
          ],
          [
           "BRN",
           2018
          ],
          [
           "DEU",
           2018
          ],
          [
           "MAC",
           2018
          ],
          [
           "MDA",
           2018
          ],
          [
           "CAN",
           2000
          ],
          [
           "FIN",
           2000
          ],
          [
           "HKG",
           2000
          ],
          [
           "JPN",
           2000
          ],
          [
           "IDN",
           2003
          ],
          [
           "IRL",
           2003
          ],
          [
           "MAC",
           2003
          ],
          [
           "NZL",
           2003
          ],
          [
           "AZE",
           2006
          ],
          [
           "COL",
           2006
          ],
          [
           "IRL",
           2006
          ],
          [
           "LTU",
           2006
          ],
          [
           "MAC",
           2006
          ],
          [
           "IRL",
           2009
          ],
          [
           "MAC",
           2009
          ],
          [
           "NZL",
           2009
          ],
          [
           "MYS",
           2009
          ],
          [
           "BRA",
           2012
          ],
          [
           "HUN",
           2012
          ],
          [
           "JOR",
           2012
          ],
          [
           "MNE",
           2012
          ],
          [
           "THA",
           2012
          ],
          [
           "BIH",
           2018
          ],
          [
           "CRI",
           2018
          ],
          [
           "KSV",
           2018
          ],
          [
           "QAT",
           2018
          ],
          [
           "RUS",
           2018
          ],
          [
           "USA",
           2018
          ],
          [
           "DEU",
           2000
          ],
          [
           "LIE",
           2000
          ],
          [
           "NLD",
           2000
          ],
          [
           "NOR",
           2000
          ],
          [
           "RUS",
           2000
          ],
          [
           "USA",
           2003
          ],
          [
           "CHL",
           2006
          ],
          [
           "DNK",
           2006
          ],
          [
           "FRA",
           2006
          ],
          [
           "ITA",
           2006
          ],
          [
           "ROU",
           2006
          ],
          [
           "USA",
           2006
          ],
          [
           "AZE",
           2009
          ],
          [
           "KAZ",
           2009
          ],
          [
           "QAT",
           2009
          ],
          [
           "USA",
           2009
          ],
          [
           "QHP",
           2009
          ],
          [
           "AUS",
           2012
          ],
          [
           "AUT",
           2012
          ],
          [
           "EST",
           2012
          ],
          [
           "LVA",
           2012
          ],
          [
           "PER",
           2012
          ],
          [
           "POL",
           2012
          ],
          [
           "QCN",
           2012
          ],
          [
           "GEO",
           2018
          ],
          [
           "LUX",
           2018
          ],
          [
           "MEX",
           2018
          ],
          [
           "MYS",
           2018
          ],
          [
           "NZL",
           2018
          ],
          [
           "URY",
           2018
          ]
         ],
         "hovertemplate": "gdp_pc_growth=%{x}<br>in_math99=%{y}<br>country=%{customdata[0]}<br>year=%{customdata[1]}<br>gdp_pc=%{marker.color}<extra></extra>",
         "legendgroup": "",
         "marker": {
          "color": [
           1621.26210738992,
           38865.021939688,
           26334.5672050501,
           11526.3720667968,
           2004.10705891031,
           32294.0488606559,
           40458.7773986609,
           5145.19523190241,
           90317.7368065187,
           65689.3214536911,
           9723.44690174779,
           114652.242430174,
           59978.86120736,
           46593.6021646111,
           8003.81449265461,
           44512.4590296865,
           48153.3240199631,
           10204.5588537616,
           null,
           41308.9968370512,
           126261.397282982,
           109419.746953106,
           13682.76361003,
           44386.7860789846,
           12386.6992652963,
           2190.2324398772,
           11795.1627452798,
           46548.6384108296,
           23424.4804601855,
           15040.0369182791,
           19186.359591641,
           31785.8848300917,
           7252.40366767165,
           3096.5625,
           6029.03819275358,
           4624.28165670295,
           32096.3722613695,
           7581.84564147003,
           13641.1027183822,
           1941.318259717,
           4501.47996121234,
           35387.0374203599,
           14672.8057539465,
           34442.6875402308,
           3638.94359070859,
           12639.4000677296,
           90788.8004876145,
           5942.12674899064,
           4114.13403283023,
           14421.1714758536,
           58163.2768762815,
           19143.8516053025,
           11820.7761591359,
           6169.11419477823,
           38744.131693043,
           1898.43975710988,
           null,
           44670.5606845101,
           28322.9465923276,
           36730.796195815,
           3668.21208337097,
           50070.1416045904,
           15420.859375,
           22641.805122503,
           null,
           4233.9162540494,
           49987.6261584968,
           41557.8548588876,
           74452.1890731447,
           34622.1696664741,
           82792.8427113304,
           3194.67270132209,
           null,
           null,
           null,
           24175.5833140113,
           1126.68334010717,
           21870.4159669594,
           3726.81166909716,
           5102.96876066704,
           30743.5476816354,
           3056.64979769494,
           40669.3269586152,
           40504.0607253203,
           15261.7975911138,
           28224.0951563146,
           57492.9342498703,
           21743.4774514254,
           4382.61727851692,
           8569.90254736072,
           80347.5700665184,
           32169.5028548583,
           4154.18744707842,
           9780.73961786409,
           6737.8607505315,
           null,
           9971.65165576585,
           43855.8544658618,
           21912.9982879517,
           74111.6011863847,
           8930.72991164974,
           57273.5204750079,
           6360.05310087258,
           85217.3691512274,
           15820.0333571155,
           61591.9288698958,
           19756.990456255,
           16425.2050299693,
           79446.9391085469,
           42406.8454263606,
           39751.1330982711,
           9225.84515486901,
           6108.73917044261,
           6912.10398761205,
           23562.5545228191,
           null,
           66836.521995236,
           9568.83618958168,
           24625.6007227434,
           20137.5912217673,
           28300.4630963791,
           50250.3298214345,
           5701.63886301914,
           15797.7821340276,
           21510.8362454011,
           37321.7979047059,
           49335.7456291067,
           5890.97800169795,
           44900.9381441374,
           19672.9655554146,
           40876.3101540295,
           14711.7352728223,
           871.224226887324,
           11525.9007370991,
           23151.2154130712,
           38926.8054365453,
           46946.9602719954,
           71568.3123885672,
           7318.12640972422,
           10601.5104558966,
           98041.3622380894,
           51784.4185738837,
           51466.5565633634,
           9447.65589681469,
           7947.15933093481,
           43203.8141057739,
           4146.40731063215,
           17865.0310947642,
           3492.67260742188,
           8850.3749248372,
           19486.3936845505,
           54589.0603860606,
           null,
           22416.425417915,
           28280.926786099,
           12072.9293569196,
           770.865351580294,
           21630.7476087887,
           1861.89899780644,
           9818.56849307488,
           32927.6802919408,
           39476.6978486684,
           4704.77266342301,
           38705.1067959147,
           41222.6020004611,
           35991.546002862,
           2478.29194408734,
           543.110702403072,
           74434.4996835671,
           19839.4540499032,
           28389.0785799873,
           59011.0324592016,
           8184.38988923991,
           19861.6974295256,
           47481.4845364339,
           41301.273219718,
           3618.89261685515,
           12331.9285524089,
           24792.1279805504,
           9012.99945793034,
           21083.2770528363,
           8096.80150977513,
           112584.676270958,
           10842.7330888296,
           39973.3807587223,
           5287.66080067575,
           46722.2687183733,
           9121.02099480377,
           23165.8494786437,
           33447.1562836166,
           15504.5089370714,
           7124.55881041403,
           14749.6874248766,
           12257.0206622345,
           36329.9560727102,
           23718.1338501868,
           30655.2092679024,
           7473.93237537911,
           35750.9746630269,
           2975.123046875,
           2693.19661439857,
           36595.7071548423,
           4523.1465578805,
           36353.8803343631,
           24821.9367451879,
           11489.5608654088,
           22494.6420931621,
           9545.28672531477,
           6920.19970703125,
           13170.7849804675,
           42816.5674002829,
           44760.2912443709,
           52722.2130568997,
           4247.63134315945,
           13082.664325572,
           52669.0899632316,
           45995.5478789467,
           14367.709424872,
           null,
           6015.94522756969,
           16087.2520777973,
           6782.03792033195,
           48537.5668888343,
           3902.661675559,
           9812.62543137393,
           16156.0742859681,
           26123.7471277911,
           3267.22506911927,
           3361.64086880275,
           null,
           29624.9126748618,
           30310.3575963774,
           18518.3788387396,
           8731.93736824381,
           null,
           5866.02341427165,
           null,
           4425.67887307803,
           3343.78595174831,
           3279.10281991951,
           6988.27316296465,
           41650.3678297162,
           29828.7560245271,
           13077.305465178,
           2239.09526529896,
           28317.0408441487,
           8495.65308070414,
           7618.43845900774,
           4164.97048299155,
           8548.04859012993,
           16597.2084581361,
           4029.46120631103,
           31722.5887637992,
           19870.8012123403,
           47708.0612784469,
           40870.8523645734,
           13439.6645555189,
           35051.5212697703,
           149461.78557146,
           30379.7211126422,
           53044.5324352253,
           12494.4235789649,
           7666.51783423783,
           23098.8865077401,
           48659.5988753233,
           29627.92426353,
           23977.1734120477,
           8419.43087098103,
           27526.3224609957,
           2350.84549582551,
           11505.399839938,
           1572.79793972155,
           26654.5932018985,
           9035.53275810927,
           null,
           5245.95158387112,
           41737.7635518137,
           30697.5383861641,
           37226.7571935402,
           6727.10776676969,
           8562.82421875,
           2822.68939668797,
           7430.7373804242,
           85836.2076767359,
           15397.7804598152,
           58507.5080517852,
           42497.3404974322,
           48943.8206459561,
           33156.2283157638,
           49145.2804308193,
           25459.1689000965,
           102175.919298374,
           20563.7136012629,
           55547.5553077786,
           17498.3539002594,
           58037.8213192173,
           11713.2849831139,
           47544.9811472757,
           31240.5017887246,
           47939.2782884504,
           84779.4536941057,
           4156.95750022299,
           24271.0020563821,
           24345.9148217032,
           25756.7728723704,
           39169.3595701504,
           1052.41319921916,
           41203.5295847568,
           17828.9539685654,
           21913.7081719961,
           2472.95725732287,
           3782.60349568944,
           54329.1618599624,
           9230.70798102521,
           29637.7670637369,
           52133.0906162544,
           39754.9761535003,
           28209.3623271229,
           7167.87719423373,
           12327.5131013057,
           12984.8365730133,
           4386.4618185538,
           6586.39970256684,
           5748.63272062158,
           6024.49314979655,
           12383.1499522763,
           null,
           66264.081168209,
           11287.3544921875,
           62823.309438197,
           23694.7604830673,
           75210.1331775911,
           26214.498549887,
           38178.2368777076,
           1771.59411621094,
           39490.2749557007,
           9418.27492364213,
           52026.9995142723,
           36470.2128399313,
           33529.7266014361,
           5757.53127301178,
           46302.0008800056,
           4950.39949009423,
           7165.22477794014,
           60733.9817002272,
           47194.9433547336,
           null,
           68078.0442283168,
           48564.9173350875,
           17403.2053254767,
           13847.3379393194,
           6475.72044267849,
           13010.7555868425,
           null,
           4722.0424231414,
           116786.511654677,
           10130.3206984553,
           11073.9789704691,
           43236.8866923404,
           19026.0498173005
          ],
          "coloraxis": "coloraxis",
          "symbol": "circle"
         },
         "mode": "markers",
         "name": "",
         "orientation": "v",
         "showlegend": false,
         "type": "scatter",
         "x": [
          5.10505714438303,
          3.37615729497902,
          7.95480648396467,
          3.08905404795144,
          3.42181481134629,
          0.450946527234535,
          0.117358167353501,
          9.47574093572894,
          -2.82301144243355,
          1.37989335885587,
          13.0036480961687,
          7.75435946917933,
          5.49322129021243,
          4.07571489749014,
          5.5702631622412,
          1.63644558698466,
          -4.01634004211772,
          -2.1283005713077,
          null,
          -5.68145234031182,
          -1.91663778114352,
          -5.01426301262075,
          -4.96407247195563,
          0.76963885060411,
          3.33405606579645,
          4.37956278606582,
          -3.60160975657155,
          1.30196510359595,
          2.87546852691743,
          3.74312570579878,
          4.99035385554106,
          3.7300762666413,
          5.0675948814029,
          4.01638177635452,
          4.29307146515178,
          4.75094782312509,
          3.55739104440454,
          3.37815766178009,
          2.26868043761239,
          1.14477299247883,
          5.65867459519393,
          1.31809196241525,
          2.6140398272664,
          2.66739616621786,
          0.690750521011083,
          10.4147342313026,
          4.33910831451982,
          3.95391078742402,
          4.05313986380152,
          -7.12040933569828,
          -5.4140139985128,
          0.275268980329585,
          -13.8877533571244,
          -2.34092820223162,
          -5.33371939419183,
          -5.88123771461969,
          null,
          0.11640257847661,
          -3.02190653735798,
          0.583765613758572,
          4.70670292023203,
          -1.39591933577908,
          3.84915193512856,
          -2.84370502025251,
          null,
          2.89368176678101,
          1.00565417029748,
          1.50053912327405,
          2.11737323957688,
          1.11781661979235,
          0.165530155189344,
          4.54870091782639,
          null,
          null,
          null,
          0.341212854265805,
          7.63002243937019,
          2.73894429537623,
          2.97091078107165,
          3.77235697746502,
          3.40068454610739,
          -0.0512856664974208,
          2.94341785870446,
          1.6061781601217,
          6.47820360338791,
          6.34739277389478,
          3.85034869245426,
          4.71292765493601,
          5.52189240110543,
          -1.07323833266479,
          -3.16925628485011,
          -4.61174792296352,
          -1.4014819110336,
          3.99318432319997,
          -2.20305716727071,
          null,
          3.62781247373715,
          0.230160992711959,
          -6.58290444947292,
          7.03723456375734,
          2.37975233636634,
          1.37834535331957,
          3.37043437009008,
          2.10552472012415,
          2.13907818098535,
          1.4850851572351,
          1.87490316346144,
          5.49601879186557,
          7.13477339709543,
          2.08447062883643,
          0.771168471432347,
          0.727150841891671,
          2.79561511891441,
          2.03724979302511,
          3.01412372965098,
          null,
          3.09007521518672,
          1.62818524031636,
          3.12743665014771,
          3.73994653301939,
          0.892853480384076,
          0.354567463257808,
          3.56826865222615,
          -1.30174208592079,
          1.13629398955948,
          1.92983038350924,
          -0.771333169072193,
          6.93498173764449,
          3.29494984036958,
          5.40948263334755,
          -4.0172570696939,
          -14.4643283839458,
          1.65165139562203,
          2.76252525104977,
          -3.21438996722308,
          -2.84677194924208,
          -5.15126272885315,
          -3.51055886020198,
          3.04110046320396,
          3.78048933448123,
          -0.847554024383243,
          1.53310203539129,
          1.92771305987296,
          3.43913006319094,
          5.80704982687432,
          0.791214735013071,
          -0.463136173887264,
          4.80391392484378,
          1.89944589579329,
          5.10254439807166,
          3.88639887857198,
          0.772577449000039,
          null,
          3.21238484755931,
          3.94666041513302,
          3.49556337411252,
          3.41271420371963,
          5.83779433480274,
          4.07405080631071,
          3.61333896520242,
          1.7608385701202,
          1.43779618991398,
          4.37343432204094,
          1.87818319997308,
          3.62894134847109,
          1.30812718300903,
          1.02950964718904,
          2.000426387909,
          1.63957008515976,
          1.44193641296673,
          2.35777247171723,
          3.42255065978614,
          -6.86795522506981,
          -5.19898191898565,
          -8.51302848718304,
          -7.9783624054085,
          2.7372096544037,
          -12.8328031209275,
          -8.38031959236709,
          -6.12785740051382,
          -1.87642962600751,
          2.83788902621922,
          -0.762183409548683,
          2.11702295235642,
          1.71388353634956,
          4.27631155105293,
          0.517239888578146,
          0.978938492697395,
          3.42361905839128,
          2.46224621613314,
          5.94542050836115,
          3.88643966054494,
          4.7764007853099,
          8.15268965958531,
          2.92544098347776,
          1.91173867643482,
          0.615879780344869,
          -0.308351814824903,
          -0.315789835146461,
          7.78796752390349,
          3.68311780660653,
          1.37798003366018,
          7.61684985137107,
          3.9336103307084,
          5.33560169088059,
          4.10805412926589,
          3.73257258246224,
          3.38875708958024,
          8.55494147469737,
          8.48818929971516,
          -0.185773152884209,
          -2.80592074025158,
          -4.16103849540806,
          1.58487281451019,
          -2.14528444981812,
          0.6567576283297,
          0.527304433471059,
          5.24600245889164,
          null,
          -0.198378899470342,
          3.24652646444873,
          0.638439615993107,
          2.02719224044716,
          4.16298429125608,
          2.74053637300669,
          1.96303772715136,
          4.07631630530021,
          6.46719149769011,
          6.6993125562973,
          null,
          4.59825479417304,
          -0.755077166602604,
          5.54236124450642,
          5.56854702197779,
          null,
          2.84796200765309,
          null,
          8.43155401049707,
          4.17933586171797,
          4.28824956470235,
          -2.72241557643444,
          -5.45457716940945,
          -4.55211707597449,
          -6.45306695717771,
          3.30690394106003,
          -1.49960586559654,
          -7.44700134811362,
          -0.579348337851414,
          0.387889020776356,
          -4.72698260115841,
          -5.58143638478245,
          2.04856930205865,
          -17.1453939003606,
          -0.923734450159557,
          -1.86559117436354,
          -0.171161336111382,
          -2.04094625503657,
          -3.24206011995115,
          null,
          1.83746046437267,
          1.76493726416223,
          6.65376580785784,
          -1.90698749835167,
          3.46545257130404,
          5.51040939515839,
          0.109402978570955,
          3.25992999335219,
          4.37278036207435,
          -0.305508789463317,
          6.2718932515553,
          5.05212095813312,
          4.13903544058229,
          1.55297238193847,
          6.19841368396281,
          null,
          0.00166227940896135,
          -3.37039728344887,
          -2.66888734294891,
          -5.71150838276657,
          -5.99697748606286,
          -7.8277499767233,
          -2.79094025368749,
          1.33406600038019,
          0.110596604306124,
          5.12573837988386,
          -0.149916088315891,
          0.809511841772917,
          -0.551990987453394,
          0.711105773404924,
          1.53678665884595,
          1.86559949596563,
          1.3776409008747,
          -3.66753141566937,
          1.90446223662212,
          1.14652064105034,
          -1.32100232444557,
          3.46121242479198,
          1.33065222724522,
          -0.868860056866723,
          0.678212594110718,
          4.38132728884378,
          5.92036718190722,
          4.16394850028571,
          5.55399785284234,
          6.71848397093488,
          2.59289108650813,
          3.38769983664584,
          1.34938713004821,
          8.53470556597679,
          2.68186066748035,
          33.0304877689447,
          5.33972344422868,
          2.19518969027396,
          9.142617036882,
          10.3978181252148,
          -6.05481196628648,
          -1.33344793528724,
          -1.10570020249949,
          -3.44334280616775,
          1.00765403282705,
          -0.738925917657525,
          0.982324095724891,
          -2.80561175003068,
          6.55400450177738,
          5.04583814593265,
          1.66130830846163,
          null,
          -0.776739175354805,
          2.81552410737709,
          2.40486787201,
          2.77322125091402,
          1.93564456435379,
          3.45353825605781,
          2.65053090696199,
          10.4637091559227,
          1.91648045091225,
          5.01599112354818,
          3.57206346379428,
          1.74108525754491,
          1.48515735957702,
          8.67067585292331,
          1.79648632582968,
          7.05060251949079,
          -0.786442204419629,
          0.415386597297541,
          -3.45001592321435,
          null,
          2.11992606815087,
          0.222450576943075,
          3.59836215956679,
          8.37822379715232,
          5.1697619045632,
          1.54546434180358,
          null,
          4.88385492937473,
          -0.714325922150593,
          1.00624883578185,
          3.47276670505505,
          1.68730805478903,
          0.0144915655816646
         ],
         "xaxis": "x",
         "y": [
          0.33728721375219645,
          0.9706588430642674,
          0.1376220021110284,
          0.02942348780876159,
          0.024493334274661983,
          1.0409189691694125,
          1.0270444378324781,
          0.3746751118331654,
          2.9868215235529325,
          0.7038030058447963,
          0.22339779093259324,
          2.050221401701809,
          0.04908039380332195,
          0.6802466106287796,
          0.4533757184838239,
          0.7916065331191715,
          0.9104943457389073,
          0.014361645001437601,
          15.938462899166892,
          2.6080612336396167,
          2.4569050753897037,
          0.7278525096665794,
          0.05524468251187017,
          0.18780792681952296,
          0,
          1.0639860078690688,
          0,
          2.0395557530375763,
          1.4232929269204189,
          0.47121617749989136,
          0.956838598605749,
          0.8301454601635767,
          0.5458260968437889,
          0.5013120032514837,
          0.2974521716648916,
          0.3214013791653101,
          0.17379106861495236,
          0,
          1.1368861275279978,
          0.022190338928243566,
          0.3622570206921124,
          2.4297217496748216,
          2.8542221367632994,
          1.1168267849868414,
          0.04716442722757343,
          0.7144593189866754,
          0.766814223200154,
          0.052222506381567856,
          0.01955427714605948,
          0.12042426468380293,
          0.8631132652852521,
          3.5513352649498526,
          0.3726739076661129,
          0.21975312728130306,
          0.5552488935804638,
          0,
          0,
          1.975208831607145,
          0.20463747652406272,
          4.600215568876455,
          0,
          1.0633498123853378,
          0.5035961878318707,
          0.7144565110886818,
          8.505733492102742,
          0,
          0.9048118306945361,
          0.6108490985445981,
          0.9975563609630621,
          0.7592508764476221,
          1.1856455983633745,
          0,
          9.18860084308859,
          0.26588692890133625,
          0.3142760148706876,
          0.015565470514622391,
          0.0683445746809561,
          0.6698284075402121,
          0,
          0,
          0.4182010194029221,
          0.04996514836574598,
          1.0543074342993173,
          1.6361765662253658,
          2.628282626374279,
          3.460103596696704,
          0.7386701420355467,
          3.9420296615634074,
          0.16405833944377443,
          0.0025504544726278663,
          0.5723216782510064,
          0.40982966847758145,
          0.18390893170620437,
          0.07960766988130619,
          0,
          0,
          0.028511812593448673,
          1.3427067870348226,
          0.11689588865855939,
          2.6078254872708304,
          0.20561259191795003,
          1.2980355099515604,
          0.4855146085004931,
          2.2810005679699534,
          0.03641457315792879,
          0.8573513603465912,
          0.1076163739552575,
          0.5618576254932193,
          0.29098006793542674,
          0.9066157843018229,
          1.9104526563440332,
          0.0899463846208412,
          0.05044261752366408,
          0,
          0.8890422050065483,
          0.12584687853422355,
          7.548338984853017,
          0.37713687767607873,
          0.38821044352791223,
          0.07057616533295401,
          1.4970837998462778,
          0.6751294900972514,
          0.6035009307375538,
          0.11206388459019208,
          0.2658377949917073,
          1.098721903838068,
          2.4344074874395436,
          0.04310720438546089,
          1.8365570382896863,
          1.0884547452951332,
          1.5972906079161748,
          0.5756601524879942,
          0,
          0.7551850347676663,
          0.5430814386019611,
          8.416996796806197,
          1.1048823579513039,
          3.7812883811221907,
          0.03514047866732703,
          0,
          0.05505937837671477,
          0.4016965955083438,
          1.1229833097087907,
          0.3997185854493163,
          0,
          1.5422389920068476,
          0,
          0.6181732070708517,
          0,
          0.014955042081128923,
          1.0410816756578023,
          1.143981475771415,
          4.097011345312052,
          0.38151639881721056,
          0.9879710772657289,
          0.028726471963289764,
          0,
          0.619094954096038,
          0.07377512280205752,
          1.5889403332240337,
          1.9254650287870032,
          1.0339377608706473,
          1.319289634186429,
          2.2469156925399543,
          2.685745723090552,
          1.8291950419675542,
          0.010774616610943344,
          0,
          0.6705473797013068,
          0.09631669487897729,
          0.2828131024799795,
          2.5729331714768944,
          0.038261298269936,
          1.0316727188179138,
          1.8643130619824408,
          1.1805853403720201,
          0,
          0.16387971587893352,
          1.1760513440410243,
          0.38297112243577974,
          0.503042235643041,
          0,
          0.8390637662669183,
          0.0009569127056592786,
          1.6807747727379052,
          0.06273814558120505,
          0.590115173868445,
          0.06625936553221616,
          1.4529218014595888,
          3.7585602892293317,
          1.8879006561728982,
          0.15782188980079329,
          0.014234128364021052,
          0.4304833995612143,
          0.32152472790082376,
          1.9007688864164225,
          2.991093573223883,
          0.0005628609527880594,
          1.9829992571444284,
          0.4641674704120628,
          0,
          1.9259090386819038,
          0.2828812704643612,
          1.3906719560078609,
          0.1909103472542333,
          1.1181026788920718,
          0.33593308261167626,
          0.010967716448899496,
          0.5640417694793477,
          0.7991784846218218,
          1.9669902503554706,
          2.0972676520000375,
          1.5951915260666967,
          0,
          0,
          1.3485385688683817,
          0.41848772821570923,
          0.2780473752235855,
          0.6649703338447234,
          0.4476016270431942,
          0,
          0,
          5.806756837716483,
          0.022358741158861464,
          0.1810518527031154,
          0,
          1.2937724770972963,
          0,
          0.4481768418239239,
          0.24556014835134202,
          0.6348629368862454,
          1.0002145573057792,
          0.2300447446858551,
          0.7803228547077076,
          0.0677146539156524,
          0.0681528858249924,
          5.527572918889631,
          0,
          0.06350814036596968,
          0,
          0.2928008004560274,
          1.6877475602876837,
          0.33438805751912926,
          0.9156927417083488,
          0,
          0.5002828949562691,
          0.00881186971068681,
          0,
          0.04635157288561282,
          0,
          1.5658911085360614,
          0,
          0.1617550063338381,
          0.8939849794565325,
          0.9742553924128694,
          0.9228586653334403,
          0.3817892712640159,
          0.6232356508189044,
          1.6413360114624045,
          0.4735875565048016,
          1.8418484442576002,
          0.20564921433484787,
          0,
          0.43977624077101557,
          0,
          0.7875541191713886,
          3.2900129959039934,
          0.6762569318080456,
          0.3848604294813167,
          0.0496244958203287,
          0.22090395316645592,
          0.0263831632196395,
          2.0346649594135147,
          0.6827661697701264,
          5.791356506806098,
          0,
          1.6567813755804708,
          5.122459099761932,
          0.44018432096823235,
          0.04157497834040903,
          0.4440134070927015,
          0.0642153872736529,
          0.07103033108473072,
          2.433011947100976,
          0.013129591911685237,
          0.2305442266649627,
          0.8655940048204191,
          0.44121686291303847,
          0.455124312845179,
          2.521609413167377,
          4.8645350802742024,
          0.4731045734589084,
          0.5182632302995626,
          9.501632221557484,
          1.153387473305838,
          0.4837547879195458,
          0.21523997823129856,
          1.385582369297813,
          0.13081604493970217,
          1.165250861643925,
          3.844211138543385,
          0.1357357889921282,
          0.7047745410458687,
          0.40552905119571175,
          1.460760860428313,
          1.4612807748001013,
          0,
          0.5890659508343874,
          1.3141190531643727,
          2.486522033250937,
          0.23053019957495635,
          0,
          0.5022402259021753,
          0.48281334657821606,
          1.34590581091844,
          0.2675614755661822,
          1.674333757048379,
          2.0862281971962453,
          0,
          0,
          0.49557173769621066,
          0,
          0,
          0.1988198091179972,
          0,
          0,
          0,
          0.2729466944932517,
          0.4992784398510227,
          0.42750395336135555,
          0.2606299339121833,
          0.5579361278066611,
          0.6654940539953202,
          0.11654451838458783,
          0.3577809820073322,
          0.5654794932357041,
          0.017605084823271704,
          1.0791242953136635,
          1.08173388029564,
          0.4765378613877283,
          0,
          0.4864867705632319,
          0.1410059294278758,
          0.13843825113132172,
          0.08897829411348032,
          0.34029801285466804,
          0,
          1.521112736734328,
          1.1425281621066554,
          0.7905109103324608,
          0.30419400512471717,
          0,
          1.770138775817357,
          16.089707957752154,
          0.033047818668086704,
          0.7539871927094882,
          0.011436020400475528,
          0.10044961561707741,
          1.0961200401283928,
          0
         ],
         "yaxis": "y"
        }
       ],
       "layout": {
        "coloraxis": {
         "colorbar": {
          "title": {
           "text": "gdp_pc"
          }
         },
         "colorscale": [
          [
           0,
           "#0d0887"
          ],
          [
           0.1111111111111111,
           "#46039f"
          ],
          [
           0.2222222222222222,
           "#7201a8"
          ],
          [
           0.3333333333333333,
           "#9c179e"
          ],
          [
           0.4444444444444444,
           "#bd3786"
          ],
          [
           0.5555555555555556,
           "#d8576b"
          ],
          [
           0.6666666666666666,
           "#ed7953"
          ],
          [
           0.7777777777777778,
           "#fb9f3a"
          ],
          [
           0.8888888888888888,
           "#fdca26"
          ],
          [
           1,
           "#f0f921"
          ]
         ]
        },
        "legend": {
         "tracegroupgap": 0
        },
        "margin": {
         "t": 60
        },
        "template": {
         "data": {
          "bar": [
           {
            "error_x": {
             "color": "#2a3f5f"
            },
            "error_y": {
             "color": "#2a3f5f"
            },
            "marker": {
             "line": {
              "color": "#E5ECF6",
              "width": 0.5
             },
             "pattern": {
              "fillmode": "overlay",
              "size": 10,
              "solidity": 0.2
             }
            },
            "type": "bar"
           }
          ],
          "barpolar": [
           {
            "marker": {
             "line": {
              "color": "#E5ECF6",
              "width": 0.5
             },
             "pattern": {
              "fillmode": "overlay",
              "size": 10,
              "solidity": 0.2
             }
            },
            "type": "barpolar"
           }
          ],
          "carpet": [
           {
            "aaxis": {
             "endlinecolor": "#2a3f5f",
             "gridcolor": "white",
             "linecolor": "white",
             "minorgridcolor": "white",
             "startlinecolor": "#2a3f5f"
            },
            "baxis": {
             "endlinecolor": "#2a3f5f",
             "gridcolor": "white",
             "linecolor": "white",
             "minorgridcolor": "white",
             "startlinecolor": "#2a3f5f"
            },
            "type": "carpet"
           }
          ],
          "choropleth": [
           {
            "colorbar": {
             "outlinewidth": 0,
             "ticks": ""
            },
            "type": "choropleth"
           }
          ],
          "contour": [
           {
            "colorbar": {
             "outlinewidth": 0,
             "ticks": ""
            },
            "colorscale": [
             [
              0,
              "#0d0887"
             ],
             [
              0.1111111111111111,
              "#46039f"
             ],
             [
              0.2222222222222222,
              "#7201a8"
             ],
             [
              0.3333333333333333,
              "#9c179e"
             ],
             [
              0.4444444444444444,
              "#bd3786"
             ],
             [
              0.5555555555555556,
              "#d8576b"
             ],
             [
              0.6666666666666666,
              "#ed7953"
             ],
             [
              0.7777777777777778,
              "#fb9f3a"
             ],
             [
              0.8888888888888888,
              "#fdca26"
             ],
             [
              1,
              "#f0f921"
             ]
            ],
            "type": "contour"
           }
          ],
          "contourcarpet": [
           {
            "colorbar": {
             "outlinewidth": 0,
             "ticks": ""
            },
            "type": "contourcarpet"
           }
          ],
          "heatmap": [
           {
            "colorbar": {
             "outlinewidth": 0,
             "ticks": ""
            },
            "colorscale": [
             [
              0,
              "#0d0887"
             ],
             [
              0.1111111111111111,
              "#46039f"
             ],
             [
              0.2222222222222222,
              "#7201a8"
             ],
             [
              0.3333333333333333,
              "#9c179e"
             ],
             [
              0.4444444444444444,
              "#bd3786"
             ],
             [
              0.5555555555555556,
              "#d8576b"
             ],
             [
              0.6666666666666666,
              "#ed7953"
             ],
             [
              0.7777777777777778,
              "#fb9f3a"
             ],
             [
              0.8888888888888888,
              "#fdca26"
             ],
             [
              1,
              "#f0f921"
             ]
            ],
            "type": "heatmap"
           }
          ],
          "heatmapgl": [
           {
            "colorbar": {
             "outlinewidth": 0,
             "ticks": ""
            },
            "colorscale": [
             [
              0,
              "#0d0887"
             ],
             [
              0.1111111111111111,
              "#46039f"
             ],
             [
              0.2222222222222222,
              "#7201a8"
             ],
             [
              0.3333333333333333,
              "#9c179e"
             ],
             [
              0.4444444444444444,
              "#bd3786"
             ],
             [
              0.5555555555555556,
              "#d8576b"
             ],
             [
              0.6666666666666666,
              "#ed7953"
             ],
             [
              0.7777777777777778,
              "#fb9f3a"
             ],
             [
              0.8888888888888888,
              "#fdca26"
             ],
             [
              1,
              "#f0f921"
             ]
            ],
            "type": "heatmapgl"
           }
          ],
          "histogram": [
           {
            "marker": {
             "pattern": {
              "fillmode": "overlay",
              "size": 10,
              "solidity": 0.2
             }
            },
            "type": "histogram"
           }
          ],
          "histogram2d": [
           {
            "colorbar": {
             "outlinewidth": 0,
             "ticks": ""
            },
            "colorscale": [
             [
              0,
              "#0d0887"
             ],
             [
              0.1111111111111111,
              "#46039f"
             ],
             [
              0.2222222222222222,
              "#7201a8"
             ],
             [
              0.3333333333333333,
              "#9c179e"
             ],
             [
              0.4444444444444444,
              "#bd3786"
             ],
             [
              0.5555555555555556,
              "#d8576b"
             ],
             [
              0.6666666666666666,
              "#ed7953"
             ],
             [
              0.7777777777777778,
              "#fb9f3a"
             ],
             [
              0.8888888888888888,
              "#fdca26"
             ],
             [
              1,
              "#f0f921"
             ]
            ],
            "type": "histogram2d"
           }
          ],
          "histogram2dcontour": [
           {
            "colorbar": {
             "outlinewidth": 0,
             "ticks": ""
            },
            "colorscale": [
             [
              0,
              "#0d0887"
             ],
             [
              0.1111111111111111,
              "#46039f"
             ],
             [
              0.2222222222222222,
              "#7201a8"
             ],
             [
              0.3333333333333333,
              "#9c179e"
             ],
             [
              0.4444444444444444,
              "#bd3786"
             ],
             [
              0.5555555555555556,
              "#d8576b"
             ],
             [
              0.6666666666666666,
              "#ed7953"
             ],
             [
              0.7777777777777778,
              "#fb9f3a"
             ],
             [
              0.8888888888888888,
              "#fdca26"
             ],
             [
              1,
              "#f0f921"
             ]
            ],
            "type": "histogram2dcontour"
           }
          ],
          "mesh3d": [
           {
            "colorbar": {
             "outlinewidth": 0,
             "ticks": ""
            },
            "type": "mesh3d"
           }
          ],
          "parcoords": [
           {
            "line": {
             "colorbar": {
              "outlinewidth": 0,
              "ticks": ""
             }
            },
            "type": "parcoords"
           }
          ],
          "pie": [
           {
            "automargin": true,
            "type": "pie"
           }
          ],
          "scatter": [
           {
            "fillpattern": {
             "fillmode": "overlay",
             "size": 10,
             "solidity": 0.2
            },
            "type": "scatter"
           }
          ],
          "scatter3d": [
           {
            "line": {
             "colorbar": {
              "outlinewidth": 0,
              "ticks": ""
             }
            },
            "marker": {
             "colorbar": {
              "outlinewidth": 0,
              "ticks": ""
             }
            },
            "type": "scatter3d"
           }
          ],
          "scattercarpet": [
           {
            "marker": {
             "colorbar": {
              "outlinewidth": 0,
              "ticks": ""
             }
            },
            "type": "scattercarpet"
           }
          ],
          "scattergeo": [
           {
            "marker": {
             "colorbar": {
              "outlinewidth": 0,
              "ticks": ""
             }
            },
            "type": "scattergeo"
           }
          ],
          "scattergl": [
           {
            "marker": {
             "colorbar": {
              "outlinewidth": 0,
              "ticks": ""
             }
            },
            "type": "scattergl"
           }
          ],
          "scattermapbox": [
           {
            "marker": {
             "colorbar": {
              "outlinewidth": 0,
              "ticks": ""
             }
            },
            "type": "scattermapbox"
           }
          ],
          "scatterpolar": [
           {
            "marker": {
             "colorbar": {
              "outlinewidth": 0,
              "ticks": ""
             }
            },
            "type": "scatterpolar"
           }
          ],
          "scatterpolargl": [
           {
            "marker": {
             "colorbar": {
              "outlinewidth": 0,
              "ticks": ""
             }
            },
            "type": "scatterpolargl"
           }
          ],
          "scatterternary": [
           {
            "marker": {
             "colorbar": {
              "outlinewidth": 0,
              "ticks": ""
             }
            },
            "type": "scatterternary"
           }
          ],
          "surface": [
           {
            "colorbar": {
             "outlinewidth": 0,
             "ticks": ""
            },
            "colorscale": [
             [
              0,
              "#0d0887"
             ],
             [
              0.1111111111111111,
              "#46039f"
             ],
             [
              0.2222222222222222,
              "#7201a8"
             ],
             [
              0.3333333333333333,
              "#9c179e"
             ],
             [
              0.4444444444444444,
              "#bd3786"
             ],
             [
              0.5555555555555556,
              "#d8576b"
             ],
             [
              0.6666666666666666,
              "#ed7953"
             ],
             [
              0.7777777777777778,
              "#fb9f3a"
             ],
             [
              0.8888888888888888,
              "#fdca26"
             ],
             [
              1,
              "#f0f921"
             ]
            ],
            "type": "surface"
           }
          ],
          "table": [
           {
            "cells": {
             "fill": {
              "color": "#EBF0F8"
             },
             "line": {
              "color": "white"
             }
            },
            "header": {
             "fill": {
              "color": "#C8D4E3"
             },
             "line": {
              "color": "white"
             }
            },
            "type": "table"
           }
          ]
         },
         "layout": {
          "annotationdefaults": {
           "arrowcolor": "#2a3f5f",
           "arrowhead": 0,
           "arrowwidth": 1
          },
          "autotypenumbers": "strict",
          "coloraxis": {
           "colorbar": {
            "outlinewidth": 0,
            "ticks": ""
           }
          },
          "colorscale": {
           "diverging": [
            [
             0,
             "#8e0152"
            ],
            [
             0.1,
             "#c51b7d"
            ],
            [
             0.2,
             "#de77ae"
            ],
            [
             0.3,
             "#f1b6da"
            ],
            [
             0.4,
             "#fde0ef"
            ],
            [
             0.5,
             "#f7f7f7"
            ],
            [
             0.6,
             "#e6f5d0"
            ],
            [
             0.7,
             "#b8e186"
            ],
            [
             0.8,
             "#7fbc41"
            ],
            [
             0.9,
             "#4d9221"
            ],
            [
             1,
             "#276419"
            ]
           ],
           "sequential": [
            [
             0,
             "#0d0887"
            ],
            [
             0.1111111111111111,
             "#46039f"
            ],
            [
             0.2222222222222222,
             "#7201a8"
            ],
            [
             0.3333333333333333,
             "#9c179e"
            ],
            [
             0.4444444444444444,
             "#bd3786"
            ],
            [
             0.5555555555555556,
             "#d8576b"
            ],
            [
             0.6666666666666666,
             "#ed7953"
            ],
            [
             0.7777777777777778,
             "#fb9f3a"
            ],
            [
             0.8888888888888888,
             "#fdca26"
            ],
            [
             1,
             "#f0f921"
            ]
           ],
           "sequentialminus": [
            [
             0,
             "#0d0887"
            ],
            [
             0.1111111111111111,
             "#46039f"
            ],
            [
             0.2222222222222222,
             "#7201a8"
            ],
            [
             0.3333333333333333,
             "#9c179e"
            ],
            [
             0.4444444444444444,
             "#bd3786"
            ],
            [
             0.5555555555555556,
             "#d8576b"
            ],
            [
             0.6666666666666666,
             "#ed7953"
            ],
            [
             0.7777777777777778,
             "#fb9f3a"
            ],
            [
             0.8888888888888888,
             "#fdca26"
            ],
            [
             1,
             "#f0f921"
            ]
           ]
          },
          "colorway": [
           "#636efa",
           "#EF553B",
           "#00cc96",
           "#ab63fa",
           "#FFA15A",
           "#19d3f3",
           "#FF6692",
           "#B6E880",
           "#FF97FF",
           "#FECB52"
          ],
          "font": {
           "color": "#2a3f5f"
          },
          "geo": {
           "bgcolor": "white",
           "lakecolor": "white",
           "landcolor": "#E5ECF6",
           "showlakes": true,
           "showland": true,
           "subunitcolor": "white"
          },
          "hoverlabel": {
           "align": "left"
          },
          "hovermode": "closest",
          "mapbox": {
           "style": "light"
          },
          "paper_bgcolor": "white",
          "plot_bgcolor": "#E5ECF6",
          "polar": {
           "angularaxis": {
            "gridcolor": "white",
            "linecolor": "white",
            "ticks": ""
           },
           "bgcolor": "#E5ECF6",
           "radialaxis": {
            "gridcolor": "white",
            "linecolor": "white",
            "ticks": ""
           }
          },
          "scene": {
           "xaxis": {
            "backgroundcolor": "#E5ECF6",
            "gridcolor": "white",
            "gridwidth": 2,
            "linecolor": "white",
            "showbackground": true,
            "ticks": "",
            "zerolinecolor": "white"
           },
           "yaxis": {
            "backgroundcolor": "#E5ECF6",
            "gridcolor": "white",
            "gridwidth": 2,
            "linecolor": "white",
            "showbackground": true,
            "ticks": "",
            "zerolinecolor": "white"
           },
           "zaxis": {
            "backgroundcolor": "#E5ECF6",
            "gridcolor": "white",
            "gridwidth": 2,
            "linecolor": "white",
            "showbackground": true,
            "ticks": "",
            "zerolinecolor": "white"
           }
          },
          "shapedefaults": {
           "line": {
            "color": "#2a3f5f"
           }
          },
          "ternary": {
           "aaxis": {
            "gridcolor": "white",
            "linecolor": "white",
            "ticks": ""
           },
           "baxis": {
            "gridcolor": "white",
            "linecolor": "white",
            "ticks": ""
           },
           "bgcolor": "#E5ECF6",
           "caxis": {
            "gridcolor": "white",
            "linecolor": "white",
            "ticks": ""
           }
          },
          "title": {
           "x": 0.05
          },
          "xaxis": {
           "automargin": true,
           "gridcolor": "white",
           "linecolor": "white",
           "ticks": "",
           "title": {
            "standoff": 15
           },
           "zerolinecolor": "white",
           "zerolinewidth": 2
          },
          "yaxis": {
           "automargin": true,
           "gridcolor": "white",
           "linecolor": "white",
           "ticks": "",
           "title": {
            "standoff": 15
           },
           "zerolinecolor": "white",
           "zerolinewidth": 2
          }
         }
        },
        "xaxis": {
         "anchor": "y",
         "domain": [
          0,
          1
         ],
         "title": {
          "text": "gdp_pc_growth"
         }
        },
        "yaxis": {
         "anchor": "x",
         "domain": [
          0,
          1
         ],
         "title": {
          "text": "in_math99"
         }
        }
       }
      }
     },
     "metadata": {},
     "output_type": "display_data"
    }
   ],
   "source": [
    "fig = px.scatter(df2, y=\"in_math99\", x=\"gdp_pc_growth\", color='gdp_pc', hover_data=[\"country\", \"year\"])\n",
    "fig.show()"
   ]
  },
  {
   "cell_type": "code",
   "execution_count": 26,
   "metadata": {},
   "outputs": [
    {
     "data": {
      "application/vnd.plotly.v1+json": {
       "config": {
        "plotlyServerURL": "https://plot.ly"
       },
       "data": [
        {
         "customdata": [
          [
           "BGR"
          ],
          [
           "CHE"
          ],
          [
           "IRL"
          ],
          [
           "PRT"
          ],
          [
           "THA"
          ],
          [
           "AUT"
          ],
          [
           "DNK"
          ],
          [
           "LVA"
          ],
          [
           "LIE"
          ],
          [
           "LUX"
          ],
          [
           "LVA"
          ],
          [
           "LIE"
          ],
          [
           "QAT"
          ],
          [
           "SWE"
          ],
          [
           "TUR"
          ],
          [
           "GBR"
          ],
          [
           "AUT"
          ],
          [
           "CHL"
          ],
          [
           "QCN"
          ],
          [
           "JPN"
          ],
          [
           "LIE"
          ],
          [
           "LUX"
          ],
          [
           "TTO"
          ],
          [
           "ARE"
          ],
          [
           "KAZ"
          ],
          [
           "VNM"
          ],
          [
           "ARG"
          ],
          [
           "CAN"
          ],
          [
           "CZE"
          ],
          [
           "HRV"
          ],
          [
           "LTU"
          ],
          [
           "MLT"
          ],
          [
           "SRB"
          ],
          [
           "UKR"
          ],
          [
           "CZE"
          ],
          [
           "HUN"
          ],
          [
           "ISL"
          ],
          [
           "MEX"
          ],
          [
           "NZL"
          ],
          [
           "PER"
          ],
          [
           "POL"
          ],
          [
           "JPN"
          ],
          [
           "KOR"
          ],
          [
           "GBR"
          ],
          [
           "URY"
          ],
          [
           "EST"
          ],
          [
           "LUX"
          ],
          [
           "URY"
          ],
          [
           "ALB"
          ],
          [
           "HRV"
          ],
          [
           "DNK"
          ],
          [
           "KOR"
          ],
          [
           "LTU"
          ],
          [
           "SRB"
          ],
          [
           "GBR"
          ],
          [
           "MDA"
          ],
          [
           "QVE"
          ],
          [
           "BEL"
          ],
          [
           "ESP"
          ],
          [
           "HKG"
          ],
          [
           "IDN"
          ],
          [
           "NLD"
          ],
          [
           "RUS"
          ],
          [
           "SVN"
          ],
          [
           "TAP"
          ],
          [
           "TUN"
          ],
          [
           "FIN"
          ],
          [
           "FRA"
          ],
          [
           "ISL"
          ],
          [
           "ITA"
          ],
          [
           "NOR"
          ],
          [
           "PHL"
          ],
          [
           "QCI"
          ],
          [
           "QMR"
          ],
          [
           "QRT"
          ],
          [
           "SAU"
          ],
          [
           "ALB"
          ],
          [
           "AUS"
          ],
          [
           "BRA"
          ],
          [
           "CHL"
          ],
          [
           "DNK"
          ],
          [
           "BRA"
          ],
          [
           "AUT"
          ],
          [
           "CAN"
          ],
          [
           "CZE"
          ],
          [
           "HKG"
          ],
          [
           "ISL"
          ],
          [
           "KOR"
          ],
          [
           "SRB"
          ],
          [
           "BRA"
          ],
          [
           "NOR"
          ],
          [
           "ESP"
          ],
          [
           "THA"
          ],
          [
           "URY"
          ],
          [
           "CRI"
          ],
          [
           "QTN"
          ],
          [
           "CRI"
          ],
          [
           "DEU"
          ],
          [
           "GRC"
          ],
          [
           "MAC"
          ],
          [
           "ROU"
          ],
          [
           "AUS"
          ],
          [
           "BLR"
          ],
          [
           "CHE"
          ],
          [
           "CHL"
          ],
          [
           "DNK"
          ],
          [
           "GRC"
          ],
          [
           "HUN"
          ],
          [
           "IRL"
          ],
          [
           "ISR"
          ],
          [
           "JPN"
          ],
          [
           "LBN"
          ],
          [
           "MKD"
          ],
          [
           "PER"
          ],
          [
           "PRT"
          ],
          [
           "QAZ"
          ],
          [
           "SGP"
          ],
          [
           "TUR"
          ],
          [
           "AUT"
          ],
          [
           "ITA"
          ],
          [
           "CAN"
          ],
          [
           "NOR"
          ],
          [
           "POL"
          ],
          [
           "PRT"
          ],
          [
           "ESP"
          ],
          [
           "SWE"
          ],
          [
           "CHE"
          ],
          [
           "ARG"
          ],
          [
           "NLD"
          ],
          [
           "SVN"
          ],
          [
           "CAN"
          ],
          [
           "EST"
          ],
          [
           "KGZ"
          ],
          [
           "POL"
          ],
          [
           "PRT"
          ],
          [
           "SGP"
          ],
          [
           "SWE"
          ],
          [
           "CHE"
          ],
          [
           "MUS"
          ],
          [
           "MYS"
          ],
          [
           "QAT"
          ],
          [
           "USA"
          ],
          [
           "AUT"
          ],
          [
           "BGR"
          ],
          [
           "DOM"
          ],
          [
           "GBR"
          ],
          [
           "JOR"
          ],
          [
           "LVA"
          ],
          [
           "MAR"
          ],
          [
           "MNE"
          ],
          [
           "SVK"
          ],
          [
           "SWE"
          ],
          [
           "TAP"
          ],
          [
           "FRA"
          ],
          [
           "GBR"
          ],
          [
           "GRC"
          ],
          [
           "IDN"
          ],
          [
           "ISR"
          ],
          [
           "MKD"
          ],
          [
           "CZE"
          ],
          [
           "FIN"
          ],
          [
           "ISL"
          ],
          [
           "TUR"
          ],
          [
           "BEL"
          ],
          [
           "FIN"
          ],
          [
           "JPN"
          ],
          [
           "JOR"
          ],
          [
           "KGZ"
          ],
          [
           "NOR"
          ],
          [
           "PRT"
          ],
          [
           "ESP"
          ],
          [
           "CHE"
          ],
          [
           "ARG"
          ],
          [
           "CZE"
          ],
          [
           "FIN"
          ],
          [
           "ISL"
          ],
          [
           "JOR"
          ],
          [
           "LVA"
          ],
          [
           "SVN"
          ],
          [
           "TUR"
          ],
          [
           "MLT"
          ],
          [
           "COL"
          ],
          [
           "LUX"
          ],
          [
           "MEX"
          ],
          [
           "NZL"
          ],
          [
           "ALB"
          ],
          [
           "ARE"
          ],
          [
           "BRA"
          ],
          [
           "EST"
          ],
          [
           "KOR"
          ],
          [
           "POL"
          ],
          [
           "THA"
          ],
          [
           "ESP"
          ],
          [
           "KOR"
          ],
          [
           "USA"
          ],
          [
           "AUS"
          ],
          [
           "BEL"
          ],
          [
           "MEX"
          ],
          [
           "NLD"
          ],
          [
           "RUS"
          ],
          [
           "TUN"
          ],
          [
           "AUS"
          ],
          [
           "BGR"
          ],
          [
           "DEU"
          ],
          [
           "GRC"
          ],
          [
           "HUN"
          ],
          [
           "ISR"
          ],
          [
           "MEX"
          ],
          [
           "RUS"
          ],
          [
           "SVK"
          ],
          [
           "AUS"
          ],
          [
           "BEL"
          ],
          [
           "NLD"
          ],
          [
           "ALB"
          ],
          [
           "ARG"
          ],
          [
           "CAN"
          ],
          [
           "ISL"
          ],
          [
           "LTU"
          ],
          [
           "QRS"
          ],
          [
           "SRB"
          ],
          [
           "URY"
          ],
          [
           "COL"
          ],
          [
           "HKG"
          ],
          [
           "IDN"
          ],
          [
           "KAZ"
          ],
          [
           "PAN"
          ],
          [
           "SVN"
          ],
          [
           "VNM"
          ],
          [
           "LVA"
          ],
          [
           "ROM"
          ],
          [
           "SWE"
          ],
          [
           "DEU"
          ],
          [
           "GRC"
          ],
          [
           "SVK"
          ],
          [
           "YUG"
          ],
          [
           "BRA"
          ],
          [
           "TAP"
          ],
          [
           "MNE"
          ],
          [
           "THA"
          ],
          [
           "TUN"
          ],
          [
           "BGR"
          ],
          [
           "DEU"
          ],
          [
           "GRC"
          ],
          [
           "HUN"
          ],
          [
           "IDN"
          ],
          [
           "ISR"
          ],
          [
           "MEX"
          ],
          [
           "PAN"
          ],
          [
           "PER"
          ],
          [
           "ROU"
          ],
          [
           "SVK"
          ],
          [
           "TUN"
          ],
          [
           "ARE"
          ],
          [
           "CZE"
          ],
          [
           "FIN"
          ],
          [
           "FRA"
          ],
          [
           "HRV"
          ],
          [
           "ITA"
          ],
          [
           "LIE"
          ],
          [
           "ESP"
          ],
          [
           "NLD"
          ],
          [
           "ROU"
          ],
          [
           "ARG"
          ],
          [
           "BEL"
          ],
          [
           "LUX"
          ],
          [
           "FRA"
          ],
          [
           "HKG"
          ],
          [
           "HUN"
          ],
          [
           "ITA"
          ],
          [
           "THA"
          ],
          [
           "HRV"
          ],
          [
           "IDN"
          ],
          [
           "NZL"
          ],
          [
           "POL"
          ],
          [
           "TAP"
          ],
          [
           "COL"
          ],
          [
           "FRA"
          ],
          [
           "HKG"
          ],
          [
           "ITA"
          ],
          [
           "MNE"
          ],
          [
           "RUS"
          ],
          [
           "GEO"
          ],
          [
           "BGR"
          ],
          [
           "CHE"
          ],
          [
           "CHL"
          ],
          [
           "DNK"
          ],
          [
           "GBR"
          ],
          [
           "IRL"
          ],
          [
           "ISR"
          ],
          [
           "JPN"
          ],
          [
           "KOR"
          ],
          [
           "NOR"
          ],
          [
           "PRT"
          ],
          [
           "SGP"
          ],
          [
           "SVK"
          ],
          [
           "SWE"
          ],
          [
           "TUR"
          ],
          [
           "BEL"
          ],
          [
           "BRN"
          ],
          [
           "DEU"
          ],
          [
           "MAC"
          ],
          [
           "MDA"
          ],
          [
           "CAN"
          ],
          [
           "FIN"
          ],
          [
           "HKG"
          ],
          [
           "JPN"
          ],
          [
           "IDN"
          ],
          [
           "IRL"
          ],
          [
           "MAC"
          ],
          [
           "NZL"
          ],
          [
           "AZE"
          ],
          [
           "COL"
          ],
          [
           "IRL"
          ],
          [
           "LTU"
          ],
          [
           "MAC"
          ],
          [
           "IRL"
          ],
          [
           "MAC"
          ],
          [
           "NZL"
          ],
          [
           "MYS"
          ],
          [
           "BRA"
          ],
          [
           "HUN"
          ],
          [
           "JOR"
          ],
          [
           "MNE"
          ],
          [
           "THA"
          ],
          [
           "BIH"
          ],
          [
           "CRI"
          ],
          [
           "KSV"
          ],
          [
           "QAT"
          ],
          [
           "RUS"
          ],
          [
           "USA"
          ],
          [
           "DEU"
          ],
          [
           "LIE"
          ],
          [
           "NLD"
          ],
          [
           "NOR"
          ],
          [
           "RUS"
          ],
          [
           "USA"
          ],
          [
           "CHL"
          ],
          [
           "DNK"
          ],
          [
           "FRA"
          ],
          [
           "ITA"
          ],
          [
           "ROU"
          ],
          [
           "USA"
          ],
          [
           "AZE"
          ],
          [
           "KAZ"
          ],
          [
           "QAT"
          ],
          [
           "USA"
          ],
          [
           "QHP"
          ],
          [
           "AUS"
          ],
          [
           "AUT"
          ],
          [
           "EST"
          ],
          [
           "LVA"
          ],
          [
           "PER"
          ],
          [
           "POL"
          ],
          [
           "QCN"
          ],
          [
           "GEO"
          ],
          [
           "LUX"
          ],
          [
           "MEX"
          ],
          [
           "MYS"
          ],
          [
           "NZL"
          ],
          [
           "URY"
          ]
         ],
         "hovertemplate": "gdp_pc_growth=%{x}<br>math=%{y}<br>country=%{customdata[0]}<br>gdp_pc=%{marker.color}<extra></extra>",
         "legendgroup": "",
         "marker": {
          "color": [
           1621.26210738992,
           38865.021939688,
           26334.5672050501,
           11526.3720667968,
           2004.10705891031,
           32294.0488606559,
           40458.7773986609,
           5145.19523190241,
           90317.7368065187,
           65689.3214536911,
           9723.44690174779,
           114652.242430174,
           59978.86120736,
           46593.6021646111,
           8003.81449265461,
           44512.4590296865,
           48153.3240199631,
           10204.5588537616,
           null,
           41308.9968370512,
           126261.397282982,
           109419.746953106,
           13682.76361003,
           44386.7860789846,
           12386.6992652963,
           2190.2324398772,
           11795.1627452798,
           46548.6384108296,
           23424.4804601855,
           15040.0369182791,
           19186.359591641,
           31785.8848300917,
           7252.40366767165,
           3096.5625,
           6029.03819275358,
           4624.28165670295,
           32096.3722613695,
           7581.84564147003,
           13641.1027183822,
           1941.318259717,
           4501.47996121234,
           35387.0374203599,
           14672.8057539465,
           34442.6875402308,
           3638.94359070859,
           12639.4000677296,
           90788.8004876145,
           5942.12674899064,
           4114.13403283023,
           14421.1714758536,
           58163.2768762815,
           19143.8516053025,
           11820.7761591359,
           6169.11419477823,
           38744.131693043,
           1898.43975710988,
           null,
           44670.5606845101,
           28322.9465923276,
           36730.796195815,
           3668.21208337097,
           50070.1416045904,
           15420.859375,
           22641.805122503,
           null,
           4233.9162540494,
           49987.6261584968,
           41557.8548588876,
           74452.1890731447,
           34622.1696664741,
           82792.8427113304,
           3194.67270132209,
           null,
           null,
           null,
           24175.5833140113,
           1126.68334010717,
           21870.4159669594,
           3726.81166909716,
           5102.96876066704,
           30743.5476816354,
           3056.64979769494,
           40669.3269586152,
           40504.0607253203,
           15261.7975911138,
           28224.0951563146,
           57492.9342498703,
           21743.4774514254,
           4382.61727851692,
           8569.90254736072,
           80347.5700665184,
           32169.5028548583,
           4154.18744707842,
           9780.73961786409,
           6737.8607505315,
           null,
           9971.65165576585,
           43855.8544658618,
           21912.9982879517,
           74111.6011863847,
           8930.72991164974,
           57273.5204750079,
           6360.05310087258,
           85217.3691512274,
           15820.0333571155,
           61591.9288698958,
           19756.990456255,
           16425.2050299693,
           79446.9391085469,
           42406.8454263606,
           39751.1330982711,
           9225.84515486901,
           6108.73917044261,
           6912.10398761205,
           23562.5545228191,
           null,
           66836.521995236,
           9568.83618958168,
           24625.6007227434,
           20137.5912217673,
           28300.4630963791,
           50250.3298214345,
           5701.63886301914,
           15797.7821340276,
           21510.8362454011,
           37321.7979047059,
           49335.7456291067,
           5890.97800169795,
           44900.9381441374,
           19672.9655554146,
           40876.3101540295,
           14711.7352728223,
           871.224226887324,
           11525.9007370991,
           23151.2154130712,
           38926.8054365453,
           46946.9602719954,
           71568.3123885672,
           7318.12640972422,
           10601.5104558966,
           98041.3622380894,
           51784.4185738837,
           51466.5565633634,
           9447.65589681469,
           7947.15933093481,
           43203.8141057739,
           4146.40731063215,
           17865.0310947642,
           3492.67260742188,
           8850.3749248372,
           19486.3936845505,
           54589.0603860606,
           null,
           22416.425417915,
           28280.926786099,
           12072.9293569196,
           770.865351580294,
           21630.7476087887,
           1861.89899780644,
           9818.56849307488,
           32927.6802919408,
           39476.6978486684,
           4704.77266342301,
           38705.1067959147,
           41222.6020004611,
           35991.546002862,
           2478.29194408734,
           543.110702403072,
           74434.4996835671,
           19839.4540499032,
           28389.0785799873,
           59011.0324592016,
           8184.38988923991,
           19861.6974295256,
           47481.4845364339,
           41301.273219718,
           3618.89261685515,
           12331.9285524089,
           24792.1279805504,
           9012.99945793034,
           21083.2770528363,
           8096.80150977513,
           112584.676270958,
           10842.7330888296,
           39973.3807587223,
           5287.66080067575,
           46722.2687183733,
           9121.02099480377,
           23165.8494786437,
           33447.1562836166,
           15504.5089370714,
           7124.55881041403,
           14749.6874248766,
           12257.0206622345,
           36329.9560727102,
           23718.1338501868,
           30655.2092679024,
           7473.93237537911,
           35750.9746630269,
           2975.123046875,
           2693.19661439857,
           36595.7071548423,
           4523.1465578805,
           36353.8803343631,
           24821.9367451879,
           11489.5608654088,
           22494.6420931621,
           9545.28672531477,
           6920.19970703125,
           13170.7849804675,
           42816.5674002829,
           44760.2912443709,
           52722.2130568997,
           4247.63134315945,
           13082.664325572,
           52669.0899632316,
           45995.5478789467,
           14367.709424872,
           null,
           6015.94522756969,
           16087.2520777973,
           6782.03792033195,
           48537.5668888343,
           3902.661675559,
           9812.62543137393,
           16156.0742859681,
           26123.7471277911,
           3267.22506911927,
           3361.64086880275,
           null,
           29624.9126748618,
           30310.3575963774,
           18518.3788387396,
           8731.93736824381,
           null,
           5866.02341427165,
           null,
           4425.67887307803,
           3343.78595174831,
           3279.10281991951,
           6988.27316296465,
           41650.3678297162,
           29828.7560245271,
           13077.305465178,
           2239.09526529896,
           28317.0408441487,
           8495.65308070414,
           7618.43845900774,
           4164.97048299155,
           8548.04859012993,
           16597.2084581361,
           4029.46120631103,
           31722.5887637992,
           19870.8012123403,
           47708.0612784469,
           40870.8523645734,
           13439.6645555189,
           35051.5212697703,
           149461.78557146,
           30379.7211126422,
           53044.5324352253,
           12494.4235789649,
           7666.51783423783,
           23098.8865077401,
           48659.5988753233,
           29627.92426353,
           23977.1734120477,
           8419.43087098103,
           27526.3224609957,
           2350.84549582551,
           11505.399839938,
           1572.79793972155,
           26654.5932018985,
           9035.53275810927,
           null,
           5245.95158387112,
           41737.7635518137,
           30697.5383861641,
           37226.7571935402,
           6727.10776676969,
           8562.82421875,
           2822.68939668797,
           7430.7373804242,
           85836.2076767359,
           15397.7804598152,
           58507.5080517852,
           42497.3404974322,
           48943.8206459561,
           33156.2283157638,
           49145.2804308193,
           25459.1689000965,
           102175.919298374,
           20563.7136012629,
           55547.5553077786,
           17498.3539002594,
           58037.8213192173,
           11713.2849831139,
           47544.9811472757,
           31240.5017887246,
           47939.2782884504,
           84779.4536941057,
           4156.95750022299,
           24271.0020563821,
           24345.9148217032,
           25756.7728723704,
           39169.3595701504,
           1052.41319921916,
           41203.5295847568,
           17828.9539685654,
           21913.7081719961,
           2472.95725732287,
           3782.60349568944,
           54329.1618599624,
           9230.70798102521,
           29637.7670637369,
           52133.0906162544,
           39754.9761535003,
           28209.3623271229,
           7167.87719423373,
           12327.5131013057,
           12984.8365730133,
           4386.4618185538,
           6586.39970256684,
           5748.63272062158,
           6024.49314979655,
           12383.1499522763,
           null,
           66264.081168209,
           11287.3544921875,
           62823.309438197,
           23694.7604830673,
           75210.1331775911,
           26214.498549887,
           38178.2368777076,
           1771.59411621094,
           39490.2749557007,
           9418.27492364213,
           52026.9995142723,
           36470.2128399313,
           33529.7266014361,
           5757.53127301178,
           46302.0008800056,
           4950.39949009423,
           7165.22477794014,
           60733.9817002272,
           47194.9433547336,
           null,
           68078.0442283168,
           48564.9173350875,
           17403.2053254767,
           13847.3379393194,
           6475.72044267849,
           13010.7555868425,
           null,
           4722.0424231414,
           116786.511654677,
           10130.3206984553,
           11073.9789704691,
           43236.8866923404,
           19026.0498173005
          ],
          "coloraxis": "coloraxis",
          "symbol": "circle"
         },
         "mode": "markers",
         "name": "",
         "orientation": "v",
         "showlegend": false,
         "type": "scatter",
         "x": [
          5.10505714438303,
          3.37615729497902,
          7.95480648396467,
          3.08905404795144,
          3.42181481134629,
          0.450946527234535,
          0.117358167353501,
          9.47574093572894,
          -2.82301144243355,
          1.37989335885587,
          13.0036480961687,
          7.75435946917933,
          5.49322129021243,
          4.07571489749014,
          5.5702631622412,
          1.63644558698466,
          -4.01634004211772,
          -2.1283005713077,
          null,
          -5.68145234031182,
          -1.91663778114352,
          -5.01426301262075,
          -4.96407247195563,
          0.76963885060411,
          3.33405606579645,
          4.37956278606582,
          -3.60160975657155,
          1.30196510359595,
          2.87546852691743,
          3.74312570579878,
          4.99035385554106,
          3.7300762666413,
          5.0675948814029,
          4.01638177635452,
          4.29307146515178,
          4.75094782312509,
          3.55739104440454,
          3.37815766178009,
          2.26868043761239,
          1.14477299247883,
          5.65867459519393,
          1.31809196241525,
          2.6140398272664,
          2.66739616621786,
          0.690750521011083,
          10.4147342313026,
          4.33910831451982,
          3.95391078742402,
          4.05313986380152,
          -7.12040933569828,
          -5.4140139985128,
          0.275268980329585,
          -13.8877533571244,
          -2.34092820223162,
          -5.33371939419183,
          -5.88123771461969,
          null,
          0.11640257847661,
          -3.02190653735798,
          0.583765613758572,
          4.70670292023203,
          -1.39591933577908,
          3.84915193512856,
          -2.84370502025251,
          null,
          2.89368176678101,
          1.00565417029748,
          1.50053912327405,
          2.11737323957688,
          1.11781661979235,
          0.165530155189344,
          4.54870091782639,
          null,
          null,
          null,
          0.341212854265805,
          7.63002243937019,
          2.73894429537623,
          2.97091078107165,
          3.77235697746502,
          3.40068454610739,
          -0.0512856664974208,
          2.94341785870446,
          1.6061781601217,
          6.47820360338791,
          6.34739277389478,
          3.85034869245426,
          4.71292765493601,
          5.52189240110543,
          -1.07323833266479,
          -3.16925628485011,
          -4.61174792296352,
          -1.4014819110336,
          3.99318432319997,
          -2.20305716727071,
          null,
          3.62781247373715,
          0.230160992711959,
          -6.58290444947292,
          7.03723456375734,
          2.37975233636634,
          1.37834535331957,
          3.37043437009008,
          2.10552472012415,
          2.13907818098535,
          1.4850851572351,
          1.87490316346144,
          5.49601879186557,
          7.13477339709543,
          2.08447062883643,
          0.771168471432347,
          0.727150841891671,
          2.79561511891441,
          2.03724979302511,
          3.01412372965098,
          null,
          3.09007521518672,
          1.62818524031636,
          3.12743665014771,
          3.73994653301939,
          0.892853480384076,
          0.354567463257808,
          3.56826865222615,
          -1.30174208592079,
          1.13629398955948,
          1.92983038350924,
          -0.771333169072193,
          6.93498173764449,
          3.29494984036958,
          5.40948263334755,
          -4.0172570696939,
          -14.4643283839458,
          1.65165139562203,
          2.76252525104977,
          -3.21438996722308,
          -2.84677194924208,
          -5.15126272885315,
          -3.51055886020198,
          3.04110046320396,
          3.78048933448123,
          -0.847554024383243,
          1.53310203539129,
          1.92771305987296,
          3.43913006319094,
          5.80704982687432,
          0.791214735013071,
          -0.463136173887264,
          4.80391392484378,
          1.89944589579329,
          5.10254439807166,
          3.88639887857198,
          0.772577449000039,
          null,
          3.21238484755931,
          3.94666041513302,
          3.49556337411252,
          3.41271420371963,
          5.83779433480274,
          4.07405080631071,
          3.61333896520242,
          1.7608385701202,
          1.43779618991398,
          4.37343432204094,
          1.87818319997308,
          3.62894134847109,
          1.30812718300903,
          1.02950964718904,
          2.000426387909,
          1.63957008515976,
          1.44193641296673,
          2.35777247171723,
          3.42255065978614,
          -6.86795522506981,
          -5.19898191898565,
          -8.51302848718304,
          -7.9783624054085,
          2.7372096544037,
          -12.8328031209275,
          -8.38031959236709,
          -6.12785740051382,
          -1.87642962600751,
          2.83788902621922,
          -0.762183409548683,
          2.11702295235642,
          1.71388353634956,
          4.27631155105293,
          0.517239888578146,
          0.978938492697395,
          3.42361905839128,
          2.46224621613314,
          5.94542050836115,
          3.88643966054494,
          4.7764007853099,
          8.15268965958531,
          2.92544098347776,
          1.91173867643482,
          0.615879780344869,
          -0.308351814824903,
          -0.315789835146461,
          7.78796752390349,
          3.68311780660653,
          1.37798003366018,
          7.61684985137107,
          3.9336103307084,
          5.33560169088059,
          4.10805412926589,
          3.73257258246224,
          3.38875708958024,
          8.55494147469737,
          8.48818929971516,
          -0.185773152884209,
          -2.80592074025158,
          -4.16103849540806,
          1.58487281451019,
          -2.14528444981812,
          0.6567576283297,
          0.527304433471059,
          5.24600245889164,
          null,
          -0.198378899470342,
          3.24652646444873,
          0.638439615993107,
          2.02719224044716,
          4.16298429125608,
          2.74053637300669,
          1.96303772715136,
          4.07631630530021,
          6.46719149769011,
          6.6993125562973,
          null,
          4.59825479417304,
          -0.755077166602604,
          5.54236124450642,
          5.56854702197779,
          null,
          2.84796200765309,
          null,
          8.43155401049707,
          4.17933586171797,
          4.28824956470235,
          -2.72241557643444,
          -5.45457716940945,
          -4.55211707597449,
          -6.45306695717771,
          3.30690394106003,
          -1.49960586559654,
          -7.44700134811362,
          -0.579348337851414,
          0.387889020776356,
          -4.72698260115841,
          -5.58143638478245,
          2.04856930205865,
          -17.1453939003606,
          -0.923734450159557,
          -1.86559117436354,
          -0.171161336111382,
          -2.04094625503657,
          -3.24206011995115,
          null,
          1.83746046437267,
          1.76493726416223,
          6.65376580785784,
          -1.90698749835167,
          3.46545257130404,
          5.51040939515839,
          0.109402978570955,
          3.25992999335219,
          4.37278036207435,
          -0.305508789463317,
          6.2718932515553,
          5.05212095813312,
          4.13903544058229,
          1.55297238193847,
          6.19841368396281,
          null,
          0.00166227940896135,
          -3.37039728344887,
          -2.66888734294891,
          -5.71150838276657,
          -5.99697748606286,
          -7.8277499767233,
          -2.79094025368749,
          1.33406600038019,
          0.110596604306124,
          5.12573837988386,
          -0.149916088315891,
          0.809511841772917,
          -0.551990987453394,
          0.711105773404924,
          1.53678665884595,
          1.86559949596563,
          1.3776409008747,
          -3.66753141566937,
          1.90446223662212,
          1.14652064105034,
          -1.32100232444557,
          3.46121242479198,
          1.33065222724522,
          -0.868860056866723,
          0.678212594110718,
          4.38132728884378,
          5.92036718190722,
          4.16394850028571,
          5.55399785284234,
          6.71848397093488,
          2.59289108650813,
          3.38769983664584,
          1.34938713004821,
          8.53470556597679,
          2.68186066748035,
          33.0304877689447,
          5.33972344422868,
          2.19518969027396,
          9.142617036882,
          10.3978181252148,
          -6.05481196628648,
          -1.33344793528724,
          -1.10570020249949,
          -3.44334280616775,
          1.00765403282705,
          -0.738925917657525,
          0.982324095724891,
          -2.80561175003068,
          6.55400450177738,
          5.04583814593265,
          1.66130830846163,
          null,
          -0.776739175354805,
          2.81552410737709,
          2.40486787201,
          2.77322125091402,
          1.93564456435379,
          3.45353825605781,
          2.65053090696199,
          10.4637091559227,
          1.91648045091225,
          5.01599112354818,
          3.57206346379428,
          1.74108525754491,
          1.48515735957702,
          8.67067585292331,
          1.79648632582968,
          7.05060251949079,
          -0.786442204419629,
          0.415386597297541,
          -3.45001592321435,
          null,
          2.11992606815087,
          0.222450576943075,
          3.59836215956679,
          8.37822379715232,
          5.1697619045632,
          1.54546434180358,
          null,
          4.88385492937473,
          -0.714325922150593,
          1.00624883578185,
          3.47276670505505,
          1.68730805478903,
          0.0144915655816646
         ],
         "xaxis": "x",
         "y": [
          432.16633333333345,
          529.3593718411562,
          499.92287396937553,
          455.838009708737,
          444.6795063829786,
          511.66328527300294,
          513.2314156946427,
          485.52731326993666,
          537.0133298192774,
          493.5428240122346,
          491.1196017164655,
          524.9671536873153,
          317.93438092577765,
          503.34937242854005,
          428.0210139417241,
          497.46145086678985,
          499.4138694992399,
          424.82054683365743,
          600.1154858260005,
          530.3241425755591,
          533.3215197568392,
          493.4399545651233,
          415.6460422771034,
          431.37362601738926,
          431.53751837121206,
          510.5899666868324,
          391.527813695199,
          503.45027135478733,
          515.138048724889,
          462.75501649266124,
          482.192114742192,
          472.8751635444554,
          448.98892570737,
          455.90654034678136,
          489.50034690799396,
          477.28221318144784,
          513.873539703903,
          398.8408571428573,
          536.447997542998,
          318.13686094069556,
          470.7196498054474,
          532.9815223284473,
          540.0659567781022,
          514.3551282747745,
          413.3494940531289,
          517.2015265981483,
          490.51112242172184,
          435.20392386856815,
          376.6020626631847,
          460.59879455346487,
          488.6331043214038,
          548.6090859891765,
          476.85350044169587,
          442.45901140684373,
          490.0716922571668,
          397.79439353099605,
          405.56949327817955,
          520.3979487728285,
          495.3598649073615,
          561.2740957601752,
          376.0717903770916,
          518.1333862780252,
          482.70294194226585,
          484.4812087802393,
          557.5768506615956,
          387.27974486044957,
          508.1755231014324,
          487.226095592898,
          494.6078616504863,
          494.96006813746334,
          501.2880918630645,
          351.59944877644216,
          592.4258574390435,
          495.65928621031765,
          477.22210247592955,
          376.70840237939984,
          398.37274336283184,
          527.5915775401062,
          332.0784593837537,
          384.1862419798348,
          513.4998955067916,
          359.9176345238098,
          509.3396348082,
          517.4461210942334,
          536.017349241404,
          551.6238125296015,
          505.1514948271299,
          546.8074398183948,
          436.1326129012084,
          378.9606483827692,
          497.12518669527987,
          490.6834766485136,
          427.3202184738963,
          424.71587040456603,
          409.23388816076834,
          342.84941744548195,
          406.0937021946996,
          513.9321892621485,
          453.89006774634277,
          538.3130455295211,
          445.7971456444627,
          491.6192861346582,
          473.46515336894663,
          516.6700558227413,
          434.27850124655913,
          497.42028340080986,
          453.66909542402004,
          489.0336954403742,
          499.32755155101455,
          464.1900620564682,
          528.2104339499111,
          395.72617759173454,
          390.6686651104324,
          401.8173232007898,
          493.2207243762632,
          419.6830430643022,
          566.0493207010176,
          452.7007586357039,
          503.20784601283293,
          460.9918394950408,
          521.6318952777849,
          495.9238527805111,
          488.9783482089889,
          465.5103977864576,
          495.19309032527,
          508.39830136245575,
          518.0843114845634,
          388.26870993316396,
          537.2279356189692,
          482.33527317664766,
          516.3923867798551,
          513.7459932303791,
          335.06047934215803,
          499.21632906243764,
          486.5093680533499,
          558.9706814310064,
          494.865217867309,
          529.501414663052,
          411.57297378599173,
          422.78840140465593,
          376.76170262630086,
          481.03247617517087,
          502.7637218465144,
          439.7792429165101,
          327.25049118787416,
          496.7439711969899,
          398.07377552159045,
          494.511226287007,
          367.8861658350463,
          429.7354083408346,
          489.93081994970413,
          502.800430959303,
          527.489512909015,
          515.3380172413789,
          526.4301876804627,
          455.1827500000003,
          356.1948979591842,
          459.41289710289755,
          384.5998388625589,
          534.831189287976,
          542.5086528467899,
          514.6719045074627,
          426.8946512461383,
          526.8723979112543,
          549.934135320321,
          525.8186361055095,
          388.8942991089265,
          315.96315370935025,
          489.924691624039,
          470.19023411626455,
          501.4347787798404,
          527.7807620488827,
          391.40284038542137,
          511.29741424802035,
          537.4809845094674,
          507.3872408118491,
          393.4290348442798,
          487.51112172367897,
          478.69648415921915,
          446.9065832666132,
          470.6994323776423,
          386.1854420368119,
          490.2699298022074,
          418.63488917055827,
          501.3906709857864,
          437.55462321119717,
          429.6038202521142,
          384.27942559161744,
          523.2680637697518,
          526.5420505263157,
          516.9425690666679,
          437.2979506544652,
          473.6429882525693,
          542.8515775158654,
          483.27300118623936,
          522.3981768225665,
          532.974254604367,
          405.0676701130619,
          542.5269218937877,
          472.9732876297295,
          359.5124272611733,
          516.2325080169363,
          417.2061831925296,
          503.73408871396555,
          461.8854455161084,
          496.7460529621395,
          443.0234828315877,
          420.84044985954887,
          478.5958348680813,
          494.6522650391046,
          508.7479776857748,
          519.0987060345861,
          534.028121848739,
          395.2961848829834,
          395.40224075829406,
          509.3289821852938,
          493.14707653933766,
          478.68092453443023,
          487.16372350936865,
          447.7353774978651,
          410.95768698024415,
          399.9788314278142,
          554.4202171608416,
          400.99654025458835,
          439.91131506638413,
          354.14049298245646,
          497.2557020778,
          null,
          483.0717406542056,
          454.37807017543867,
          509.5593340163936,
          508.4461237553653,
          440.6362869245731,
          504.27548731282457,
          435.9819622247451,
          365.8473097902079,
          563.3329543845698,
          395.18370976431004,
          425.2180442829458,
          363.5482754310362,
          427.34498779676113,
          511.0354870455915,
          468.15136647212734,
          495.52145059717805,
          372.811851635515,
          448.6464936642953,
          424.3898130718962,
          361.1427362055936,
          366.51993149540544,
          425.45964405359916,
          496.0598924259033,
          366.9334591321888,
          427.0091018680394,
          519.7749776797439,
          507.5257762487259,
          499.4704357034456,
          469.8331208266764,
          491.904166765359,
          537.8997744027304,
          490.6906763764873,
          515.1897064008402,
          430.9271223645321,
          396.9971011235956,
          517.6278758797176,
          450.9195796178345,
          515.2965211627911,
          555.020407347031,
          489.06461613850996,
          496.0156371681392,
          422.9879728036678,
          467.34494051409945,
          380.72552067249046,
          523.0432543437703,
          500.2729615107263,
          546.4715366146456,
          389.23439717207566,
          498.8939134481165,
          555.4045751498859,
          489.9123675780567,
          400.23737823834205,
          469.82477015825316,
          380.27331252690624,
          442.158361359334,
          520.6722063674432,
          444.4196442677925,
          486.1854531078732,
          489.6455449008596,
          500.9036291866028,
          468.88582166172097,
          536.0645998582914,
          554.228403556525,
          489.7527760990187,
          484.55976473261256,
          568.3596690046888,
          485.6447338819995,
          479.1529380278714,
          448.8336182755785,
          510.9467898525066,
          429.47397656707875,
          502.0078106769383,
          556.6342121854303,
          420.96938978945406,
          522.7177633564745,
          537.6091889400915,
          563.3609697601662,
          566.0451934651751,
          361.59951753554515,
          505.34764786082366,
          522.3425462399999,
          526.1273595211704,
          476.56073458719317,
          373.45231322018685,
          502.1512854307538,
          485.26786066610447,
          523.4555755672287,
          488.12206248412474,
          525.1813995295687,
          522.5284708162835,
          407.0985517103429,
          382.5007926890229,
          485.39084006236953,
          382.6234865586807,
          406.39744432967956,
          441.14709111414015,
          407.1396225308638,
          402.5089320038766,
          362.2290005931199,
          415.67210623372983,
          488.95759871188284,
          473.1427170318309,
          489.88191011235944,
          504.2993055555557,
          563.8278119348997,
          498.2624727668846,
          479.8258108108103,
          481.9615631414948,
          417.4584275941146,
          512.401603398057,
          496.95572533927026,
          473.7591056629716,
          414.9716352872206,
          475.177461700234,
          433.35867405670535,
          408.8044216555788,
          367.1223485349187,
          485.63750812153813,
          338.28774133663325,
          492.84285477521814,
          507.71175255520535,
          521.8050499476897,
          495.4492500464443,
          367.81065522783837,
          520.5929259170833,
          610.5470296890094,
          400.7088673725763,
          483.8915196940741,
          415.2486462529108,
          441.4488846342673,
          496.5204339867155,
          416.3846731901959
         ],
         "yaxis": "y"
        }
       ],
       "layout": {
        "coloraxis": {
         "colorbar": {
          "title": {
           "text": "gdp_pc"
          }
         },
         "colorscale": [
          [
           0,
           "#0d0887"
          ],
          [
           0.1111111111111111,
           "#46039f"
          ],
          [
           0.2222222222222222,
           "#7201a8"
          ],
          [
           0.3333333333333333,
           "#9c179e"
          ],
          [
           0.4444444444444444,
           "#bd3786"
          ],
          [
           0.5555555555555556,
           "#d8576b"
          ],
          [
           0.6666666666666666,
           "#ed7953"
          ],
          [
           0.7777777777777778,
           "#fb9f3a"
          ],
          [
           0.8888888888888888,
           "#fdca26"
          ],
          [
           1,
           "#f0f921"
          ]
         ]
        },
        "legend": {
         "tracegroupgap": 0
        },
        "margin": {
         "t": 60
        },
        "template": {
         "data": {
          "bar": [
           {
            "error_x": {
             "color": "#2a3f5f"
            },
            "error_y": {
             "color": "#2a3f5f"
            },
            "marker": {
             "line": {
              "color": "#E5ECF6",
              "width": 0.5
             },
             "pattern": {
              "fillmode": "overlay",
              "size": 10,
              "solidity": 0.2
             }
            },
            "type": "bar"
           }
          ],
          "barpolar": [
           {
            "marker": {
             "line": {
              "color": "#E5ECF6",
              "width": 0.5
             },
             "pattern": {
              "fillmode": "overlay",
              "size": 10,
              "solidity": 0.2
             }
            },
            "type": "barpolar"
           }
          ],
          "carpet": [
           {
            "aaxis": {
             "endlinecolor": "#2a3f5f",
             "gridcolor": "white",
             "linecolor": "white",
             "minorgridcolor": "white",
             "startlinecolor": "#2a3f5f"
            },
            "baxis": {
             "endlinecolor": "#2a3f5f",
             "gridcolor": "white",
             "linecolor": "white",
             "minorgridcolor": "white",
             "startlinecolor": "#2a3f5f"
            },
            "type": "carpet"
           }
          ],
          "choropleth": [
           {
            "colorbar": {
             "outlinewidth": 0,
             "ticks": ""
            },
            "type": "choropleth"
           }
          ],
          "contour": [
           {
            "colorbar": {
             "outlinewidth": 0,
             "ticks": ""
            },
            "colorscale": [
             [
              0,
              "#0d0887"
             ],
             [
              0.1111111111111111,
              "#46039f"
             ],
             [
              0.2222222222222222,
              "#7201a8"
             ],
             [
              0.3333333333333333,
              "#9c179e"
             ],
             [
              0.4444444444444444,
              "#bd3786"
             ],
             [
              0.5555555555555556,
              "#d8576b"
             ],
             [
              0.6666666666666666,
              "#ed7953"
             ],
             [
              0.7777777777777778,
              "#fb9f3a"
             ],
             [
              0.8888888888888888,
              "#fdca26"
             ],
             [
              1,
              "#f0f921"
             ]
            ],
            "type": "contour"
           }
          ],
          "contourcarpet": [
           {
            "colorbar": {
             "outlinewidth": 0,
             "ticks": ""
            },
            "type": "contourcarpet"
           }
          ],
          "heatmap": [
           {
            "colorbar": {
             "outlinewidth": 0,
             "ticks": ""
            },
            "colorscale": [
             [
              0,
              "#0d0887"
             ],
             [
              0.1111111111111111,
              "#46039f"
             ],
             [
              0.2222222222222222,
              "#7201a8"
             ],
             [
              0.3333333333333333,
              "#9c179e"
             ],
             [
              0.4444444444444444,
              "#bd3786"
             ],
             [
              0.5555555555555556,
              "#d8576b"
             ],
             [
              0.6666666666666666,
              "#ed7953"
             ],
             [
              0.7777777777777778,
              "#fb9f3a"
             ],
             [
              0.8888888888888888,
              "#fdca26"
             ],
             [
              1,
              "#f0f921"
             ]
            ],
            "type": "heatmap"
           }
          ],
          "heatmapgl": [
           {
            "colorbar": {
             "outlinewidth": 0,
             "ticks": ""
            },
            "colorscale": [
             [
              0,
              "#0d0887"
             ],
             [
              0.1111111111111111,
              "#46039f"
             ],
             [
              0.2222222222222222,
              "#7201a8"
             ],
             [
              0.3333333333333333,
              "#9c179e"
             ],
             [
              0.4444444444444444,
              "#bd3786"
             ],
             [
              0.5555555555555556,
              "#d8576b"
             ],
             [
              0.6666666666666666,
              "#ed7953"
             ],
             [
              0.7777777777777778,
              "#fb9f3a"
             ],
             [
              0.8888888888888888,
              "#fdca26"
             ],
             [
              1,
              "#f0f921"
             ]
            ],
            "type": "heatmapgl"
           }
          ],
          "histogram": [
           {
            "marker": {
             "pattern": {
              "fillmode": "overlay",
              "size": 10,
              "solidity": 0.2
             }
            },
            "type": "histogram"
           }
          ],
          "histogram2d": [
           {
            "colorbar": {
             "outlinewidth": 0,
             "ticks": ""
            },
            "colorscale": [
             [
              0,
              "#0d0887"
             ],
             [
              0.1111111111111111,
              "#46039f"
             ],
             [
              0.2222222222222222,
              "#7201a8"
             ],
             [
              0.3333333333333333,
              "#9c179e"
             ],
             [
              0.4444444444444444,
              "#bd3786"
             ],
             [
              0.5555555555555556,
              "#d8576b"
             ],
             [
              0.6666666666666666,
              "#ed7953"
             ],
             [
              0.7777777777777778,
              "#fb9f3a"
             ],
             [
              0.8888888888888888,
              "#fdca26"
             ],
             [
              1,
              "#f0f921"
             ]
            ],
            "type": "histogram2d"
           }
          ],
          "histogram2dcontour": [
           {
            "colorbar": {
             "outlinewidth": 0,
             "ticks": ""
            },
            "colorscale": [
             [
              0,
              "#0d0887"
             ],
             [
              0.1111111111111111,
              "#46039f"
             ],
             [
              0.2222222222222222,
              "#7201a8"
             ],
             [
              0.3333333333333333,
              "#9c179e"
             ],
             [
              0.4444444444444444,
              "#bd3786"
             ],
             [
              0.5555555555555556,
              "#d8576b"
             ],
             [
              0.6666666666666666,
              "#ed7953"
             ],
             [
              0.7777777777777778,
              "#fb9f3a"
             ],
             [
              0.8888888888888888,
              "#fdca26"
             ],
             [
              1,
              "#f0f921"
             ]
            ],
            "type": "histogram2dcontour"
           }
          ],
          "mesh3d": [
           {
            "colorbar": {
             "outlinewidth": 0,
             "ticks": ""
            },
            "type": "mesh3d"
           }
          ],
          "parcoords": [
           {
            "line": {
             "colorbar": {
              "outlinewidth": 0,
              "ticks": ""
             }
            },
            "type": "parcoords"
           }
          ],
          "pie": [
           {
            "automargin": true,
            "type": "pie"
           }
          ],
          "scatter": [
           {
            "fillpattern": {
             "fillmode": "overlay",
             "size": 10,
             "solidity": 0.2
            },
            "type": "scatter"
           }
          ],
          "scatter3d": [
           {
            "line": {
             "colorbar": {
              "outlinewidth": 0,
              "ticks": ""
             }
            },
            "marker": {
             "colorbar": {
              "outlinewidth": 0,
              "ticks": ""
             }
            },
            "type": "scatter3d"
           }
          ],
          "scattercarpet": [
           {
            "marker": {
             "colorbar": {
              "outlinewidth": 0,
              "ticks": ""
             }
            },
            "type": "scattercarpet"
           }
          ],
          "scattergeo": [
           {
            "marker": {
             "colorbar": {
              "outlinewidth": 0,
              "ticks": ""
             }
            },
            "type": "scattergeo"
           }
          ],
          "scattergl": [
           {
            "marker": {
             "colorbar": {
              "outlinewidth": 0,
              "ticks": ""
             }
            },
            "type": "scattergl"
           }
          ],
          "scattermapbox": [
           {
            "marker": {
             "colorbar": {
              "outlinewidth": 0,
              "ticks": ""
             }
            },
            "type": "scattermapbox"
           }
          ],
          "scatterpolar": [
           {
            "marker": {
             "colorbar": {
              "outlinewidth": 0,
              "ticks": ""
             }
            },
            "type": "scatterpolar"
           }
          ],
          "scatterpolargl": [
           {
            "marker": {
             "colorbar": {
              "outlinewidth": 0,
              "ticks": ""
             }
            },
            "type": "scatterpolargl"
           }
          ],
          "scatterternary": [
           {
            "marker": {
             "colorbar": {
              "outlinewidth": 0,
              "ticks": ""
             }
            },
            "type": "scatterternary"
           }
          ],
          "surface": [
           {
            "colorbar": {
             "outlinewidth": 0,
             "ticks": ""
            },
            "colorscale": [
             [
              0,
              "#0d0887"
             ],
             [
              0.1111111111111111,
              "#46039f"
             ],
             [
              0.2222222222222222,
              "#7201a8"
             ],
             [
              0.3333333333333333,
              "#9c179e"
             ],
             [
              0.4444444444444444,
              "#bd3786"
             ],
             [
              0.5555555555555556,
              "#d8576b"
             ],
             [
              0.6666666666666666,
              "#ed7953"
             ],
             [
              0.7777777777777778,
              "#fb9f3a"
             ],
             [
              0.8888888888888888,
              "#fdca26"
             ],
             [
              1,
              "#f0f921"
             ]
            ],
            "type": "surface"
           }
          ],
          "table": [
           {
            "cells": {
             "fill": {
              "color": "#EBF0F8"
             },
             "line": {
              "color": "white"
             }
            },
            "header": {
             "fill": {
              "color": "#C8D4E3"
             },
             "line": {
              "color": "white"
             }
            },
            "type": "table"
           }
          ]
         },
         "layout": {
          "annotationdefaults": {
           "arrowcolor": "#2a3f5f",
           "arrowhead": 0,
           "arrowwidth": 1
          },
          "autotypenumbers": "strict",
          "coloraxis": {
           "colorbar": {
            "outlinewidth": 0,
            "ticks": ""
           }
          },
          "colorscale": {
           "diverging": [
            [
             0,
             "#8e0152"
            ],
            [
             0.1,
             "#c51b7d"
            ],
            [
             0.2,
             "#de77ae"
            ],
            [
             0.3,
             "#f1b6da"
            ],
            [
             0.4,
             "#fde0ef"
            ],
            [
             0.5,
             "#f7f7f7"
            ],
            [
             0.6,
             "#e6f5d0"
            ],
            [
             0.7,
             "#b8e186"
            ],
            [
             0.8,
             "#7fbc41"
            ],
            [
             0.9,
             "#4d9221"
            ],
            [
             1,
             "#276419"
            ]
           ],
           "sequential": [
            [
             0,
             "#0d0887"
            ],
            [
             0.1111111111111111,
             "#46039f"
            ],
            [
             0.2222222222222222,
             "#7201a8"
            ],
            [
             0.3333333333333333,
             "#9c179e"
            ],
            [
             0.4444444444444444,
             "#bd3786"
            ],
            [
             0.5555555555555556,
             "#d8576b"
            ],
            [
             0.6666666666666666,
             "#ed7953"
            ],
            [
             0.7777777777777778,
             "#fb9f3a"
            ],
            [
             0.8888888888888888,
             "#fdca26"
            ],
            [
             1,
             "#f0f921"
            ]
           ],
           "sequentialminus": [
            [
             0,
             "#0d0887"
            ],
            [
             0.1111111111111111,
             "#46039f"
            ],
            [
             0.2222222222222222,
             "#7201a8"
            ],
            [
             0.3333333333333333,
             "#9c179e"
            ],
            [
             0.4444444444444444,
             "#bd3786"
            ],
            [
             0.5555555555555556,
             "#d8576b"
            ],
            [
             0.6666666666666666,
             "#ed7953"
            ],
            [
             0.7777777777777778,
             "#fb9f3a"
            ],
            [
             0.8888888888888888,
             "#fdca26"
            ],
            [
             1,
             "#f0f921"
            ]
           ]
          },
          "colorway": [
           "#636efa",
           "#EF553B",
           "#00cc96",
           "#ab63fa",
           "#FFA15A",
           "#19d3f3",
           "#FF6692",
           "#B6E880",
           "#FF97FF",
           "#FECB52"
          ],
          "font": {
           "color": "#2a3f5f"
          },
          "geo": {
           "bgcolor": "white",
           "lakecolor": "white",
           "landcolor": "#E5ECF6",
           "showlakes": true,
           "showland": true,
           "subunitcolor": "white"
          },
          "hoverlabel": {
           "align": "left"
          },
          "hovermode": "closest",
          "mapbox": {
           "style": "light"
          },
          "paper_bgcolor": "white",
          "plot_bgcolor": "#E5ECF6",
          "polar": {
           "angularaxis": {
            "gridcolor": "white",
            "linecolor": "white",
            "ticks": ""
           },
           "bgcolor": "#E5ECF6",
           "radialaxis": {
            "gridcolor": "white",
            "linecolor": "white",
            "ticks": ""
           }
          },
          "scene": {
           "xaxis": {
            "backgroundcolor": "#E5ECF6",
            "gridcolor": "white",
            "gridwidth": 2,
            "linecolor": "white",
            "showbackground": true,
            "ticks": "",
            "zerolinecolor": "white"
           },
           "yaxis": {
            "backgroundcolor": "#E5ECF6",
            "gridcolor": "white",
            "gridwidth": 2,
            "linecolor": "white",
            "showbackground": true,
            "ticks": "",
            "zerolinecolor": "white"
           },
           "zaxis": {
            "backgroundcolor": "#E5ECF6",
            "gridcolor": "white",
            "gridwidth": 2,
            "linecolor": "white",
            "showbackground": true,
            "ticks": "",
            "zerolinecolor": "white"
           }
          },
          "shapedefaults": {
           "line": {
            "color": "#2a3f5f"
           }
          },
          "ternary": {
           "aaxis": {
            "gridcolor": "white",
            "linecolor": "white",
            "ticks": ""
           },
           "baxis": {
            "gridcolor": "white",
            "linecolor": "white",
            "ticks": ""
           },
           "bgcolor": "#E5ECF6",
           "caxis": {
            "gridcolor": "white",
            "linecolor": "white",
            "ticks": ""
           }
          },
          "title": {
           "x": 0.05
          },
          "xaxis": {
           "automargin": true,
           "gridcolor": "white",
           "linecolor": "white",
           "ticks": "",
           "title": {
            "standoff": 15
           },
           "zerolinecolor": "white",
           "zerolinewidth": 2
          },
          "yaxis": {
           "automargin": true,
           "gridcolor": "white",
           "linecolor": "white",
           "ticks": "",
           "title": {
            "standoff": 15
           },
           "zerolinecolor": "white",
           "zerolinewidth": 2
          }
         }
        },
        "xaxis": {
         "anchor": "y",
         "domain": [
          0,
          1
         ],
         "title": {
          "text": "gdp_pc_growth"
         }
        },
        "yaxis": {
         "anchor": "x",
         "domain": [
          0,
          1
         ],
         "title": {
          "text": "math"
         }
        }
       }
      }
     },
     "metadata": {},
     "output_type": "display_data"
    }
   ],
   "source": [
    "fig = px.scatter(df2, y=\"math\", x=\"gdp_pc_growth\", color='gdp_pc', hover_data=\"country\")\n",
    "fig.show()"
   ]
  },
  {
   "cell_type": "code",
   "execution_count": 20,
   "metadata": {},
   "outputs": [
    {
     "data": {
      "application/vnd.plotly.v1+json": {
       "config": {
        "plotlyServerURL": "https://plot.ly"
       },
       "data": [
        {
         "hovertemplate": "country=KOR<br>year=%{x}<br>in_math99=%{y}<extra></extra>",
         "legendgroup": "KOR",
         "line": {
          "color": "#636efa",
          "dash": "solid"
         },
         "marker": {
          "symbol": "circle"
         },
         "mode": "lines",
         "name": "KOR",
         "orientation": "v",
         "showlegend": true,
         "type": "scatter",
         "x": [
          2000,
          2003,
          2006,
          2009,
          2012,
          2018
         ],
         "xaxis": "x",
         "y": [
          0.4304833995612143,
          2.8542221367632994,
          3.9420296615634074,
          3.5513352649498526,
          4.8645350802742024,
          3.7585602892293317
         ],
         "yaxis": "y"
        },
        {
         "hovertemplate": "country=USA<br>year=%{x}<br>in_math99=%{y}<extra></extra>",
         "legendgroup": "USA",
         "line": {
          "color": "#EF553B",
          "dash": "solid"
         },
         "marker": {
          "symbol": "circle"
         },
         "mode": "lines",
         "name": "USA",
         "orientation": "v",
         "showlegend": true,
         "type": "scatter",
         "x": [
          2000,
          2003,
          2006,
          2009,
          2012,
          2018
         ],
         "xaxis": "x",
         "y": [
          0.32152472790082376,
          0.5654794932357041,
          0.4864867705632319,
          0.34029801285466804,
          0.4016965955083438,
          0.42750395336135555
         ],
         "yaxis": "y"
        },
        {
         "hovertemplate": "country=CAN<br>year=%{x}<br>in_math99=%{y}<extra></extra>",
         "legendgroup": "CAN",
         "line": {
          "color": "#00cc96",
          "dash": "solid"
         },
         "marker": {
          "symbol": "circle"
         },
         "mode": "lines",
         "name": "CAN",
         "orientation": "v",
         "showlegend": true,
         "type": "scatter",
         "x": [
          2000,
          2003,
          2006,
          2009,
          2012,
          2018
         ],
         "xaxis": "x",
         "y": [
          0.7047745410458687,
          1.4970837998462778,
          1.6361765662253658,
          1.5972906079161748,
          1.3485385688683817,
          2.0395557530375763
         ],
         "yaxis": "y"
        },
        {
         "hovertemplate": "country=FIN<br>year=%{x}<br>in_math99=%{y}<extra></extra>",
         "legendgroup": "FIN",
         "line": {
          "color": "#ab63fa",
          "dash": "solid"
         },
         "marker": {
          "symbol": "circle"
         },
         "mode": "lines",
         "name": "FIN",
         "orientation": "v",
         "showlegend": true,
         "type": "scatter",
         "x": [
          2000,
          2003,
          2006,
          2009,
          2012,
          2018
         ],
         "xaxis": "x",
         "y": [
          0.40552905119571175,
          1.9254650287870032,
          2.685745723090552,
          1.8643130619824408,
          0.9742553924128694,
          0.9048118306945361
         ],
         "yaxis": "y"
        },
        {
         "hovertemplate": "country=JPN<br>year=%{x}<br>in_math99=%{y}<extra></extra>",
         "legendgroup": "JPN",
         "line": {
          "color": "#FFA15A",
          "dash": "solid"
         },
         "marker": {
          "symbol": "circle"
         },
         "mode": "lines",
         "name": "JPN",
         "orientation": "v",
         "showlegend": true,
         "type": "scatter",
         "x": [
          2000,
          2003,
          2006,
          2009,
          2012,
          2018
         ],
         "xaxis": "x",
         "y": [
          1.4612807748001013,
          2.4297217496748216,
          1.8291950419675542,
          2.6080612336396167,
          2.521609413167377,
          1.9104526563440332
         ],
         "yaxis": "y"
        },
        {
         "hovertemplate": "country=SGP<br>year=%{x}<br>in_math99=%{y}<extra></extra>",
         "legendgroup": "SGP",
         "line": {
          "color": "#19d3f3",
          "dash": "solid"
         },
         "marker": {
          "symbol": "circle"
         },
         "mode": "lines",
         "name": "SGP",
         "orientation": "v",
         "showlegend": true,
         "type": "scatter",
         "x": [
          2009,
          2012,
          2018
         ],
         "xaxis": "x",
         "y": [
          8.416996796806197,
          9.501632221557484,
          7.548338984853017
         ],
         "yaxis": "y"
        },
        {
         "hovertemplate": "country=MYS<br>year=%{x}<br>in_math99=%{y}<extra></extra>",
         "legendgroup": "MYS",
         "line": {
          "color": "#FF6692",
          "dash": "solid"
         },
         "marker": {
          "symbol": "circle"
         },
         "mode": "lines",
         "name": "MYS",
         "orientation": "v",
         "showlegend": true,
         "type": "scatter",
         "x": [
          2009,
          2012,
          2018
         ],
         "xaxis": "x",
         "y": [
          0,
          0,
          0.10044961561707741
         ],
         "yaxis": "y"
        }
       ],
       "layout": {
        "legend": {
         "title": {
          "text": "country"
         },
         "tracegroupgap": 0
        },
        "margin": {
         "t": 60
        },
        "template": {
         "data": {
          "bar": [
           {
            "error_x": {
             "color": "#2a3f5f"
            },
            "error_y": {
             "color": "#2a3f5f"
            },
            "marker": {
             "line": {
              "color": "#E5ECF6",
              "width": 0.5
             },
             "pattern": {
              "fillmode": "overlay",
              "size": 10,
              "solidity": 0.2
             }
            },
            "type": "bar"
           }
          ],
          "barpolar": [
           {
            "marker": {
             "line": {
              "color": "#E5ECF6",
              "width": 0.5
             },
             "pattern": {
              "fillmode": "overlay",
              "size": 10,
              "solidity": 0.2
             }
            },
            "type": "barpolar"
           }
          ],
          "carpet": [
           {
            "aaxis": {
             "endlinecolor": "#2a3f5f",
             "gridcolor": "white",
             "linecolor": "white",
             "minorgridcolor": "white",
             "startlinecolor": "#2a3f5f"
            },
            "baxis": {
             "endlinecolor": "#2a3f5f",
             "gridcolor": "white",
             "linecolor": "white",
             "minorgridcolor": "white",
             "startlinecolor": "#2a3f5f"
            },
            "type": "carpet"
           }
          ],
          "choropleth": [
           {
            "colorbar": {
             "outlinewidth": 0,
             "ticks": ""
            },
            "type": "choropleth"
           }
          ],
          "contour": [
           {
            "colorbar": {
             "outlinewidth": 0,
             "ticks": ""
            },
            "colorscale": [
             [
              0,
              "#0d0887"
             ],
             [
              0.1111111111111111,
              "#46039f"
             ],
             [
              0.2222222222222222,
              "#7201a8"
             ],
             [
              0.3333333333333333,
              "#9c179e"
             ],
             [
              0.4444444444444444,
              "#bd3786"
             ],
             [
              0.5555555555555556,
              "#d8576b"
             ],
             [
              0.6666666666666666,
              "#ed7953"
             ],
             [
              0.7777777777777778,
              "#fb9f3a"
             ],
             [
              0.8888888888888888,
              "#fdca26"
             ],
             [
              1,
              "#f0f921"
             ]
            ],
            "type": "contour"
           }
          ],
          "contourcarpet": [
           {
            "colorbar": {
             "outlinewidth": 0,
             "ticks": ""
            },
            "type": "contourcarpet"
           }
          ],
          "heatmap": [
           {
            "colorbar": {
             "outlinewidth": 0,
             "ticks": ""
            },
            "colorscale": [
             [
              0,
              "#0d0887"
             ],
             [
              0.1111111111111111,
              "#46039f"
             ],
             [
              0.2222222222222222,
              "#7201a8"
             ],
             [
              0.3333333333333333,
              "#9c179e"
             ],
             [
              0.4444444444444444,
              "#bd3786"
             ],
             [
              0.5555555555555556,
              "#d8576b"
             ],
             [
              0.6666666666666666,
              "#ed7953"
             ],
             [
              0.7777777777777778,
              "#fb9f3a"
             ],
             [
              0.8888888888888888,
              "#fdca26"
             ],
             [
              1,
              "#f0f921"
             ]
            ],
            "type": "heatmap"
           }
          ],
          "heatmapgl": [
           {
            "colorbar": {
             "outlinewidth": 0,
             "ticks": ""
            },
            "colorscale": [
             [
              0,
              "#0d0887"
             ],
             [
              0.1111111111111111,
              "#46039f"
             ],
             [
              0.2222222222222222,
              "#7201a8"
             ],
             [
              0.3333333333333333,
              "#9c179e"
             ],
             [
              0.4444444444444444,
              "#bd3786"
             ],
             [
              0.5555555555555556,
              "#d8576b"
             ],
             [
              0.6666666666666666,
              "#ed7953"
             ],
             [
              0.7777777777777778,
              "#fb9f3a"
             ],
             [
              0.8888888888888888,
              "#fdca26"
             ],
             [
              1,
              "#f0f921"
             ]
            ],
            "type": "heatmapgl"
           }
          ],
          "histogram": [
           {
            "marker": {
             "pattern": {
              "fillmode": "overlay",
              "size": 10,
              "solidity": 0.2
             }
            },
            "type": "histogram"
           }
          ],
          "histogram2d": [
           {
            "colorbar": {
             "outlinewidth": 0,
             "ticks": ""
            },
            "colorscale": [
             [
              0,
              "#0d0887"
             ],
             [
              0.1111111111111111,
              "#46039f"
             ],
             [
              0.2222222222222222,
              "#7201a8"
             ],
             [
              0.3333333333333333,
              "#9c179e"
             ],
             [
              0.4444444444444444,
              "#bd3786"
             ],
             [
              0.5555555555555556,
              "#d8576b"
             ],
             [
              0.6666666666666666,
              "#ed7953"
             ],
             [
              0.7777777777777778,
              "#fb9f3a"
             ],
             [
              0.8888888888888888,
              "#fdca26"
             ],
             [
              1,
              "#f0f921"
             ]
            ],
            "type": "histogram2d"
           }
          ],
          "histogram2dcontour": [
           {
            "colorbar": {
             "outlinewidth": 0,
             "ticks": ""
            },
            "colorscale": [
             [
              0,
              "#0d0887"
             ],
             [
              0.1111111111111111,
              "#46039f"
             ],
             [
              0.2222222222222222,
              "#7201a8"
             ],
             [
              0.3333333333333333,
              "#9c179e"
             ],
             [
              0.4444444444444444,
              "#bd3786"
             ],
             [
              0.5555555555555556,
              "#d8576b"
             ],
             [
              0.6666666666666666,
              "#ed7953"
             ],
             [
              0.7777777777777778,
              "#fb9f3a"
             ],
             [
              0.8888888888888888,
              "#fdca26"
             ],
             [
              1,
              "#f0f921"
             ]
            ],
            "type": "histogram2dcontour"
           }
          ],
          "mesh3d": [
           {
            "colorbar": {
             "outlinewidth": 0,
             "ticks": ""
            },
            "type": "mesh3d"
           }
          ],
          "parcoords": [
           {
            "line": {
             "colorbar": {
              "outlinewidth": 0,
              "ticks": ""
             }
            },
            "type": "parcoords"
           }
          ],
          "pie": [
           {
            "automargin": true,
            "type": "pie"
           }
          ],
          "scatter": [
           {
            "fillpattern": {
             "fillmode": "overlay",
             "size": 10,
             "solidity": 0.2
            },
            "type": "scatter"
           }
          ],
          "scatter3d": [
           {
            "line": {
             "colorbar": {
              "outlinewidth": 0,
              "ticks": ""
             }
            },
            "marker": {
             "colorbar": {
              "outlinewidth": 0,
              "ticks": ""
             }
            },
            "type": "scatter3d"
           }
          ],
          "scattercarpet": [
           {
            "marker": {
             "colorbar": {
              "outlinewidth": 0,
              "ticks": ""
             }
            },
            "type": "scattercarpet"
           }
          ],
          "scattergeo": [
           {
            "marker": {
             "colorbar": {
              "outlinewidth": 0,
              "ticks": ""
             }
            },
            "type": "scattergeo"
           }
          ],
          "scattergl": [
           {
            "marker": {
             "colorbar": {
              "outlinewidth": 0,
              "ticks": ""
             }
            },
            "type": "scattergl"
           }
          ],
          "scattermapbox": [
           {
            "marker": {
             "colorbar": {
              "outlinewidth": 0,
              "ticks": ""
             }
            },
            "type": "scattermapbox"
           }
          ],
          "scatterpolar": [
           {
            "marker": {
             "colorbar": {
              "outlinewidth": 0,
              "ticks": ""
             }
            },
            "type": "scatterpolar"
           }
          ],
          "scatterpolargl": [
           {
            "marker": {
             "colorbar": {
              "outlinewidth": 0,
              "ticks": ""
             }
            },
            "type": "scatterpolargl"
           }
          ],
          "scatterternary": [
           {
            "marker": {
             "colorbar": {
              "outlinewidth": 0,
              "ticks": ""
             }
            },
            "type": "scatterternary"
           }
          ],
          "surface": [
           {
            "colorbar": {
             "outlinewidth": 0,
             "ticks": ""
            },
            "colorscale": [
             [
              0,
              "#0d0887"
             ],
             [
              0.1111111111111111,
              "#46039f"
             ],
             [
              0.2222222222222222,
              "#7201a8"
             ],
             [
              0.3333333333333333,
              "#9c179e"
             ],
             [
              0.4444444444444444,
              "#bd3786"
             ],
             [
              0.5555555555555556,
              "#d8576b"
             ],
             [
              0.6666666666666666,
              "#ed7953"
             ],
             [
              0.7777777777777778,
              "#fb9f3a"
             ],
             [
              0.8888888888888888,
              "#fdca26"
             ],
             [
              1,
              "#f0f921"
             ]
            ],
            "type": "surface"
           }
          ],
          "table": [
           {
            "cells": {
             "fill": {
              "color": "#EBF0F8"
             },
             "line": {
              "color": "white"
             }
            },
            "header": {
             "fill": {
              "color": "#C8D4E3"
             },
             "line": {
              "color": "white"
             }
            },
            "type": "table"
           }
          ]
         },
         "layout": {
          "annotationdefaults": {
           "arrowcolor": "#2a3f5f",
           "arrowhead": 0,
           "arrowwidth": 1
          },
          "autotypenumbers": "strict",
          "coloraxis": {
           "colorbar": {
            "outlinewidth": 0,
            "ticks": ""
           }
          },
          "colorscale": {
           "diverging": [
            [
             0,
             "#8e0152"
            ],
            [
             0.1,
             "#c51b7d"
            ],
            [
             0.2,
             "#de77ae"
            ],
            [
             0.3,
             "#f1b6da"
            ],
            [
             0.4,
             "#fde0ef"
            ],
            [
             0.5,
             "#f7f7f7"
            ],
            [
             0.6,
             "#e6f5d0"
            ],
            [
             0.7,
             "#b8e186"
            ],
            [
             0.8,
             "#7fbc41"
            ],
            [
             0.9,
             "#4d9221"
            ],
            [
             1,
             "#276419"
            ]
           ],
           "sequential": [
            [
             0,
             "#0d0887"
            ],
            [
             0.1111111111111111,
             "#46039f"
            ],
            [
             0.2222222222222222,
             "#7201a8"
            ],
            [
             0.3333333333333333,
             "#9c179e"
            ],
            [
             0.4444444444444444,
             "#bd3786"
            ],
            [
             0.5555555555555556,
             "#d8576b"
            ],
            [
             0.6666666666666666,
             "#ed7953"
            ],
            [
             0.7777777777777778,
             "#fb9f3a"
            ],
            [
             0.8888888888888888,
             "#fdca26"
            ],
            [
             1,
             "#f0f921"
            ]
           ],
           "sequentialminus": [
            [
             0,
             "#0d0887"
            ],
            [
             0.1111111111111111,
             "#46039f"
            ],
            [
             0.2222222222222222,
             "#7201a8"
            ],
            [
             0.3333333333333333,
             "#9c179e"
            ],
            [
             0.4444444444444444,
             "#bd3786"
            ],
            [
             0.5555555555555556,
             "#d8576b"
            ],
            [
             0.6666666666666666,
             "#ed7953"
            ],
            [
             0.7777777777777778,
             "#fb9f3a"
            ],
            [
             0.8888888888888888,
             "#fdca26"
            ],
            [
             1,
             "#f0f921"
            ]
           ]
          },
          "colorway": [
           "#636efa",
           "#EF553B",
           "#00cc96",
           "#ab63fa",
           "#FFA15A",
           "#19d3f3",
           "#FF6692",
           "#B6E880",
           "#FF97FF",
           "#FECB52"
          ],
          "font": {
           "color": "#2a3f5f"
          },
          "geo": {
           "bgcolor": "white",
           "lakecolor": "white",
           "landcolor": "#E5ECF6",
           "showlakes": true,
           "showland": true,
           "subunitcolor": "white"
          },
          "hoverlabel": {
           "align": "left"
          },
          "hovermode": "closest",
          "mapbox": {
           "style": "light"
          },
          "paper_bgcolor": "white",
          "plot_bgcolor": "#E5ECF6",
          "polar": {
           "angularaxis": {
            "gridcolor": "white",
            "linecolor": "white",
            "ticks": ""
           },
           "bgcolor": "#E5ECF6",
           "radialaxis": {
            "gridcolor": "white",
            "linecolor": "white",
            "ticks": ""
           }
          },
          "scene": {
           "xaxis": {
            "backgroundcolor": "#E5ECF6",
            "gridcolor": "white",
            "gridwidth": 2,
            "linecolor": "white",
            "showbackground": true,
            "ticks": "",
            "zerolinecolor": "white"
           },
           "yaxis": {
            "backgroundcolor": "#E5ECF6",
            "gridcolor": "white",
            "gridwidth": 2,
            "linecolor": "white",
            "showbackground": true,
            "ticks": "",
            "zerolinecolor": "white"
           },
           "zaxis": {
            "backgroundcolor": "#E5ECF6",
            "gridcolor": "white",
            "gridwidth": 2,
            "linecolor": "white",
            "showbackground": true,
            "ticks": "",
            "zerolinecolor": "white"
           }
          },
          "shapedefaults": {
           "line": {
            "color": "#2a3f5f"
           }
          },
          "ternary": {
           "aaxis": {
            "gridcolor": "white",
            "linecolor": "white",
            "ticks": ""
           },
           "baxis": {
            "gridcolor": "white",
            "linecolor": "white",
            "ticks": ""
           },
           "bgcolor": "#E5ECF6",
           "caxis": {
            "gridcolor": "white",
            "linecolor": "white",
            "ticks": ""
           }
          },
          "title": {
           "x": 0.05
          },
          "xaxis": {
           "automargin": true,
           "gridcolor": "white",
           "linecolor": "white",
           "ticks": "",
           "title": {
            "standoff": 15
           },
           "zerolinecolor": "white",
           "zerolinewidth": 2
          },
          "yaxis": {
           "automargin": true,
           "gridcolor": "white",
           "linecolor": "white",
           "ticks": "",
           "title": {
            "standoff": 15
           },
           "zerolinecolor": "white",
           "zerolinewidth": 2
          }
         }
        },
        "xaxis": {
         "anchor": "y",
         "domain": [
          0,
          1
         ],
         "title": {
          "text": "year"
         }
        },
        "yaxis": {
         "anchor": "x",
         "domain": [
          0,
          1
         ],
         "title": {
          "text": "in_math99"
         }
        }
       }
      }
     },
     "metadata": {},
     "output_type": "display_data"
    }
   ],
   "source": [
    "fig2 = px.line(df2.filter(pl.col(\"country\").str.contains_any([\"USA\", \"SGP\", \"CAN\", \"GBP\", \"JPN\", \"KOR\", \"MYS\", \"FIN\"])).sort(\"year\"), x=\"year\", y=\"in_math99\", color=\"country\")\n",
    "fig2.show()"
   ]
  },
  {
   "cell_type": "code",
   "execution_count": 21,
   "metadata": {},
   "outputs": [
    {
     "data": {
      "application/vnd.plotly.v1+json": {
       "config": {
        "plotlyServerURL": "https://plot.ly"
       },
       "data": [
        {
         "hovertemplate": "country=KOR<br>year=%{x}<br>math=%{y}<extra></extra>",
         "legendgroup": "KOR",
         "line": {
          "color": "#636efa",
          "dash": "solid"
         },
         "marker": {
          "symbol": "circle"
         },
         "mode": "lines",
         "name": "KOR",
         "orientation": "v",
         "showlegend": true,
         "type": "scatter",
         "x": [
          2000,
          2003,
          2006,
          2009,
          2012,
          2018
         ],
         "xaxis": "x",
         "y": [
          542.8515775158654,
          540.0659567781022,
          546.8074398183948,
          548.6090859891765,
          554.228403556525,
          526.5420505263157
         ],
         "yaxis": "y"
        },
        {
         "hovertemplate": "country=USA<br>year=%{x}<br>math=%{y}<extra></extra>",
         "legendgroup": "USA",
         "line": {
          "color": "#EF553B",
          "dash": "solid"
         },
         "marker": {
          "symbol": "circle"
         },
         "mode": "lines",
         "name": "USA",
         "orientation": "v",
         "showlegend": true,
         "type": "scatter",
         "x": [
          2000,
          2003,
          2006,
          2009,
          2012,
          2018
         ],
         "xaxis": "x",
         "y": [
          483.27300118623936,
          481.9615631414948,
          475.177461700234,
          485.63750812153813,
          481.03247617517087,
          473.1427170318309
         ],
         "yaxis": "y"
        },
        {
         "hovertemplate": "country=CAN<br>year=%{x}<br>math=%{y}<extra></extra>",
         "legendgroup": "CAN",
         "line": {
          "color": "#00cc96",
          "dash": "solid"
         },
         "marker": {
          "symbol": "circle"
         },
         "mode": "lines",
         "name": "CAN",
         "orientation": "v",
         "showlegend": true,
         "type": "scatter",
         "x": [
          2000,
          2003,
          2006,
          2009,
          2012,
          2018
         ],
         "xaxis": "x",
         "y": [
          522.7177633564745,
          521.6318952777849,
          517.4461210942334,
          516.3923867798551,
          509.3289821852938,
          503.45027135478733
         ],
         "yaxis": "y"
        },
        {
         "hovertemplate": "country=FIN<br>year=%{x}<br>math=%{y}<extra></extra>",
         "legendgroup": "FIN",
         "line": {
          "color": "#ab63fa",
          "dash": "solid"
         },
         "marker": {
          "symbol": "circle"
         },
         "mode": "lines",
         "name": "FIN",
         "orientation": "v",
         "showlegend": true,
         "type": "scatter",
         "x": [
          2000,
          2003,
          2006,
          2009,
          2012,
          2018
         ],
         "xaxis": "x",
         "y": [
          537.6091889400915,
          542.5086528467899,
          549.934135320321,
          537.4809845094674,
          507.5257762487259,
          508.1755231014324
         ],
         "yaxis": "y"
        },
        {
         "hovertemplate": "country=JPN<br>year=%{x}<br>math=%{y}<extra></extra>",
         "legendgroup": "JPN",
         "line": {
          "color": "#FFA15A",
          "dash": "solid"
         },
         "marker": {
          "symbol": "circle"
         },
         "mode": "lines",
         "name": "JPN",
         "orientation": "v",
         "showlegend": true,
         "type": "scatter",
         "x": [
          2000,
          2003,
          2006,
          2009,
          2012,
          2018
         ],
         "xaxis": "x",
         "y": [
          566.0451934651751,
          532.9815223284473,
          525.8186361055095,
          530.3241425755591,
          536.0645998582914,
          528.2104339499111
         ],
         "yaxis": "y"
        },
        {
         "hovertemplate": "country=SGP<br>year=%{x}<br>math=%{y}<extra></extra>",
         "legendgroup": "SGP",
         "line": {
          "color": "#19d3f3",
          "dash": "solid"
         },
         "marker": {
          "symbol": "circle"
         },
         "mode": "lines",
         "name": "SGP",
         "orientation": "v",
         "showlegend": true,
         "type": "scatter",
         "x": [
          2009,
          2012,
          2018
         ],
         "xaxis": "x",
         "y": [
          558.9706814310064,
          568.3596690046888,
          566.0493207010176
         ],
         "yaxis": "y"
        },
        {
         "hovertemplate": "country=MYS<br>year=%{x}<br>math=%{y}<extra></extra>",
         "legendgroup": "MYS",
         "line": {
          "color": "#FF6692",
          "dash": "solid"
         },
         "marker": {
          "symbol": "circle"
         },
         "mode": "lines",
         "name": "MYS",
         "orientation": "v",
         "showlegend": true,
         "type": "scatter",
         "x": [
          2009,
          2012,
          2018
         ],
         "xaxis": "x",
         "y": [
          407.0985517103429,
          422.78840140465593,
          441.4488846342673
         ],
         "yaxis": "y"
        }
       ],
       "layout": {
        "legend": {
         "title": {
          "text": "country"
         },
         "tracegroupgap": 0
        },
        "margin": {
         "t": 60
        },
        "template": {
         "data": {
          "bar": [
           {
            "error_x": {
             "color": "#2a3f5f"
            },
            "error_y": {
             "color": "#2a3f5f"
            },
            "marker": {
             "line": {
              "color": "#E5ECF6",
              "width": 0.5
             },
             "pattern": {
              "fillmode": "overlay",
              "size": 10,
              "solidity": 0.2
             }
            },
            "type": "bar"
           }
          ],
          "barpolar": [
           {
            "marker": {
             "line": {
              "color": "#E5ECF6",
              "width": 0.5
             },
             "pattern": {
              "fillmode": "overlay",
              "size": 10,
              "solidity": 0.2
             }
            },
            "type": "barpolar"
           }
          ],
          "carpet": [
           {
            "aaxis": {
             "endlinecolor": "#2a3f5f",
             "gridcolor": "white",
             "linecolor": "white",
             "minorgridcolor": "white",
             "startlinecolor": "#2a3f5f"
            },
            "baxis": {
             "endlinecolor": "#2a3f5f",
             "gridcolor": "white",
             "linecolor": "white",
             "minorgridcolor": "white",
             "startlinecolor": "#2a3f5f"
            },
            "type": "carpet"
           }
          ],
          "choropleth": [
           {
            "colorbar": {
             "outlinewidth": 0,
             "ticks": ""
            },
            "type": "choropleth"
           }
          ],
          "contour": [
           {
            "colorbar": {
             "outlinewidth": 0,
             "ticks": ""
            },
            "colorscale": [
             [
              0,
              "#0d0887"
             ],
             [
              0.1111111111111111,
              "#46039f"
             ],
             [
              0.2222222222222222,
              "#7201a8"
             ],
             [
              0.3333333333333333,
              "#9c179e"
             ],
             [
              0.4444444444444444,
              "#bd3786"
             ],
             [
              0.5555555555555556,
              "#d8576b"
             ],
             [
              0.6666666666666666,
              "#ed7953"
             ],
             [
              0.7777777777777778,
              "#fb9f3a"
             ],
             [
              0.8888888888888888,
              "#fdca26"
             ],
             [
              1,
              "#f0f921"
             ]
            ],
            "type": "contour"
           }
          ],
          "contourcarpet": [
           {
            "colorbar": {
             "outlinewidth": 0,
             "ticks": ""
            },
            "type": "contourcarpet"
           }
          ],
          "heatmap": [
           {
            "colorbar": {
             "outlinewidth": 0,
             "ticks": ""
            },
            "colorscale": [
             [
              0,
              "#0d0887"
             ],
             [
              0.1111111111111111,
              "#46039f"
             ],
             [
              0.2222222222222222,
              "#7201a8"
             ],
             [
              0.3333333333333333,
              "#9c179e"
             ],
             [
              0.4444444444444444,
              "#bd3786"
             ],
             [
              0.5555555555555556,
              "#d8576b"
             ],
             [
              0.6666666666666666,
              "#ed7953"
             ],
             [
              0.7777777777777778,
              "#fb9f3a"
             ],
             [
              0.8888888888888888,
              "#fdca26"
             ],
             [
              1,
              "#f0f921"
             ]
            ],
            "type": "heatmap"
           }
          ],
          "heatmapgl": [
           {
            "colorbar": {
             "outlinewidth": 0,
             "ticks": ""
            },
            "colorscale": [
             [
              0,
              "#0d0887"
             ],
             [
              0.1111111111111111,
              "#46039f"
             ],
             [
              0.2222222222222222,
              "#7201a8"
             ],
             [
              0.3333333333333333,
              "#9c179e"
             ],
             [
              0.4444444444444444,
              "#bd3786"
             ],
             [
              0.5555555555555556,
              "#d8576b"
             ],
             [
              0.6666666666666666,
              "#ed7953"
             ],
             [
              0.7777777777777778,
              "#fb9f3a"
             ],
             [
              0.8888888888888888,
              "#fdca26"
             ],
             [
              1,
              "#f0f921"
             ]
            ],
            "type": "heatmapgl"
           }
          ],
          "histogram": [
           {
            "marker": {
             "pattern": {
              "fillmode": "overlay",
              "size": 10,
              "solidity": 0.2
             }
            },
            "type": "histogram"
           }
          ],
          "histogram2d": [
           {
            "colorbar": {
             "outlinewidth": 0,
             "ticks": ""
            },
            "colorscale": [
             [
              0,
              "#0d0887"
             ],
             [
              0.1111111111111111,
              "#46039f"
             ],
             [
              0.2222222222222222,
              "#7201a8"
             ],
             [
              0.3333333333333333,
              "#9c179e"
             ],
             [
              0.4444444444444444,
              "#bd3786"
             ],
             [
              0.5555555555555556,
              "#d8576b"
             ],
             [
              0.6666666666666666,
              "#ed7953"
             ],
             [
              0.7777777777777778,
              "#fb9f3a"
             ],
             [
              0.8888888888888888,
              "#fdca26"
             ],
             [
              1,
              "#f0f921"
             ]
            ],
            "type": "histogram2d"
           }
          ],
          "histogram2dcontour": [
           {
            "colorbar": {
             "outlinewidth": 0,
             "ticks": ""
            },
            "colorscale": [
             [
              0,
              "#0d0887"
             ],
             [
              0.1111111111111111,
              "#46039f"
             ],
             [
              0.2222222222222222,
              "#7201a8"
             ],
             [
              0.3333333333333333,
              "#9c179e"
             ],
             [
              0.4444444444444444,
              "#bd3786"
             ],
             [
              0.5555555555555556,
              "#d8576b"
             ],
             [
              0.6666666666666666,
              "#ed7953"
             ],
             [
              0.7777777777777778,
              "#fb9f3a"
             ],
             [
              0.8888888888888888,
              "#fdca26"
             ],
             [
              1,
              "#f0f921"
             ]
            ],
            "type": "histogram2dcontour"
           }
          ],
          "mesh3d": [
           {
            "colorbar": {
             "outlinewidth": 0,
             "ticks": ""
            },
            "type": "mesh3d"
           }
          ],
          "parcoords": [
           {
            "line": {
             "colorbar": {
              "outlinewidth": 0,
              "ticks": ""
             }
            },
            "type": "parcoords"
           }
          ],
          "pie": [
           {
            "automargin": true,
            "type": "pie"
           }
          ],
          "scatter": [
           {
            "fillpattern": {
             "fillmode": "overlay",
             "size": 10,
             "solidity": 0.2
            },
            "type": "scatter"
           }
          ],
          "scatter3d": [
           {
            "line": {
             "colorbar": {
              "outlinewidth": 0,
              "ticks": ""
             }
            },
            "marker": {
             "colorbar": {
              "outlinewidth": 0,
              "ticks": ""
             }
            },
            "type": "scatter3d"
           }
          ],
          "scattercarpet": [
           {
            "marker": {
             "colorbar": {
              "outlinewidth": 0,
              "ticks": ""
             }
            },
            "type": "scattercarpet"
           }
          ],
          "scattergeo": [
           {
            "marker": {
             "colorbar": {
              "outlinewidth": 0,
              "ticks": ""
             }
            },
            "type": "scattergeo"
           }
          ],
          "scattergl": [
           {
            "marker": {
             "colorbar": {
              "outlinewidth": 0,
              "ticks": ""
             }
            },
            "type": "scattergl"
           }
          ],
          "scattermapbox": [
           {
            "marker": {
             "colorbar": {
              "outlinewidth": 0,
              "ticks": ""
             }
            },
            "type": "scattermapbox"
           }
          ],
          "scatterpolar": [
           {
            "marker": {
             "colorbar": {
              "outlinewidth": 0,
              "ticks": ""
             }
            },
            "type": "scatterpolar"
           }
          ],
          "scatterpolargl": [
           {
            "marker": {
             "colorbar": {
              "outlinewidth": 0,
              "ticks": ""
             }
            },
            "type": "scatterpolargl"
           }
          ],
          "scatterternary": [
           {
            "marker": {
             "colorbar": {
              "outlinewidth": 0,
              "ticks": ""
             }
            },
            "type": "scatterternary"
           }
          ],
          "surface": [
           {
            "colorbar": {
             "outlinewidth": 0,
             "ticks": ""
            },
            "colorscale": [
             [
              0,
              "#0d0887"
             ],
             [
              0.1111111111111111,
              "#46039f"
             ],
             [
              0.2222222222222222,
              "#7201a8"
             ],
             [
              0.3333333333333333,
              "#9c179e"
             ],
             [
              0.4444444444444444,
              "#bd3786"
             ],
             [
              0.5555555555555556,
              "#d8576b"
             ],
             [
              0.6666666666666666,
              "#ed7953"
             ],
             [
              0.7777777777777778,
              "#fb9f3a"
             ],
             [
              0.8888888888888888,
              "#fdca26"
             ],
             [
              1,
              "#f0f921"
             ]
            ],
            "type": "surface"
           }
          ],
          "table": [
           {
            "cells": {
             "fill": {
              "color": "#EBF0F8"
             },
             "line": {
              "color": "white"
             }
            },
            "header": {
             "fill": {
              "color": "#C8D4E3"
             },
             "line": {
              "color": "white"
             }
            },
            "type": "table"
           }
          ]
         },
         "layout": {
          "annotationdefaults": {
           "arrowcolor": "#2a3f5f",
           "arrowhead": 0,
           "arrowwidth": 1
          },
          "autotypenumbers": "strict",
          "coloraxis": {
           "colorbar": {
            "outlinewidth": 0,
            "ticks": ""
           }
          },
          "colorscale": {
           "diverging": [
            [
             0,
             "#8e0152"
            ],
            [
             0.1,
             "#c51b7d"
            ],
            [
             0.2,
             "#de77ae"
            ],
            [
             0.3,
             "#f1b6da"
            ],
            [
             0.4,
             "#fde0ef"
            ],
            [
             0.5,
             "#f7f7f7"
            ],
            [
             0.6,
             "#e6f5d0"
            ],
            [
             0.7,
             "#b8e186"
            ],
            [
             0.8,
             "#7fbc41"
            ],
            [
             0.9,
             "#4d9221"
            ],
            [
             1,
             "#276419"
            ]
           ],
           "sequential": [
            [
             0,
             "#0d0887"
            ],
            [
             0.1111111111111111,
             "#46039f"
            ],
            [
             0.2222222222222222,
             "#7201a8"
            ],
            [
             0.3333333333333333,
             "#9c179e"
            ],
            [
             0.4444444444444444,
             "#bd3786"
            ],
            [
             0.5555555555555556,
             "#d8576b"
            ],
            [
             0.6666666666666666,
             "#ed7953"
            ],
            [
             0.7777777777777778,
             "#fb9f3a"
            ],
            [
             0.8888888888888888,
             "#fdca26"
            ],
            [
             1,
             "#f0f921"
            ]
           ],
           "sequentialminus": [
            [
             0,
             "#0d0887"
            ],
            [
             0.1111111111111111,
             "#46039f"
            ],
            [
             0.2222222222222222,
             "#7201a8"
            ],
            [
             0.3333333333333333,
             "#9c179e"
            ],
            [
             0.4444444444444444,
             "#bd3786"
            ],
            [
             0.5555555555555556,
             "#d8576b"
            ],
            [
             0.6666666666666666,
             "#ed7953"
            ],
            [
             0.7777777777777778,
             "#fb9f3a"
            ],
            [
             0.8888888888888888,
             "#fdca26"
            ],
            [
             1,
             "#f0f921"
            ]
           ]
          },
          "colorway": [
           "#636efa",
           "#EF553B",
           "#00cc96",
           "#ab63fa",
           "#FFA15A",
           "#19d3f3",
           "#FF6692",
           "#B6E880",
           "#FF97FF",
           "#FECB52"
          ],
          "font": {
           "color": "#2a3f5f"
          },
          "geo": {
           "bgcolor": "white",
           "lakecolor": "white",
           "landcolor": "#E5ECF6",
           "showlakes": true,
           "showland": true,
           "subunitcolor": "white"
          },
          "hoverlabel": {
           "align": "left"
          },
          "hovermode": "closest",
          "mapbox": {
           "style": "light"
          },
          "paper_bgcolor": "white",
          "plot_bgcolor": "#E5ECF6",
          "polar": {
           "angularaxis": {
            "gridcolor": "white",
            "linecolor": "white",
            "ticks": ""
           },
           "bgcolor": "#E5ECF6",
           "radialaxis": {
            "gridcolor": "white",
            "linecolor": "white",
            "ticks": ""
           }
          },
          "scene": {
           "xaxis": {
            "backgroundcolor": "#E5ECF6",
            "gridcolor": "white",
            "gridwidth": 2,
            "linecolor": "white",
            "showbackground": true,
            "ticks": "",
            "zerolinecolor": "white"
           },
           "yaxis": {
            "backgroundcolor": "#E5ECF6",
            "gridcolor": "white",
            "gridwidth": 2,
            "linecolor": "white",
            "showbackground": true,
            "ticks": "",
            "zerolinecolor": "white"
           },
           "zaxis": {
            "backgroundcolor": "#E5ECF6",
            "gridcolor": "white",
            "gridwidth": 2,
            "linecolor": "white",
            "showbackground": true,
            "ticks": "",
            "zerolinecolor": "white"
           }
          },
          "shapedefaults": {
           "line": {
            "color": "#2a3f5f"
           }
          },
          "ternary": {
           "aaxis": {
            "gridcolor": "white",
            "linecolor": "white",
            "ticks": ""
           },
           "baxis": {
            "gridcolor": "white",
            "linecolor": "white",
            "ticks": ""
           },
           "bgcolor": "#E5ECF6",
           "caxis": {
            "gridcolor": "white",
            "linecolor": "white",
            "ticks": ""
           }
          },
          "title": {
           "x": 0.05
          },
          "xaxis": {
           "automargin": true,
           "gridcolor": "white",
           "linecolor": "white",
           "ticks": "",
           "title": {
            "standoff": 15
           },
           "zerolinecolor": "white",
           "zerolinewidth": 2
          },
          "yaxis": {
           "automargin": true,
           "gridcolor": "white",
           "linecolor": "white",
           "ticks": "",
           "title": {
            "standoff": 15
           },
           "zerolinecolor": "white",
           "zerolinewidth": 2
          }
         }
        },
        "xaxis": {
         "anchor": "y",
         "domain": [
          0,
          1
         ],
         "title": {
          "text": "year"
         }
        },
        "yaxis": {
         "anchor": "x",
         "domain": [
          0,
          1
         ],
         "title": {
          "text": "math"
         }
        }
       }
      }
     },
     "metadata": {},
     "output_type": "display_data"
    }
   ],
   "source": [
    "fig2 = px.line(df2.filter(pl.col(\"country\").str.contains_any([\"USA\", \"SGP\", \"CAN\", \"GBP\", \"JPN\", \"KOR\", \"MYS\", \"FIN\"])).sort(\"year\"), x=\"year\", y=\"math\", color=\"country\")\n",
    "fig2.show()"
   ]
  },
  {
   "cell_type": "code",
   "execution_count": null,
   "metadata": {},
   "outputs": [],
   "source": []
  },
  {
   "cell_type": "code",
   "execution_count": null,
   "metadata": {},
   "outputs": [],
   "source": []
  }
 ],
 "metadata": {
  "kernelspec": {
   "display_name": "base",
   "language": "python",
   "name": "python3"
  },
  "language_info": {
   "codemirror_mode": {
    "name": "ipython",
    "version": 3
   },
   "file_extension": ".py",
   "mimetype": "text/x-python",
   "name": "python",
   "nbconvert_exporter": "python",
   "pygments_lexer": "ipython3",
   "version": "3.12.2"
  }
 },
 "nbformat": 4,
 "nbformat_minor": 2
}
