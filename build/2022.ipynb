{
 "cells": [
  {
   "cell_type": "code",
   "execution_count": 1,
   "metadata": {},
   "outputs": [],
   "source": [
    "import pyreadstat\n",
    "\n",
    "df, meta = pyreadstat.read_sas7bdat('../data/2022/cy08msp_stu_qqq.sas7bdat', usecols=[\"CNT\", \"W_FSTUWT\", \"PV1MATH\", \"PV2MATH\", \"PV3MATH\", \"PV4MATH\", \"PV5MATH\", \"PV6MATH\", \"PV7MATH\", \"PV8MATH\", \"PV9MATH\", \"PV10MATH\"])"
   ]
  },
  {
   "cell_type": "code",
   "execution_count": 3,
   "metadata": {},
   "outputs": [],
   "source": [
    "import polars as pl\n",
    "import numpy as np"
   ]
  },
  {
   "cell_type": "code",
   "execution_count": 4,
   "metadata": {},
   "outputs": [],
   "source": [
    "df[\"math\"] = np.mean([df[\"PV1MATH\"], df[\"PV2MATH\"], df[\"PV3MATH\"], df[\"PV4MATH\"], df[\"PV5MATH\"], df[\"PV6MATH\"], df[\"PV7MATH\"], df[\"PV8MATH\"], df[\"PV9MATH\"], df[\"PV10MATH\"]], axis=0)"
   ]
  },
  {
   "cell_type": "code",
   "execution_count": 5,
   "metadata": {},
   "outputs": [
    {
     "data": {
      "text/html": [
       "<div>\n",
       "<style scoped>\n",
       "    .dataframe tbody tr th:only-of-type {\n",
       "        vertical-align: middle;\n",
       "    }\n",
       "\n",
       "    .dataframe tbody tr th {\n",
       "        vertical-align: top;\n",
       "    }\n",
       "\n",
       "    .dataframe thead th {\n",
       "        text-align: right;\n",
       "    }\n",
       "</style>\n",
       "<table border=\"1\" class=\"dataframe\">\n",
       "  <thead>\n",
       "    <tr style=\"text-align: right;\">\n",
       "      <th></th>\n",
       "      <th>CNT</th>\n",
       "      <th>W_FSTUWT</th>\n",
       "      <th>PV1MATH</th>\n",
       "      <th>PV2MATH</th>\n",
       "      <th>PV3MATH</th>\n",
       "      <th>PV4MATH</th>\n",
       "      <th>PV5MATH</th>\n",
       "      <th>PV6MATH</th>\n",
       "      <th>PV7MATH</th>\n",
       "      <th>PV8MATH</th>\n",
       "      <th>PV9MATH</th>\n",
       "      <th>PV10MATH</th>\n",
       "      <th>math</th>\n",
       "    </tr>\n",
       "  </thead>\n",
       "  <tbody>\n",
       "    <tr>\n",
       "      <th>0</th>\n",
       "      <td>ALB</td>\n",
       "      <td>3.15874</td>\n",
       "      <td>179.583</td>\n",
       "      <td>201.334</td>\n",
       "      <td>222.248</td>\n",
       "      <td>194.943</td>\n",
       "      <td>222.755</td>\n",
       "      <td>213.100</td>\n",
       "      <td>221.021</td>\n",
       "      <td>293.710</td>\n",
       "      <td>226.912</td>\n",
       "      <td>254.745</td>\n",
       "      <td>223.0351</td>\n",
       "    </tr>\n",
       "    <tr>\n",
       "      <th>1</th>\n",
       "      <td>ALB</td>\n",
       "      <td>4.34524</td>\n",
       "      <td>308.247</td>\n",
       "      <td>304.444</td>\n",
       "      <td>316.129</td>\n",
       "      <td>234.353</td>\n",
       "      <td>323.448</td>\n",
       "      <td>303.435</td>\n",
       "      <td>333.178</td>\n",
       "      <td>288.888</td>\n",
       "      <td>343.157</td>\n",
       "      <td>329.659</td>\n",
       "      <td>308.4938</td>\n",
       "    </tr>\n",
       "    <tr>\n",
       "      <th>2</th>\n",
       "      <td>ALB</td>\n",
       "      <td>7.83860</td>\n",
       "      <td>267.514</td>\n",
       "      <td>343.743</td>\n",
       "      <td>327.157</td>\n",
       "      <td>290.771</td>\n",
       "      <td>316.227</td>\n",
       "      <td>309.451</td>\n",
       "      <td>323.337</td>\n",
       "      <td>307.508</td>\n",
       "      <td>356.244</td>\n",
       "      <td>295.401</td>\n",
       "      <td>313.7353</td>\n",
       "    </tr>\n",
       "    <tr>\n",
       "      <th>3</th>\n",
       "      <td>ALB</td>\n",
       "      <td>8.49148</td>\n",
       "      <td>272.649</td>\n",
       "      <td>300.642</td>\n",
       "      <td>226.409</td>\n",
       "      <td>316.835</td>\n",
       "      <td>288.861</td>\n",
       "      <td>321.268</td>\n",
       "      <td>312.063</td>\n",
       "      <td>334.765</td>\n",
       "      <td>283.916</td>\n",
       "      <td>329.915</td>\n",
       "      <td>298.7323</td>\n",
       "    </tr>\n",
       "    <tr>\n",
       "      <th>4</th>\n",
       "      <td>ALB</td>\n",
       "      <td>3.70957</td>\n",
       "      <td>435.473</td>\n",
       "      <td>491.174</td>\n",
       "      <td>478.365</td>\n",
       "      <td>454.352</td>\n",
       "      <td>491.031</td>\n",
       "      <td>504.919</td>\n",
       "      <td>468.401</td>\n",
       "      <td>463.913</td>\n",
       "      <td>470.627</td>\n",
       "      <td>499.257</td>\n",
       "      <td>475.7512</td>\n",
       "    </tr>\n",
       "  </tbody>\n",
       "</table>\n",
       "</div>"
      ],
      "text/plain": [
       "   CNT  W_FSTUWT  PV1MATH  PV2MATH  PV3MATH  PV4MATH  PV5MATH  PV6MATH  \\\n",
       "0  ALB   3.15874  179.583  201.334  222.248  194.943  222.755  213.100   \n",
       "1  ALB   4.34524  308.247  304.444  316.129  234.353  323.448  303.435   \n",
       "2  ALB   7.83860  267.514  343.743  327.157  290.771  316.227  309.451   \n",
       "3  ALB   8.49148  272.649  300.642  226.409  316.835  288.861  321.268   \n",
       "4  ALB   3.70957  435.473  491.174  478.365  454.352  491.031  504.919   \n",
       "\n",
       "   PV7MATH  PV8MATH  PV9MATH  PV10MATH      math  \n",
       "0  221.021  293.710  226.912   254.745  223.0351  \n",
       "1  333.178  288.888  343.157   329.659  308.4938  \n",
       "2  323.337  307.508  356.244   295.401  313.7353  \n",
       "3  312.063  334.765  283.916   329.915  298.7323  \n",
       "4  468.401  463.913  470.627   499.257  475.7512  "
      ]
     },
     "execution_count": 5,
     "metadata": {},
     "output_type": "execute_result"
    }
   ],
   "source": [
    "df.head()"
   ]
  },
  {
   "cell_type": "code",
   "execution_count": 6,
   "metadata": {},
   "outputs": [],
   "source": [
    "total = pl.scan_parquet(\"../data/combined_all.parquet\")"
   ]
  },
  {
   "cell_type": "code",
   "execution_count": 7,
   "metadata": {},
   "outputs": [
    {
     "data": {
      "text/html": [
       "<div><style>\n",
       ".dataframe > thead > tr,\n",
       ".dataframe > tbody > tr {\n",
       "  text-align: right;\n",
       "  white-space: pre-wrap;\n",
       "}\n",
       "</style>\n",
       "<small>shape: (5, 16)</small><table border=\"1\" class=\"dataframe\"><thead><tr><th>country</th><th>year</th><th>gdp_pc</th><th>gdp_pc_growth</th><th>primary_completion</th><th>lower_sec_completion</th><th>upper_sec_completion</th><th>population</th><th>arwu_ranked_num</th><th>arwu_sum_score</th><th>math</th><th>read</th><th>science</th><th>in_math99</th><th>imo_total_score</th><th>democracy_eiu</th></tr><tr><td>str</td><td>i64</td><td>f64</td><td>f64</td><td>f64</td><td>f64</td><td>f64</td><td>u64</td><td>u32</td><td>f64</td><td>f64</td><td>f64</td><td>f64</td><td>f64</td><td>f64</td><td>f64</td></tr></thead><tbody><tr><td>&quot;AFG&quot;</td><td>2018</td><td>492.090632</td><td>-1.688577</td><td>null</td><td>null</td><td>null</td><td>36686784</td><td>0</td><td>0.0</td><td>null</td><td>null</td><td>null</td><td>null</td><td>0.0</td><td>2.97</td></tr><tr><td>&quot;ALB&quot;</td><td>2018</td><td>5287.660801</td><td>4.276312</td><td>null</td><td>null</td><td>null</td><td>2866376</td><td>0</td><td>0.0</td><td>437.554623</td><td>406.819682</td><td>416.779228</td><td>0.062738</td><td>37.0</td><td>5.98</td></tr><tr><td>&quot;DZA&quot;</td><td>2018</td><td>4171.790388</td><td>-0.70795</td><td>null</td><td>null</td><td>null</td><td>41927007</td><td>0</td><td>0.0</td><td>null</td><td>null</td><td>null</td><td>null</td><td>0.0</td><td>3.5</td></tr><tr><td>&quot;ASM&quot;</td><td>2018</td><td>13195.9359</td><td>4.874061</td><td>null</td><td>null</td><td>null</td><td>48424</td><td>0</td><td>0.0</td><td>null</td><td>null</td><td>null</td><td>null</td><td>0.0</td><td>null</td></tr><tr><td>&quot;AND&quot;</td><td>2018</td><td>42904.811588</td><td>-0.00387</td><td>null</td><td>null</td><td>null</td><td>75013</td><td>0</td><td>0.0</td><td>null</td><td>null</td><td>null</td><td>null</td><td>0.0</td><td>null</td></tr></tbody></table></div>"
      ],
      "text/plain": [
       "shape: (5, 16)\n",
       "┌─────────┬──────┬─────────────┬────────────┬───┬────────────┬───────────┬────────────┬────────────┐\n",
       "│ country ┆ year ┆ gdp_pc      ┆ gdp_pc_gro ┆ … ┆ science    ┆ in_math99 ┆ imo_total_ ┆ democracy_ │\n",
       "│ ---     ┆ ---  ┆ ---         ┆ wth        ┆   ┆ ---        ┆ ---       ┆ score      ┆ eiu        │\n",
       "│ str     ┆ i64  ┆ f64         ┆ ---        ┆   ┆ f64        ┆ f64       ┆ ---        ┆ ---        │\n",
       "│         ┆      ┆             ┆ f64        ┆   ┆            ┆           ┆ f64        ┆ f64        │\n",
       "╞═════════╪══════╪═════════════╪════════════╪═══╪════════════╪═══════════╪════════════╪════════════╡\n",
       "│ AFG     ┆ 2018 ┆ 492.090632  ┆ -1.688577  ┆ … ┆ null       ┆ null      ┆ 0.0        ┆ 2.97       │\n",
       "│ ALB     ┆ 2018 ┆ 5287.660801 ┆ 4.276312   ┆ … ┆ 416.779228 ┆ 0.062738  ┆ 37.0       ┆ 5.98       │\n",
       "│ DZA     ┆ 2018 ┆ 4171.790388 ┆ -0.70795   ┆ … ┆ null       ┆ null      ┆ 0.0        ┆ 3.5        │\n",
       "│ ASM     ┆ 2018 ┆ 13195.9359  ┆ 4.874061   ┆ … ┆ null       ┆ null      ┆ 0.0        ┆ null       │\n",
       "│ AND     ┆ 2018 ┆ 42904.81158 ┆ -0.00387   ┆ … ┆ null       ┆ null      ┆ 0.0        ┆ null       │\n",
       "│         ┆      ┆ 8           ┆            ┆   ┆            ┆           ┆            ┆            │\n",
       "└─────────┴──────┴─────────────┴────────────┴───┴────────────┴───────────┴────────────┴────────────┘"
      ]
     },
     "execution_count": 7,
     "metadata": {},
     "output_type": "execute_result"
    }
   ],
   "source": [
    "total.filter(pl.col(\"year\") == 2018).head().collect()"
   ]
  },
  {
   "cell_type": "code",
   "execution_count": 8,
   "metadata": {},
   "outputs": [
    {
     "data": {
      "text/html": [
       "<div>\n",
       "<style scoped>\n",
       "    .dataframe tbody tr th:only-of-type {\n",
       "        vertical-align: middle;\n",
       "    }\n",
       "\n",
       "    .dataframe tbody tr th {\n",
       "        vertical-align: top;\n",
       "    }\n",
       "\n",
       "    .dataframe thead th {\n",
       "        text-align: right;\n",
       "    }\n",
       "</style>\n",
       "<table border=\"1\" class=\"dataframe\">\n",
       "  <thead>\n",
       "    <tr style=\"text-align: right;\">\n",
       "      <th></th>\n",
       "      <th>country</th>\n",
       "      <th>stu_wgt</th>\n",
       "      <th>PV1MATH</th>\n",
       "      <th>PV2MATH</th>\n",
       "      <th>PV3MATH</th>\n",
       "      <th>PV4MATH</th>\n",
       "      <th>PV5MATH</th>\n",
       "      <th>PV6MATH</th>\n",
       "      <th>PV7MATH</th>\n",
       "      <th>PV8MATH</th>\n",
       "      <th>PV9MATH</th>\n",
       "      <th>PV10MATH</th>\n",
       "      <th>math</th>\n",
       "    </tr>\n",
       "  </thead>\n",
       "  <tbody>\n",
       "    <tr>\n",
       "      <th>0</th>\n",
       "      <td>ALB</td>\n",
       "      <td>3.15874</td>\n",
       "      <td>179.583</td>\n",
       "      <td>201.334</td>\n",
       "      <td>222.248</td>\n",
       "      <td>194.943</td>\n",
       "      <td>222.755</td>\n",
       "      <td>213.100</td>\n",
       "      <td>221.021</td>\n",
       "      <td>293.710</td>\n",
       "      <td>226.912</td>\n",
       "      <td>254.745</td>\n",
       "      <td>223.0351</td>\n",
       "    </tr>\n",
       "    <tr>\n",
       "      <th>1</th>\n",
       "      <td>ALB</td>\n",
       "      <td>4.34524</td>\n",
       "      <td>308.247</td>\n",
       "      <td>304.444</td>\n",
       "      <td>316.129</td>\n",
       "      <td>234.353</td>\n",
       "      <td>323.448</td>\n",
       "      <td>303.435</td>\n",
       "      <td>333.178</td>\n",
       "      <td>288.888</td>\n",
       "      <td>343.157</td>\n",
       "      <td>329.659</td>\n",
       "      <td>308.4938</td>\n",
       "    </tr>\n",
       "    <tr>\n",
       "      <th>2</th>\n",
       "      <td>ALB</td>\n",
       "      <td>7.83860</td>\n",
       "      <td>267.514</td>\n",
       "      <td>343.743</td>\n",
       "      <td>327.157</td>\n",
       "      <td>290.771</td>\n",
       "      <td>316.227</td>\n",
       "      <td>309.451</td>\n",
       "      <td>323.337</td>\n",
       "      <td>307.508</td>\n",
       "      <td>356.244</td>\n",
       "      <td>295.401</td>\n",
       "      <td>313.7353</td>\n",
       "    </tr>\n",
       "    <tr>\n",
       "      <th>3</th>\n",
       "      <td>ALB</td>\n",
       "      <td>8.49148</td>\n",
       "      <td>272.649</td>\n",
       "      <td>300.642</td>\n",
       "      <td>226.409</td>\n",
       "      <td>316.835</td>\n",
       "      <td>288.861</td>\n",
       "      <td>321.268</td>\n",
       "      <td>312.063</td>\n",
       "      <td>334.765</td>\n",
       "      <td>283.916</td>\n",
       "      <td>329.915</td>\n",
       "      <td>298.7323</td>\n",
       "    </tr>\n",
       "    <tr>\n",
       "      <th>4</th>\n",
       "      <td>ALB</td>\n",
       "      <td>3.70957</td>\n",
       "      <td>435.473</td>\n",
       "      <td>491.174</td>\n",
       "      <td>478.365</td>\n",
       "      <td>454.352</td>\n",
       "      <td>491.031</td>\n",
       "      <td>504.919</td>\n",
       "      <td>468.401</td>\n",
       "      <td>463.913</td>\n",
       "      <td>470.627</td>\n",
       "      <td>499.257</td>\n",
       "      <td>475.7512</td>\n",
       "    </tr>\n",
       "    <tr>\n",
       "      <th>...</th>\n",
       "      <td>...</td>\n",
       "      <td>...</td>\n",
       "      <td>...</td>\n",
       "      <td>...</td>\n",
       "      <td>...</td>\n",
       "      <td>...</td>\n",
       "      <td>...</td>\n",
       "      <td>...</td>\n",
       "      <td>...</td>\n",
       "      <td>...</td>\n",
       "      <td>...</td>\n",
       "      <td>...</td>\n",
       "      <td>...</td>\n",
       "    </tr>\n",
       "    <tr>\n",
       "      <th>613739</th>\n",
       "      <td>UZB</td>\n",
       "      <td>69.40366</td>\n",
       "      <td>300.530</td>\n",
       "      <td>329.387</td>\n",
       "      <td>359.595</td>\n",
       "      <td>314.353</td>\n",
       "      <td>322.403</td>\n",
       "      <td>333.284</td>\n",
       "      <td>311.266</td>\n",
       "      <td>342.431</td>\n",
       "      <td>348.710</td>\n",
       "      <td>308.192</td>\n",
       "      <td>327.0151</td>\n",
       "    </tr>\n",
       "    <tr>\n",
       "      <th>613740</th>\n",
       "      <td>UZB</td>\n",
       "      <td>63.18910</td>\n",
       "      <td>265.080</td>\n",
       "      <td>257.582</td>\n",
       "      <td>327.787</td>\n",
       "      <td>311.439</td>\n",
       "      <td>267.167</td>\n",
       "      <td>323.318</td>\n",
       "      <td>273.206</td>\n",
       "      <td>268.522</td>\n",
       "      <td>296.958</td>\n",
       "      <td>273.324</td>\n",
       "      <td>286.4383</td>\n",
       "    </tr>\n",
       "    <tr>\n",
       "      <th>613741</th>\n",
       "      <td>UZB</td>\n",
       "      <td>65.47339</td>\n",
       "      <td>420.221</td>\n",
       "      <td>399.911</td>\n",
       "      <td>420.742</td>\n",
       "      <td>432.866</td>\n",
       "      <td>392.747</td>\n",
       "      <td>397.174</td>\n",
       "      <td>421.565</td>\n",
       "      <td>407.357</td>\n",
       "      <td>407.601</td>\n",
       "      <td>418.482</td>\n",
       "      <td>411.8666</td>\n",
       "    </tr>\n",
       "    <tr>\n",
       "      <th>613742</th>\n",
       "      <td>UZB</td>\n",
       "      <td>66.15595</td>\n",
       "      <td>343.129</td>\n",
       "      <td>355.853</td>\n",
       "      <td>296.233</td>\n",
       "      <td>335.538</td>\n",
       "      <td>372.287</td>\n",
       "      <td>315.866</td>\n",
       "      <td>335.566</td>\n",
       "      <td>405.146</td>\n",
       "      <td>313.752</td>\n",
       "      <td>307.822</td>\n",
       "      <td>338.1192</td>\n",
       "    </tr>\n",
       "    <tr>\n",
       "      <th>613743</th>\n",
       "      <td>UZB</td>\n",
       "      <td>65.47339</td>\n",
       "      <td>350.056</td>\n",
       "      <td>419.903</td>\n",
       "      <td>393.147</td>\n",
       "      <td>429.775</td>\n",
       "      <td>364.818</td>\n",
       "      <td>417.647</td>\n",
       "      <td>348.383</td>\n",
       "      <td>404.625</td>\n",
       "      <td>357.951</td>\n",
       "      <td>418.439</td>\n",
       "      <td>390.4744</td>\n",
       "    </tr>\n",
       "  </tbody>\n",
       "</table>\n",
       "<p>613744 rows × 13 columns</p>\n",
       "</div>"
      ],
      "text/plain": [
       "       country   stu_wgt  PV1MATH  PV2MATH  PV3MATH  PV4MATH  PV5MATH  \\\n",
       "0          ALB   3.15874  179.583  201.334  222.248  194.943  222.755   \n",
       "1          ALB   4.34524  308.247  304.444  316.129  234.353  323.448   \n",
       "2          ALB   7.83860  267.514  343.743  327.157  290.771  316.227   \n",
       "3          ALB   8.49148  272.649  300.642  226.409  316.835  288.861   \n",
       "4          ALB   3.70957  435.473  491.174  478.365  454.352  491.031   \n",
       "...        ...       ...      ...      ...      ...      ...      ...   \n",
       "613739     UZB  69.40366  300.530  329.387  359.595  314.353  322.403   \n",
       "613740     UZB  63.18910  265.080  257.582  327.787  311.439  267.167   \n",
       "613741     UZB  65.47339  420.221  399.911  420.742  432.866  392.747   \n",
       "613742     UZB  66.15595  343.129  355.853  296.233  335.538  372.287   \n",
       "613743     UZB  65.47339  350.056  419.903  393.147  429.775  364.818   \n",
       "\n",
       "        PV6MATH  PV7MATH  PV8MATH  PV9MATH  PV10MATH      math  \n",
       "0       213.100  221.021  293.710  226.912   254.745  223.0351  \n",
       "1       303.435  333.178  288.888  343.157   329.659  308.4938  \n",
       "2       309.451  323.337  307.508  356.244   295.401  313.7353  \n",
       "3       321.268  312.063  334.765  283.916   329.915  298.7323  \n",
       "4       504.919  468.401  463.913  470.627   499.257  475.7512  \n",
       "...         ...      ...      ...      ...       ...       ...  \n",
       "613739  333.284  311.266  342.431  348.710   308.192  327.0151  \n",
       "613740  323.318  273.206  268.522  296.958   273.324  286.4383  \n",
       "613741  397.174  421.565  407.357  407.601   418.482  411.8666  \n",
       "613742  315.866  335.566  405.146  313.752   307.822  338.1192  \n",
       "613743  417.647  348.383  404.625  357.951   418.439  390.4744  \n",
       "\n",
       "[613744 rows x 13 columns]"
      ]
     },
     "execution_count": 8,
     "metadata": {},
     "output_type": "execute_result"
    }
   ],
   "source": [
    "df.rename({\"CNT\": \"country\", \"W_FSTUWT\":\"stu_wgt\"}, axis=1)"
   ]
  },
  {
   "cell_type": "code",
   "execution_count": 9,
   "metadata": {},
   "outputs": [],
   "source": [
    "df = pl.from_pandas(df)\n",
    "#.with_columns(pl.lit(2022).alias(\"year\"))"
   ]
  },
  {
   "cell_type": "code",
   "execution_count": 10,
   "metadata": {},
   "outputs": [
    {
     "data": {
      "text/html": [
       "<div><style>\n",
       ".dataframe > thead > tr,\n",
       ".dataframe > tbody > tr {\n",
       "  text-align: right;\n",
       "  white-space: pre-wrap;\n",
       "}\n",
       "</style>\n",
       "<small>shape: (5, 3)</small><table border=\"1\" class=\"dataframe\"><thead><tr><th>country</th><th>stu_wgt</th><th>math</th></tr><tr><td>str</td><td>f64</td><td>f64</td></tr></thead><tbody><tr><td>&quot;ALB&quot;</td><td>3.15874</td><td>223.0351</td></tr><tr><td>&quot;ALB&quot;</td><td>4.34524</td><td>308.4938</td></tr><tr><td>&quot;ALB&quot;</td><td>7.8386</td><td>313.7353</td></tr><tr><td>&quot;ALB&quot;</td><td>8.49148</td><td>298.7323</td></tr><tr><td>&quot;ALB&quot;</td><td>3.70957</td><td>475.7512</td></tr></tbody></table></div>"
      ],
      "text/plain": [
       "shape: (5, 3)\n",
       "┌─────────┬─────────┬──────────┐\n",
       "│ country ┆ stu_wgt ┆ math     │\n",
       "│ ---     ┆ ---     ┆ ---      │\n",
       "│ str     ┆ f64     ┆ f64      │\n",
       "╞═════════╪═════════╪══════════╡\n",
       "│ ALB     ┆ 3.15874 ┆ 223.0351 │\n",
       "│ ALB     ┆ 4.34524 ┆ 308.4938 │\n",
       "│ ALB     ┆ 7.8386  ┆ 313.7353 │\n",
       "│ ALB     ┆ 8.49148 ┆ 298.7323 │\n",
       "│ ALB     ┆ 3.70957 ┆ 475.7512 │\n",
       "└─────────┴─────────┴──────────┘"
      ]
     },
     "execution_count": 10,
     "metadata": {},
     "output_type": "execute_result"
    }
   ],
   "source": [
    "subset = df.rename({\"CNT\": \"country\", \"W_FSTUWT\":\"stu_wgt\"}).select([\"country\", \"stu_wgt\", \"math\"])\n",
    "subset.head()"
   ]
  },
  {
   "cell_type": "code",
   "execution_count": 11,
   "metadata": {},
   "outputs": [
    {
     "data": {
      "text/plain": [
       "679.2751109999998"
      ]
     },
     "execution_count": 11,
     "metadata": {},
     "output_type": "execute_result"
    }
   ],
   "source": [
    "bound = np.percentile(subset[\"math\"], 99)\n",
    "bound"
   ]
  },
  {
   "cell_type": "code",
   "execution_count": 12,
   "metadata": {},
   "outputs": [],
   "source": [
    "by_country = subset.group_by(pl.col(\"country\")).agg(((pl.col(\"math\") * pl.col(\"stu_wgt\")).sum() / pl.col(\"stu_wgt\").sum()).alias(\"math\"), (((pl.col(\"math\") > bound) * 100 * pl.col(\"stu_wgt\")).sum() / pl.col(\"stu_wgt\").sum()).alias(\"in_math99\")).with_columns(pl.lit(2022).alias(\"year\").cast(pl.Int64))"
   ]
  },
  {
   "cell_type": "code",
   "execution_count": 13,
   "metadata": {},
   "outputs": [
    {
     "data": {
      "text/html": [
       "<div><style>\n",
       ".dataframe > thead > tr,\n",
       ".dataframe > tbody > tr {\n",
       "  text-align: right;\n",
       "  white-space: pre-wrap;\n",
       "}\n",
       "</style>\n",
       "<small>shape: (5, 4)</small><table border=\"1\" class=\"dataframe\"><thead><tr><th>country</th><th>math</th><th>in_math99</th><th>year</th></tr><tr><td>str</td><td>f64</td><td>f64</td><td>i64</td></tr></thead><tbody><tr><td>&quot;ISR&quot;</td><td>457.896667</td><td>1.207422</td><td>2022</td></tr><tr><td>&quot;PRY&quot;</td><td>337.53975</td><td>0.0</td><td>2022</td></tr><tr><td>&quot;NOR&quot;</td><td>468.44995</td><td>0.785227</td><td>2022</td></tr><tr><td>&quot;PAN&quot;</td><td>356.573504</td><td>0.0</td><td>2022</td></tr><tr><td>&quot;SRB&quot;</td><td>439.876667</td><td>0.476665</td><td>2022</td></tr></tbody></table></div>"
      ],
      "text/plain": [
       "shape: (5, 4)\n",
       "┌─────────┬────────────┬───────────┬──────┐\n",
       "│ country ┆ math       ┆ in_math99 ┆ year │\n",
       "│ ---     ┆ ---        ┆ ---       ┆ ---  │\n",
       "│ str     ┆ f64        ┆ f64       ┆ i64  │\n",
       "╞═════════╪════════════╪═══════════╪══════╡\n",
       "│ ISR     ┆ 457.896667 ┆ 1.207422  ┆ 2022 │\n",
       "│ PRY     ┆ 337.53975  ┆ 0.0       ┆ 2022 │\n",
       "│ NOR     ┆ 468.44995  ┆ 0.785227  ┆ 2022 │\n",
       "│ PAN     ┆ 356.573504 ┆ 0.0       ┆ 2022 │\n",
       "│ SRB     ┆ 439.876667 ┆ 0.476665  ┆ 2022 │\n",
       "└─────────┴────────────┴───────────┴──────┘"
      ]
     },
     "execution_count": 13,
     "metadata": {},
     "output_type": "execute_result"
    }
   ],
   "source": [
    "by_country.head()"
   ]
  },
  {
   "cell_type": "code",
   "execution_count": 14,
   "metadata": {},
   "outputs": [],
   "source": [
    "total = total.join(by_country.lazy(), on=[\"country\", \"year\"], how=\"left\")"
   ]
  },
  {
   "cell_type": "code",
   "execution_count": 15,
   "metadata": {},
   "outputs": [
    {
     "data": {
      "text/html": [
       "<div><style>\n",
       ".dataframe > thead > tr,\n",
       ".dataframe > tbody > tr {\n",
       "  text-align: right;\n",
       "  white-space: pre-wrap;\n",
       "}\n",
       "</style>\n",
       "<small>shape: (5_320, 18)</small><table border=\"1\" class=\"dataframe\"><thead><tr><th>country</th><th>year</th><th>gdp_pc</th><th>gdp_pc_growth</th><th>primary_completion</th><th>lower_sec_completion</th><th>upper_sec_completion</th><th>population</th><th>arwu_ranked_num</th><th>arwu_sum_score</th><th>math</th><th>read</th><th>science</th><th>in_math99</th><th>imo_total_score</th><th>democracy_eiu</th><th>math_right</th><th>in_math99_right</th></tr><tr><td>str</td><td>i64</td><td>f64</td><td>f64</td><td>f64</td><td>f64</td><td>f64</td><td>u64</td><td>u32</td><td>f64</td><td>f64</td><td>f64</td><td>f64</td><td>f64</td><td>f64</td><td>f64</td><td>f64</td><td>f64</td></tr></thead><tbody><tr><td>&quot;AFG&quot;</td><td>2003</td><td>199.643228</td><td>0.927029</td><td>null</td><td>null</td><td>null</td><td>22645130</td><td>0</td><td>0.0</td><td>null</td><td>null</td><td>null</td><td>null</td><td>0.0</td><td>null</td><td>null</td><td>null</td></tr><tr><td>&quot;AFG&quot;</td><td>2004</td><td>221.830531</td><td>-2.497255</td><td>null</td><td>null</td><td>null</td><td>23553551</td><td>0</td><td>0.0</td><td>null</td><td>null</td><td>null</td><td>null</td><td>0.0</td><td>null</td><td>null</td><td>null</td></tr><tr><td>&quot;AFG&quot;</td><td>2005</td><td>254.115274</td><td>7.321874</td><td>null</td><td>null</td><td>null</td><td>24411191</td><td>0</td><td>0.0</td><td>null</td><td>null</td><td>null</td><td>null</td><td>0.0</td><td>null</td><td>null</td><td>null</td></tr><tr><td>&quot;AFG&quot;</td><td>2006</td><td>274.015394</td><td>1.084988</td><td>null</td><td>null</td><td>null</td><td>25442944</td><td>0</td><td>0.0</td><td>null</td><td>null</td><td>null</td><td>null</td><td>0.0</td><td>3.06</td><td>null</td><td>null</td></tr><tr><td>&quot;AFG&quot;</td><td>2007</td><td>376.318296</td><td>11.803383</td><td>null</td><td>null</td><td>null</td><td>25903301</td><td>0</td><td>0.0</td><td>null</td><td>null</td><td>null</td><td>null</td><td>0.0</td><td>null</td><td>null</td><td>null</td></tr><tr><td>&hellip;</td><td>&hellip;</td><td>&hellip;</td><td>&hellip;</td><td>&hellip;</td><td>&hellip;</td><td>&hellip;</td><td>&hellip;</td><td>&hellip;</td><td>&hellip;</td><td>&hellip;</td><td>&hellip;</td><td>&hellip;</td><td>&hellip;</td><td>&hellip;</td><td>&hellip;</td><td>&hellip;</td><td>&hellip;</td></tr><tr><td>&quot;WLD&quot;</td><td>2018</td><td>11297.452401</td><td>2.144759</td><td>null</td><td>null</td><td>null</td><td>7660371127</td><td>0</td><td>0.0</td><td>null</td><td>null</td><td>null</td><td>null</td><td>0.0</td><td>null</td><td>null</td><td>null</td></tr><tr><td>&quot;WLD&quot;</td><td>2019</td><td>11338.150319</td><td>1.512061</td><td>null</td><td>null</td><td>null</td><td>7741774583</td><td>0</td><td>0.0</td><td>null</td><td>null</td><td>null</td><td>null</td><td>0.0</td><td>null</td><td>null</td><td>null</td></tr><tr><td>&quot;WLD&quot;</td><td>2020</td><td>10904.147614</td><td>-4.03007</td><td>null</td><td>null</td><td>null</td><td>7820205606</td><td>0</td><td>0.0</td><td>null</td><td>null</td><td>null</td><td>null</td><td>0.0</td><td>null</td><td>null</td><td>null</td></tr><tr><td>&quot;WLD&quot;</td><td>2021</td><td>12316.102461</td><td>5.311518</td><td>null</td><td>null</td><td>null</td><td>7888305693</td><td>0</td><td>0.0</td><td>null</td><td>null</td><td>null</td><td>null</td><td>0.0</td><td>null</td><td>null</td><td>null</td></tr><tr><td>&quot;WLD&quot;</td><td>2022</td><td>12687.741894</td><td>2.277195</td><td>null</td><td>null</td><td>null</td><td>7950946801</td><td>0</td><td>0.0</td><td>null</td><td>null</td><td>null</td><td>null</td><td>0.0</td><td>null</td><td>null</td><td>null</td></tr></tbody></table></div>"
      ],
      "text/plain": [
       "shape: (5_320, 18)\n",
       "┌─────────┬──────┬────────────┬────────────┬───┬────────────┬────────────┬────────────┬────────────┐\n",
       "│ country ┆ year ┆ gdp_pc     ┆ gdp_pc_gro ┆ … ┆ imo_total_ ┆ democracy_ ┆ math_right ┆ in_math99_ │\n",
       "│ ---     ┆ ---  ┆ ---        ┆ wth        ┆   ┆ score      ┆ eiu        ┆ ---        ┆ right      │\n",
       "│ str     ┆ i64  ┆ f64        ┆ ---        ┆   ┆ ---        ┆ ---        ┆ f64        ┆ ---        │\n",
       "│         ┆      ┆            ┆ f64        ┆   ┆ f64        ┆ f64        ┆            ┆ f64        │\n",
       "╞═════════╪══════╪════════════╪════════════╪═══╪════════════╪════════════╪════════════╪════════════╡\n",
       "│ AFG     ┆ 2003 ┆ 199.643228 ┆ 0.927029   ┆ … ┆ 0.0        ┆ null       ┆ null       ┆ null       │\n",
       "│ AFG     ┆ 2004 ┆ 221.830531 ┆ -2.497255  ┆ … ┆ 0.0        ┆ null       ┆ null       ┆ null       │\n",
       "│ AFG     ┆ 2005 ┆ 254.115274 ┆ 7.321874   ┆ … ┆ 0.0        ┆ null       ┆ null       ┆ null       │\n",
       "│ AFG     ┆ 2006 ┆ 274.015394 ┆ 1.084988   ┆ … ┆ 0.0        ┆ 3.06       ┆ null       ┆ null       │\n",
       "│ AFG     ┆ 2007 ┆ 376.318296 ┆ 11.803383  ┆ … ┆ 0.0        ┆ null       ┆ null       ┆ null       │\n",
       "│ …       ┆ …    ┆ …          ┆ …          ┆ … ┆ …          ┆ …          ┆ …          ┆ …          │\n",
       "│ WLD     ┆ 2018 ┆ 11297.4524 ┆ 2.144759   ┆ … ┆ 0.0        ┆ null       ┆ null       ┆ null       │\n",
       "│         ┆      ┆ 01         ┆            ┆   ┆            ┆            ┆            ┆            │\n",
       "│ WLD     ┆ 2019 ┆ 11338.1503 ┆ 1.512061   ┆ … ┆ 0.0        ┆ null       ┆ null       ┆ null       │\n",
       "│         ┆      ┆ 19         ┆            ┆   ┆            ┆            ┆            ┆            │\n",
       "│ WLD     ┆ 2020 ┆ 10904.1476 ┆ -4.03007   ┆ … ┆ 0.0        ┆ null       ┆ null       ┆ null       │\n",
       "│         ┆      ┆ 14         ┆            ┆   ┆            ┆            ┆            ┆            │\n",
       "│ WLD     ┆ 2021 ┆ 12316.1024 ┆ 5.311518   ┆ … ┆ 0.0        ┆ null       ┆ null       ┆ null       │\n",
       "│         ┆      ┆ 61         ┆            ┆   ┆            ┆            ┆            ┆            │\n",
       "│ WLD     ┆ 2022 ┆ 12687.7418 ┆ 2.277195   ┆ … ┆ 0.0        ┆ null       ┆ null       ┆ null       │\n",
       "│         ┆      ┆ 94         ┆            ┆   ┆            ┆            ┆            ┆            │\n",
       "└─────────┴──────┴────────────┴────────────┴───┴────────────┴────────────┴────────────┴────────────┘"
      ]
     },
     "execution_count": 15,
     "metadata": {},
     "output_type": "execute_result"
    }
   ],
   "source": [
    "total.collect()"
   ]
  },
  {
   "cell_type": "code",
   "execution_count": 16,
   "metadata": {},
   "outputs": [],
   "source": [
    "as_pd = total.collect().to_pandas()"
   ]
  },
  {
   "cell_type": "code",
   "execution_count": 17,
   "metadata": {},
   "outputs": [],
   "source": [
    "as_pd[\"math\"] = np.where(as_pd[\"year\"] == 2022, as_pd[\"math_right\"], as_pd[\"math\"])\n",
    "as_pd[\"in_math99\"] = np.where(as_pd[\"year\"] == 2022, as_pd[\"in_math99_right\"], as_pd[\"in_math99\"])"
   ]
  },
  {
   "cell_type": "code",
   "execution_count": 18,
   "metadata": {},
   "outputs": [],
   "source": [
    "as_pd = as_pd.drop(columns=[\"math_right\", \"in_math99_right\"])"
   ]
  },
  {
   "cell_type": "code",
   "execution_count": 19,
   "metadata": {},
   "outputs": [],
   "source": [
    "# as_pd.to_parquet(\"../data/combined-2022-included.parquet\")"
   ]
  }
 ],
 "metadata": {
  "kernelspec": {
   "display_name": "442research",
   "language": "python",
   "name": "python3"
  },
  "language_info": {
   "codemirror_mode": {
    "name": "ipython",
    "version": 3
   },
   "file_extension": ".py",
   "mimetype": "text/x-python",
   "name": "python",
   "nbconvert_exporter": "python",
   "pygments_lexer": "ipython3",
   "version": "3.12.2"
  }
 },
 "nbformat": 4,
 "nbformat_minor": 2
}
