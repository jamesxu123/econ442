{
 "cells": [
  {
   "cell_type": "code",
   "execution_count": 1,
   "metadata": {},
   "outputs": [],
   "source": [
    "import polars as pl"
   ]
  },
  {
   "cell_type": "code",
   "execution_count": 2,
   "metadata": {},
   "outputs": [],
   "source": [
    "bl = pl.read_csv(\"../data/barrolee.csv\")"
   ]
  },
  {
   "cell_type": "code",
   "execution_count": 3,
   "metadata": {},
   "outputs": [
    {
     "data": {
      "text/html": [
       "<div><style>\n",
       ".dataframe > thead > tr,\n",
       ".dataframe > tbody > tr {\n",
       "  text-align: right;\n",
       "  white-space: pre-wrap;\n",
       "}\n",
       "</style>\n",
       "<small>shape: (5, 20)</small><table border=\"1\" class=\"dataframe\"><thead><tr><th>BLcode</th><th>country</th><th>year</th><th>sex</th><th>agefrom</th><th>ageto</th><th>lu</th><th>lp</th><th>lpc</th><th>ls</th><th>lsc</th><th>lh</th><th>lhc</th><th>yr_sch</th><th>yr_sch_pri</th><th>yr_sch_sec</th><th>yr_sch_ter</th><th>WBcode</th><th>region_code</th><th>pop</th></tr><tr><td>i64</td><td>str</td><td>i64</td><td>str</td><td>i64</td><td>i64</td><td>f64</td><td>f64</td><td>f64</td><td>f64</td><td>f64</td><td>f64</td><td>f64</td><td>f64</td><td>f64</td><td>f64</td><td>f64</td><td>str</td><td>str</td><td>f64</td></tr></thead><tbody><tr><td>1</td><td>&quot;Algeria&quot;</td><td>1950</td><td>&quot;MF&quot;</td><td>15</td><td>64</td><td>81.12</td><td>17.1</td><td>3.65</td><td>1.48</td><td>0.5</td><td>0.3</td><td>0.18</td><td>0.834</td><td>0.729</td><td>0.095</td><td>0.01</td><td>&quot;DZA&quot;</td><td>&quot;Middle East an…</td><td>4858.0</td></tr><tr><td>1</td><td>&quot;Algeria&quot;</td><td>1955</td><td>&quot;MF&quot;</td><td>15</td><td>64</td><td>81.5</td><td>16.54</td><td>3.43</td><td>1.66</td><td>0.53</td><td>0.26</td><td>0.17</td><td>0.823</td><td>0.714</td><td>0.1</td><td>0.008</td><td>&quot;DZA&quot;</td><td>&quot;Middle East an…</td><td>5302.0</td></tr><tr><td>1</td><td>&quot;Algeria&quot;</td><td>1960</td><td>&quot;MF&quot;</td><td>15</td><td>64</td><td>82.5</td><td>14.29</td><td>3.16</td><td>2.88</td><td>1.02</td><td>0.33</td><td>0.19</td><td>0.896</td><td>0.716</td><td>0.169</td><td>0.01</td><td>&quot;DZA&quot;</td><td>&quot;Middle East an…</td><td>5658.0</td></tr><tr><td>1</td><td>&quot;Algeria&quot;</td><td>1965</td><td>&quot;MF&quot;</td><td>15</td><td>64</td><td>80.08</td><td>15.0</td><td>4.21</td><td>4.46</td><td>1.9</td><td>0.45</td><td>0.24</td><td>1.151</td><td>0.871</td><td>0.267</td><td>0.014</td><td>&quot;DZA&quot;</td><td>&quot;Middle East an…</td><td>5982.0</td></tr><tr><td>1</td><td>&quot;Algeria&quot;</td><td>1970</td><td>&quot;MF&quot;</td><td>15</td><td>64</td><td>72.02</td><td>20.25</td><td>6.06</td><td>7.25</td><td>3.87</td><td>0.38</td><td>0.18</td><td>1.69</td><td>1.247</td><td>0.432</td><td>0.011</td><td>&quot;DZA&quot;</td><td>&quot;Middle East an…</td><td>6531.0</td></tr></tbody></table></div>"
      ],
      "text/plain": [
       "shape: (5, 20)\n",
       "┌────────┬─────────┬──────┬─────┬───┬────────────┬────────┬──────────────────────────────┬────────┐\n",
       "│ BLcode ┆ country ┆ year ┆ sex ┆ … ┆ yr_sch_ter ┆ WBcode ┆ region_code                  ┆ pop    │\n",
       "│ ---    ┆ ---     ┆ ---  ┆ --- ┆   ┆ ---        ┆ ---    ┆ ---                          ┆ ---    │\n",
       "│ i64    ┆ str     ┆ i64  ┆ str ┆   ┆ f64        ┆ str    ┆ str                          ┆ f64    │\n",
       "╞════════╪═════════╪══════╪═════╪═══╪════════════╪════════╪══════════════════════════════╪════════╡\n",
       "│ 1      ┆ Algeria ┆ 1950 ┆ MF  ┆ … ┆ 0.01       ┆ DZA    ┆ Middle East and North Africa ┆ 4858.0 │\n",
       "│ 1      ┆ Algeria ┆ 1955 ┆ MF  ┆ … ┆ 0.008      ┆ DZA    ┆ Middle East and North Africa ┆ 5302.0 │\n",
       "│ 1      ┆ Algeria ┆ 1960 ┆ MF  ┆ … ┆ 0.01       ┆ DZA    ┆ Middle East and North Africa ┆ 5658.0 │\n",
       "│ 1      ┆ Algeria ┆ 1965 ┆ MF  ┆ … ┆ 0.014      ┆ DZA    ┆ Middle East and North Africa ┆ 5982.0 │\n",
       "│ 1      ┆ Algeria ┆ 1970 ┆ MF  ┆ … ┆ 0.011      ┆ DZA    ┆ Middle East and North Africa ┆ 6531.0 │\n",
       "└────────┴─────────┴──────┴─────┴───┴────────────┴────────┴──────────────────────────────┴────────┘"
      ]
     },
     "execution_count": 3,
     "metadata": {},
     "output_type": "execute_result"
    }
   ],
   "source": [
    "bl.head()"
   ]
  },
  {
   "cell_type": "code",
   "execution_count": 4,
   "metadata": {},
   "outputs": [
    {
     "data": {
      "text/html": [
       "<div><style>\n",
       ".dataframe > thead > tr,\n",
       ".dataframe > tbody > tr {\n",
       "  text-align: right;\n",
       "  white-space: pre-wrap;\n",
       "}\n",
       "</style>\n",
       "<small>shape: (10, 7)</small><table border=\"1\" class=\"dataframe\"><thead><tr><th>country</th><th>year</th><th>yr_sch</th><th>yr_sch_pri</th><th>yr_sch_sec</th><th>yr_sch_ter</th><th>WBcode</th></tr><tr><td>str</td><td>i64</td><td>f64</td><td>f64</td><td>f64</td><td>f64</td><td>str</td></tr></thead><tbody><tr><td>&quot;Afghanistan&quot;</td><td>2000</td><td>3.034</td><td>2.192</td><td>0.626</td><td>0.216</td><td>&quot;AFG&quot;</td></tr><tr><td>&quot;Afghanistan&quot;</td><td>2005</td><td>3.321</td><td>2.29</td><td>0.807</td><td>0.224</td><td>&quot;AFG&quot;</td></tr><tr><td>&quot;Afghanistan&quot;</td><td>2010</td><td>3.933</td><td>2.683</td><td>1.022</td><td>0.228</td><td>&quot;AFG&quot;</td></tr><tr><td>&quot;Afghanistan&quot;</td><td>2015</td><td>4.826</td><td>3.278</td><td>1.266</td><td>0.282</td><td>&quot;AFG&quot;</td></tr><tr><td>&quot;Albania&quot;</td><td>2000</td><td>9.931</td><td>6.925</td><td>2.793</td><td>0.213</td><td>&quot;ALB&quot;</td></tr><tr><td>&quot;Albania&quot;</td><td>2005</td><td>10.237</td><td>7.218</td><td>2.884</td><td>0.136</td><td>&quot;ALB&quot;</td></tr><tr><td>&quot;Albania&quot;</td><td>2010</td><td>10.437</td><td>6.922</td><td>3.453</td><td>0.061</td><td>&quot;ALB&quot;</td></tr><tr><td>&quot;Albania&quot;</td><td>2015</td><td>10.972</td><td>6.742</td><td>3.725</td><td>0.506</td><td>&quot;ALB&quot;</td></tr><tr><td>&quot;Algeria&quot;</td><td>2000</td><td>6.056</td><td>4.013</td><td>1.835</td><td>0.208</td><td>&quot;DZA&quot;</td></tr><tr><td>&quot;Algeria&quot;</td><td>2005</td><td>6.43</td><td>4.272</td><td>1.867</td><td>0.29</td><td>&quot;DZA&quot;</td></tr></tbody></table></div>"
      ],
      "text/plain": [
       "shape: (10, 7)\n",
       "┌─────────────┬──────┬────────┬────────────┬────────────┬────────────┬────────┐\n",
       "│ country     ┆ year ┆ yr_sch ┆ yr_sch_pri ┆ yr_sch_sec ┆ yr_sch_ter ┆ WBcode │\n",
       "│ ---         ┆ ---  ┆ ---    ┆ ---        ┆ ---        ┆ ---        ┆ ---    │\n",
       "│ str         ┆ i64  ┆ f64    ┆ f64        ┆ f64        ┆ f64        ┆ str    │\n",
       "╞═════════════╪══════╪════════╪════════════╪════════════╪════════════╪════════╡\n",
       "│ Afghanistan ┆ 2000 ┆ 3.034  ┆ 2.192      ┆ 0.626      ┆ 0.216      ┆ AFG    │\n",
       "│ Afghanistan ┆ 2005 ┆ 3.321  ┆ 2.29       ┆ 0.807      ┆ 0.224      ┆ AFG    │\n",
       "│ Afghanistan ┆ 2010 ┆ 3.933  ┆ 2.683      ┆ 1.022      ┆ 0.228      ┆ AFG    │\n",
       "│ Afghanistan ┆ 2015 ┆ 4.826  ┆ 3.278      ┆ 1.266      ┆ 0.282      ┆ AFG    │\n",
       "│ Albania     ┆ 2000 ┆ 9.931  ┆ 6.925      ┆ 2.793      ┆ 0.213      ┆ ALB    │\n",
       "│ Albania     ┆ 2005 ┆ 10.237 ┆ 7.218      ┆ 2.884      ┆ 0.136      ┆ ALB    │\n",
       "│ Albania     ┆ 2010 ┆ 10.437 ┆ 6.922      ┆ 3.453      ┆ 0.061      ┆ ALB    │\n",
       "│ Albania     ┆ 2015 ┆ 10.972 ┆ 6.742      ┆ 3.725      ┆ 0.506      ┆ ALB    │\n",
       "│ Algeria     ┆ 2000 ┆ 6.056  ┆ 4.013      ┆ 1.835      ┆ 0.208      ┆ DZA    │\n",
       "│ Algeria     ┆ 2005 ┆ 6.43   ┆ 4.272      ┆ 1.867      ┆ 0.29       ┆ DZA    │\n",
       "└─────────────┴──────┴────────┴────────────┴────────────┴────────────┴────────┘"
      ]
     },
     "execution_count": 4,
     "metadata": {},
     "output_type": "execute_result"
    }
   ],
   "source": [
    "bl_useful_years = bl.filter(pl.col(\"year\") >= 2000).select([\"country\", \"year\", \"yr_sch\", \"yr_sch_pri\", \"yr_sch_sec\", \"yr_sch_ter\", \"WBcode\"])\n",
    "bl_useful_years.sort(by=[\"country\", \"year\"]).head(10)"
   ]
  },
  {
   "cell_type": "code",
   "execution_count": 5,
   "metadata": {},
   "outputs": [
    {
     "data": {
      "text/html": [
       "<div><style>\n",
       ".dataframe > thead > tr,\n",
       ".dataframe > tbody > tr {\n",
       "  text-align: right;\n",
       "  white-space: pre-wrap;\n",
       "}\n",
       "</style>\n",
       "<small>shape: (9, 8)</small><table border=\"1\" class=\"dataframe\"><thead><tr><th>statistic</th><th>country</th><th>year</th><th>yr_sch</th><th>yr_sch_pri</th><th>yr_sch_sec</th><th>yr_sch_ter</th><th>WBcode</th></tr><tr><td>str</td><td>str</td><td>f64</td><td>f64</td><td>f64</td><td>f64</td><td>f64</td><td>str</td></tr></thead><tbody><tr><td>&quot;count&quot;</td><td>&quot;584&quot;</td><td>584.0</td><td>584.0</td><td>584.0</td><td>584.0</td><td>584.0</td><td>&quot;584&quot;</td></tr><tr><td>&quot;null_count&quot;</td><td>&quot;0&quot;</td><td>0.0</td><td>0.0</td><td>0.0</td><td>0.0</td><td>0.0</td><td>&quot;0&quot;</td></tr><tr><td>&quot;mean&quot;</td><td>null</td><td>2007.5</td><td>8.435408</td><td>4.856295</td><td>3.119276</td><td>0.459848</td><td>null</td></tr><tr><td>&quot;std&quot;</td><td>null</td><td>5.594962</td><td>2.893852</td><td>1.390001</td><td>1.596569</td><td>0.388903</td><td>null</td></tr><tr><td>&quot;min&quot;</td><td>&quot;Afghanistan&quot;</td><td>2000.0</td><td>1.133</td><td>0.989</td><td>0.134</td><td>0.0</td><td>&quot;AFG&quot;</td></tr><tr><td>&quot;25%&quot;</td><td>null</td><td>2005.0</td><td>6.227</td><td>3.945</td><td>1.835</td><td>0.134</td><td>null</td></tr><tr><td>&quot;50%&quot;</td><td>null</td><td>2010.0</td><td>8.799</td><td>5.075</td><td>3.144</td><td>0.367</td><td>null</td></tr><tr><td>&quot;75%&quot;</td><td>null</td><td>2010.0</td><td>10.924</td><td>5.829</td><td>4.378</td><td>0.68</td><td>null</td></tr><tr><td>&quot;max&quot;</td><td>&quot;Zimbabwe&quot;</td><td>2015.0</td><td>13.275</td><td>8.866</td><td>7.915</td><td>1.846</td><td>&quot;ZWE&quot;</td></tr></tbody></table></div>"
      ],
      "text/plain": [
       "shape: (9, 8)\n",
       "┌────────────┬─────────────┬──────────┬──────────┬────────────┬────────────┬────────────┬────────┐\n",
       "│ statistic  ┆ country     ┆ year     ┆ yr_sch   ┆ yr_sch_pri ┆ yr_sch_sec ┆ yr_sch_ter ┆ WBcode │\n",
       "│ ---        ┆ ---         ┆ ---      ┆ ---      ┆ ---        ┆ ---        ┆ ---        ┆ ---    │\n",
       "│ str        ┆ str         ┆ f64      ┆ f64      ┆ f64        ┆ f64        ┆ f64        ┆ str    │\n",
       "╞════════════╪═════════════╪══════════╪══════════╪════════════╪════════════╪════════════╪════════╡\n",
       "│ count      ┆ 584         ┆ 584.0    ┆ 584.0    ┆ 584.0      ┆ 584.0      ┆ 584.0      ┆ 584    │\n",
       "│ null_count ┆ 0           ┆ 0.0      ┆ 0.0      ┆ 0.0        ┆ 0.0        ┆ 0.0        ┆ 0      │\n",
       "│ mean       ┆ null        ┆ 2007.5   ┆ 8.435408 ┆ 4.856295   ┆ 3.119276   ┆ 0.459848   ┆ null   │\n",
       "│ std        ┆ null        ┆ 5.594962 ┆ 2.893852 ┆ 1.390001   ┆ 1.596569   ┆ 0.388903   ┆ null   │\n",
       "│ min        ┆ Afghanistan ┆ 2000.0   ┆ 1.133    ┆ 0.989      ┆ 0.134      ┆ 0.0        ┆ AFG    │\n",
       "│ 25%        ┆ null        ┆ 2005.0   ┆ 6.227    ┆ 3.945      ┆ 1.835      ┆ 0.134      ┆ null   │\n",
       "│ 50%        ┆ null        ┆ 2010.0   ┆ 8.799    ┆ 5.075      ┆ 3.144      ┆ 0.367      ┆ null   │\n",
       "│ 75%        ┆ null        ┆ 2010.0   ┆ 10.924   ┆ 5.829      ┆ 4.378      ┆ 0.68       ┆ null   │\n",
       "│ max        ┆ Zimbabwe    ┆ 2015.0   ┆ 13.275   ┆ 8.866      ┆ 7.915      ┆ 1.846      ┆ ZWE    │\n",
       "└────────────┴─────────────┴──────────┴──────────┴────────────┴────────────┴────────────┴────────┘"
      ]
     },
     "execution_count": 5,
     "metadata": {},
     "output_type": "execute_result"
    }
   ],
   "source": [
    "bl_useful_years.describe()"
   ]
  },
  {
   "cell_type": "code",
   "execution_count": 6,
   "metadata": {},
   "outputs": [],
   "source": [
    "dicts = bl_useful_years.to_dicts()"
   ]
  },
  {
   "cell_type": "code",
   "execution_count": 7,
   "metadata": {},
   "outputs": [
    {
     "data": {
      "text/plain": [
       "584"
      ]
     },
     "execution_count": 7,
     "metadata": {},
     "output_type": "execute_result"
    }
   ],
   "source": [
    "len(dicts)"
   ]
  },
  {
   "cell_type": "code",
   "execution_count": 8,
   "metadata": {},
   "outputs": [],
   "source": [
    "additional = []\n",
    "for row in dicts:\n",
    "    y = row[\"year\"]\n",
    "    extend = 5 if y < 2015 else 8\n",
    "    for i in range(1, extend):\n",
    "        temp = row.copy()\n",
    "        temp[\"year\"] = y + i\n",
    "        additional.append(temp)"
   ]
  },
  {
   "cell_type": "code",
   "execution_count": 9,
   "metadata": {},
   "outputs": [],
   "source": [
    "final = dicts + additional"
   ]
  },
  {
   "cell_type": "code",
   "execution_count": 10,
   "metadata": {},
   "outputs": [],
   "source": [
    "compiled = pl.from_dicts(final)"
   ]
  },
  {
   "cell_type": "code",
   "execution_count": 11,
   "metadata": {},
   "outputs": [
    {
     "data": {
      "text/html": [
       "<div><style>\n",
       ".dataframe > thead > tr,\n",
       ".dataframe > tbody > tr {\n",
       "  text-align: right;\n",
       "  white-space: pre-wrap;\n",
       "}\n",
       "</style>\n",
       "<small>shape: (5, 7)</small><table border=\"1\" class=\"dataframe\"><thead><tr><th>country</th><th>year</th><th>yr_sch</th><th>yr_sch_pri</th><th>yr_sch_sec</th><th>yr_sch_ter</th><th>WBcode</th></tr><tr><td>str</td><td>i64</td><td>f64</td><td>f64</td><td>f64</td><td>f64</td><td>str</td></tr></thead><tbody><tr><td>&quot;Afghanistan&quot;</td><td>2000</td><td>3.034</td><td>2.192</td><td>0.626</td><td>0.216</td><td>&quot;AFG&quot;</td></tr><tr><td>&quot;Afghanistan&quot;</td><td>2001</td><td>3.034</td><td>2.192</td><td>0.626</td><td>0.216</td><td>&quot;AFG&quot;</td></tr><tr><td>&quot;Afghanistan&quot;</td><td>2002</td><td>3.034</td><td>2.192</td><td>0.626</td><td>0.216</td><td>&quot;AFG&quot;</td></tr><tr><td>&quot;Afghanistan&quot;</td><td>2003</td><td>3.034</td><td>2.192</td><td>0.626</td><td>0.216</td><td>&quot;AFG&quot;</td></tr><tr><td>&quot;Afghanistan&quot;</td><td>2004</td><td>3.034</td><td>2.192</td><td>0.626</td><td>0.216</td><td>&quot;AFG&quot;</td></tr></tbody></table></div>"
      ],
      "text/plain": [
       "shape: (5, 7)\n",
       "┌─────────────┬──────┬────────┬────────────┬────────────┬────────────┬────────┐\n",
       "│ country     ┆ year ┆ yr_sch ┆ yr_sch_pri ┆ yr_sch_sec ┆ yr_sch_ter ┆ WBcode │\n",
       "│ ---         ┆ ---  ┆ ---    ┆ ---        ┆ ---        ┆ ---        ┆ ---    │\n",
       "│ str         ┆ i64  ┆ f64    ┆ f64        ┆ f64        ┆ f64        ┆ str    │\n",
       "╞═════════════╪══════╪════════╪════════════╪════════════╪════════════╪════════╡\n",
       "│ Afghanistan ┆ 2000 ┆ 3.034  ┆ 2.192      ┆ 0.626      ┆ 0.216      ┆ AFG    │\n",
       "│ Afghanistan ┆ 2001 ┆ 3.034  ┆ 2.192      ┆ 0.626      ┆ 0.216      ┆ AFG    │\n",
       "│ Afghanistan ┆ 2002 ┆ 3.034  ┆ 2.192      ┆ 0.626      ┆ 0.216      ┆ AFG    │\n",
       "│ Afghanistan ┆ 2003 ┆ 3.034  ┆ 2.192      ┆ 0.626      ┆ 0.216      ┆ AFG    │\n",
       "│ Afghanistan ┆ 2004 ┆ 3.034  ┆ 2.192      ┆ 0.626      ┆ 0.216      ┆ AFG    │\n",
       "└─────────────┴──────┴────────┴────────────┴────────────┴────────────┴────────┘"
      ]
     },
     "execution_count": 11,
     "metadata": {},
     "output_type": "execute_result"
    }
   ],
   "source": [
    "compiled = compiled.sort(by=[\"country\", \"year\"])\n",
    "compiled.head()"
   ]
  },
  {
   "cell_type": "code",
   "execution_count": 12,
   "metadata": {},
   "outputs": [],
   "source": [
    "export = compiled.select([\"year\", \"yr_sch\", \"yr_sch_pri\", \"yr_sch_sec\", \"yr_sch_ter\", \"WBcode\"]).rename({\"WBcode\": \"country\"})"
   ]
  },
  {
   "cell_type": "code",
   "execution_count": 13,
   "metadata": {},
   "outputs": [
    {
     "data": {
      "text/html": [
       "<div><style>\n",
       ".dataframe > thead > tr,\n",
       ".dataframe > tbody > tr {\n",
       "  text-align: right;\n",
       "  white-space: pre-wrap;\n",
       "}\n",
       "</style>\n",
       "<small>shape: (5, 6)</small><table border=\"1\" class=\"dataframe\"><thead><tr><th>year</th><th>yr_sch</th><th>yr_sch_pri</th><th>yr_sch_sec</th><th>yr_sch_ter</th><th>country</th></tr><tr><td>i64</td><td>f64</td><td>f64</td><td>f64</td><td>f64</td><td>str</td></tr></thead><tbody><tr><td>2000</td><td>3.034</td><td>2.192</td><td>0.626</td><td>0.216</td><td>&quot;AFG&quot;</td></tr><tr><td>2001</td><td>3.034</td><td>2.192</td><td>0.626</td><td>0.216</td><td>&quot;AFG&quot;</td></tr><tr><td>2002</td><td>3.034</td><td>2.192</td><td>0.626</td><td>0.216</td><td>&quot;AFG&quot;</td></tr><tr><td>2003</td><td>3.034</td><td>2.192</td><td>0.626</td><td>0.216</td><td>&quot;AFG&quot;</td></tr><tr><td>2004</td><td>3.034</td><td>2.192</td><td>0.626</td><td>0.216</td><td>&quot;AFG&quot;</td></tr></tbody></table></div>"
      ],
      "text/plain": [
       "shape: (5, 6)\n",
       "┌──────┬────────┬────────────┬────────────┬────────────┬─────────┐\n",
       "│ year ┆ yr_sch ┆ yr_sch_pri ┆ yr_sch_sec ┆ yr_sch_ter ┆ country │\n",
       "│ ---  ┆ ---    ┆ ---        ┆ ---        ┆ ---        ┆ ---     │\n",
       "│ i64  ┆ f64    ┆ f64        ┆ f64        ┆ f64        ┆ str     │\n",
       "╞══════╪════════╪════════════╪════════════╪════════════╪═════════╡\n",
       "│ 2000 ┆ 3.034  ┆ 2.192      ┆ 0.626      ┆ 0.216      ┆ AFG     │\n",
       "│ 2001 ┆ 3.034  ┆ 2.192      ┆ 0.626      ┆ 0.216      ┆ AFG     │\n",
       "│ 2002 ┆ 3.034  ┆ 2.192      ┆ 0.626      ┆ 0.216      ┆ AFG     │\n",
       "│ 2003 ┆ 3.034  ┆ 2.192      ┆ 0.626      ┆ 0.216      ┆ AFG     │\n",
       "│ 2004 ┆ 3.034  ┆ 2.192      ┆ 0.626      ┆ 0.216      ┆ AFG     │\n",
       "└──────┴────────┴────────────┴────────────┴────────────┴─────────┘"
      ]
     },
     "execution_count": 13,
     "metadata": {},
     "output_type": "execute_result"
    }
   ],
   "source": [
    "export.head()"
   ]
  },
  {
   "cell_type": "code",
   "execution_count": 14,
   "metadata": {},
   "outputs": [],
   "source": [
    "export.write_csv(\"../data/barrolee_imputed_nearest.csv\")"
   ]
  },
  {
   "cell_type": "code",
   "execution_count": null,
   "metadata": {},
   "outputs": [],
   "source": []
  },
  {
   "cell_type": "code",
   "execution_count": null,
   "metadata": {},
   "outputs": [],
   "source": []
  },
  {
   "cell_type": "code",
   "execution_count": null,
   "metadata": {},
   "outputs": [],
   "source": []
  }
 ],
 "metadata": {
  "kernelspec": {
   "display_name": "442research",
   "language": "python",
   "name": "python3"
  },
  "language_info": {
   "codemirror_mode": {
    "name": "ipython",
    "version": 3
   },
   "file_extension": ".py",
   "mimetype": "text/x-python",
   "name": "python",
   "nbconvert_exporter": "python",
   "pygments_lexer": "ipython3",
   "version": "3.12.2"
  }
 },
 "nbformat": 4,
 "nbformat_minor": 2
}
