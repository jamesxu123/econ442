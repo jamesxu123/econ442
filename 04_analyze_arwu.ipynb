{
 "cells": [
  {
   "cell_type": "code",
   "execution_count": 23,
   "metadata": {},
   "outputs": [],
   "source": [
    "import polars as pl"
   ]
  },
  {
   "cell_type": "code",
   "execution_count": 24,
   "metadata": {},
   "outputs": [],
   "source": [
    "df = pl.read_parquet(\"data/arwu_2003-2023.parquet\")"
   ]
  },
  {
   "cell_type": "code",
   "execution_count": 25,
   "metadata": {},
   "outputs": [
    {
     "data": {
      "text/html": [
       "<div><style>\n",
       ".dataframe > thead > tr,\n",
       ".dataframe > tbody > tr {\n",
       "  text-align: right;\n",
       "  white-space: pre-wrap;\n",
       "}\n",
       "</style>\n",
       "<small>shape: (5, 5)</small><table border=\"1\" class=\"dataframe\"><thead><tr><th>rank</th><th>univ_name</th><th>country</th><th>score</th><th>year</th></tr><tr><td>i64</td><td>str</td><td>str</td><td>f64</td><td>i64</td></tr></thead><tbody><tr><td>1</td><td>&quot;Harvard Univer…</td><td>&quot;USA&quot;</td><td>100.0</td><td>2003</td></tr><tr><td>2</td><td>&quot;Stanford Unive…</td><td>&quot;USA&quot;</td><td>83.5</td><td>2003</td></tr><tr><td>3</td><td>&quot;California Ins…</td><td>&quot;USA&quot;</td><td>76.3</td><td>2003</td></tr><tr><td>4</td><td>&quot;University of …</td><td>&quot;USA&quot;</td><td>74.0</td><td>2003</td></tr><tr><td>5</td><td>&quot;University of …</td><td>&quot;GBR&quot;</td><td>73.4</td><td>2003</td></tr></tbody></table></div>"
      ],
      "text/plain": [
       "shape: (5, 5)\n",
       "┌──────┬───────────────────────────────────┬─────────┬───────┬──────┐\n",
       "│ rank ┆ univ_name                         ┆ country ┆ score ┆ year │\n",
       "│ ---  ┆ ---                               ┆ ---     ┆ ---   ┆ ---  │\n",
       "│ i64  ┆ str                               ┆ str     ┆ f64   ┆ i64  │\n",
       "╞══════╪═══════════════════════════════════╪═════════╪═══════╪══════╡\n",
       "│ 1    ┆ Harvard University                ┆ USA     ┆ 100.0 ┆ 2003 │\n",
       "│ 2    ┆ Stanford University               ┆ USA     ┆ 83.5  ┆ 2003 │\n",
       "│ 3    ┆ California Institute of Technolo… ┆ USA     ┆ 76.3  ┆ 2003 │\n",
       "│ 4    ┆ University of California, Berkel… ┆ USA     ┆ 74.0  ┆ 2003 │\n",
       "│ 5    ┆ University of Cambridge           ┆ GBR     ┆ 73.4  ┆ 2003 │\n",
       "└──────┴───────────────────────────────────┴─────────┴───────┴──────┘"
      ]
     },
     "execution_count": 25,
     "metadata": {},
     "output_type": "execute_result"
    }
   ],
   "source": [
    "df.head()"
   ]
  },
  {
   "cell_type": "code",
   "execution_count": 26,
   "metadata": {},
   "outputs": [
    {
     "data": {
      "text/html": [
       "<div><style>\n",
       ".dataframe > thead > tr,\n",
       ".dataframe > tbody > tr {\n",
       "  text-align: right;\n",
       "  white-space: pre-wrap;\n",
       "}\n",
       "</style>\n",
       "<small>shape: (9, 6)</small><table border=\"1\" class=\"dataframe\"><thead><tr><th>statistic</th><th>rank</th><th>univ_name</th><th>country</th><th>score</th><th>year</th></tr><tr><td>str</td><td>f64</td><td>str</td><td>str</td><td>f64</td><td>f64</td></tr></thead><tbody><tr><td>&quot;count&quot;</td><td>13816.0</td><td>&quot;13816&quot;</td><td>&quot;13816&quot;</td><td>2104.0</td><td>13816.0</td></tr><tr><td>&quot;null_count&quot;</td><td>0.0</td><td>&quot;0&quot;</td><td>&quot;0&quot;</td><td>11712.0</td><td>0.0</td></tr><tr><td>&quot;mean&quot;</td><td>367.615518</td><td>null</td><td>null</td><td>36.65846</td><td>2014.708382</td></tr><tr><td>&quot;std&quot;</td><td>252.799107</td><td>null</td><td>null</td><td>13.314495</td><td>6.179778</td></tr><tr><td>&quot;min&quot;</td><td>1.0</td><td>&quot;AGH University…</td><td>&quot;ARE&quot;</td><td>23.5</td><td>2003.0</td></tr><tr><td>&quot;25%&quot;</td><td>175.0</td><td>null</td><td>null</td><td>27.8</td><td>2009.0</td></tr><tr><td>&quot;50%&quot;</td><td>350.0</td><td>null</td><td>null</td><td>31.9</td><td>2016.0</td></tr><tr><td>&quot;75%&quot;</td><td>456.0</td><td>null</td><td>null</td><td>40.9</td><td>2020.0</td></tr><tr><td>&quot;max&quot;</td><td>950.0</td><td>&quot;Zhongnan Unive…</td><td>&quot;ZAF&quot;</td><td>100.0</td><td>2023.0</td></tr></tbody></table></div>"
      ],
      "text/plain": [
       "shape: (9, 6)\n",
       "┌────────────┬────────────┬───────────────────────────────────┬─────────┬───────────┬─────────────┐\n",
       "│ statistic  ┆ rank       ┆ univ_name                         ┆ country ┆ score     ┆ year        │\n",
       "│ ---        ┆ ---        ┆ ---                               ┆ ---     ┆ ---       ┆ ---         │\n",
       "│ str        ┆ f64        ┆ str                               ┆ str     ┆ f64       ┆ f64         │\n",
       "╞════════════╪════════════╪═══════════════════════════════════╪═════════╪═══════════╪═════════════╡\n",
       "│ count      ┆ 13816.0    ┆ 13816                             ┆ 13816   ┆ 2104.0    ┆ 13816.0     │\n",
       "│ null_count ┆ 0.0        ┆ 0                                 ┆ 0       ┆ 11712.0   ┆ 0.0         │\n",
       "│ mean       ┆ 367.615518 ┆ null                              ┆ null    ┆ 36.65846  ┆ 2014.708382 │\n",
       "│ std        ┆ 252.799107 ┆ null                              ┆ null    ┆ 13.314495 ┆ 6.179778    │\n",
       "│ min        ┆ 1.0        ┆ AGH University of Science and Te… ┆ ARE     ┆ 23.5      ┆ 2003.0      │\n",
       "│ 25%        ┆ 175.0      ┆ null                              ┆ null    ┆ 27.8      ┆ 2009.0      │\n",
       "│ 50%        ┆ 350.0      ┆ null                              ┆ null    ┆ 31.9      ┆ 2016.0      │\n",
       "│ 75%        ┆ 456.0      ┆ null                              ┆ null    ┆ 40.9      ┆ 2020.0      │\n",
       "│ max        ┆ 950.0      ┆ Zhongnan University of Economics… ┆ ZAF     ┆ 100.0     ┆ 2023.0      │\n",
       "└────────────┴────────────┴───────────────────────────────────┴─────────┴───────────┴─────────────┘"
      ]
     },
     "execution_count": 26,
     "metadata": {},
     "output_type": "execute_result"
    }
   ],
   "source": [
    "df.describe()"
   ]
  },
  {
   "cell_type": "code",
   "execution_count": 27,
   "metadata": {},
   "outputs": [
    {
     "data": {
      "text/html": [
       "<div><style>\n",
       ".dataframe > thead > tr,\n",
       ".dataframe > tbody > tr {\n",
       "  text-align: right;\n",
       "  white-space: pre-wrap;\n",
       "}\n",
       "</style>\n",
       "<small>shape: (10, 4)</small><table border=\"1\" class=\"dataframe\"><thead><tr><th>country</th><th>year</th><th>arwu_ranked_num</th><th>arwu_sum_score</th></tr><tr><td>str</td><td>i64</td><td>u32</td><td>f64</td></tr></thead><tbody><tr><td>&quot;USA&quot;</td><td>2018</td><td>217</td><td>1899.4</td></tr><tr><td>&quot;USA&quot;</td><td>2020</td><td>206</td><td>1745.8</td></tr><tr><td>&quot;USA&quot;</td><td>2019</td><td>206</td><td>1872.3</td></tr><tr><td>&quot;USA&quot;</td><td>2021</td><td>200</td><td>1714.8</td></tr><tr><td>&quot;USA&quot;</td><td>2022</td><td>196</td><td>1689.7</td></tr><tr><td>&quot;CHN&quot;</td><td>2023</td><td>191</td><td>310.6</td></tr><tr><td>&quot;USA&quot;</td><td>2017</td><td>191</td><td>1971.0</td></tr><tr><td>&quot;USA&quot;</td><td>2023</td><td>187</td><td>1614.3</td></tr><tr><td>&quot;USA&quot;</td><td>2004</td><td>170</td><td>2183.7</td></tr><tr><td>&quot;USA&quot;</td><td>2005</td><td>168</td><td>2180.2</td></tr></tbody></table></div>"
      ],
      "text/plain": [
       "shape: (10, 4)\n",
       "┌─────────┬──────┬─────────────────┬────────────────┐\n",
       "│ country ┆ year ┆ arwu_ranked_num ┆ arwu_sum_score │\n",
       "│ ---     ┆ ---  ┆ ---             ┆ ---            │\n",
       "│ str     ┆ i64  ┆ u32             ┆ f64            │\n",
       "╞═════════╪══════╪═════════════════╪════════════════╡\n",
       "│ USA     ┆ 2018 ┆ 217             ┆ 1899.4         │\n",
       "│ USA     ┆ 2020 ┆ 206             ┆ 1745.8         │\n",
       "│ USA     ┆ 2019 ┆ 206             ┆ 1872.3         │\n",
       "│ USA     ┆ 2021 ┆ 200             ┆ 1714.8         │\n",
       "│ USA     ┆ 2022 ┆ 196             ┆ 1689.7         │\n",
       "│ CHN     ┆ 2023 ┆ 191             ┆ 310.6          │\n",
       "│ USA     ┆ 2017 ┆ 191             ┆ 1971.0         │\n",
       "│ USA     ┆ 2023 ┆ 187             ┆ 1614.3         │\n",
       "│ USA     ┆ 2004 ┆ 170             ┆ 2183.7         │\n",
       "│ USA     ┆ 2005 ┆ 168             ┆ 2180.2         │\n",
       "└─────────┴──────┴─────────────────┴────────────────┘"
      ]
     },
     "execution_count": 27,
     "metadata": {},
     "output_type": "execute_result"
    }
   ],
   "source": [
    "df.group_by([\"country\", \"year\"]).agg(pl.col(\"rank\").count().alias(\"arwu_ranked_num\"), pl.col(\"score\").sum().alias(\"arwu_sum_score\")).sort(by=\"arwu_ranked_num\", descending=True).head(10)"
   ]
  },
  {
   "cell_type": "code",
   "execution_count": 28,
   "metadata": {},
   "outputs": [],
   "source": [
    "countries = set(df[\"country\"])"
   ]
  },
  {
   "cell_type": "code",
   "execution_count": null,
   "metadata": {},
   "outputs": [],
   "source": []
  }
 ],
 "metadata": {
  "kernelspec": {
   "display_name": "442research",
   "language": "python",
   "name": "python3"
  },
  "language_info": {
   "codemirror_mode": {
    "name": "ipython",
    "version": 3
   },
   "file_extension": ".py",
   "mimetype": "text/x-python",
   "name": "python",
   "nbconvert_exporter": "python",
   "pygments_lexer": "ipython3",
   "version": "3.12.2"
  }
 },
 "nbformat": 4,
 "nbformat_minor": 2
}
