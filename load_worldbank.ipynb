{
 "cells": [
  {
   "cell_type": "code",
   "execution_count": 12,
   "metadata": {},
   "outputs": [],
   "source": [
    "import polars as pl"
   ]
  },
  {
   "cell_type": "code",
   "execution_count": 13,
   "metadata": {},
   "outputs": [],
   "source": [
    "df = pl.read_csv(\"./data/worldbank.csv\")"
   ]
  },
  {
   "cell_type": "code",
   "execution_count": 14,
   "metadata": {},
   "outputs": [
    {
     "data": {
      "text/html": [
       "<div><style>\n",
       ".dataframe > thead > tr,\n",
       ".dataframe > tbody > tr {\n",
       "  text-align: right;\n",
       "  white-space: pre-wrap;\n",
       "}\n",
       "</style>\n",
       "<small>shape: (5, 7)</small><table border=\"1\" class=\"dataframe\"><thead><tr><th>Series Name</th><th>Series Code</th><th>Country Name</th><th>Country Code</th><th>Time</th><th>Time Code</th><th>Value</th></tr><tr><td>str</td><td>str</td><td>str</td><td>str</td><td>i64</td><td>str</td><td>str</td></tr></thead><tbody><tr><td>&quot;GDP per capita…</td><td>&quot;NY.GDP.PCAP.CD…</td><td>&quot;Afghanistan&quot;</td><td>&quot;AFG&quot;</td><td>1960</td><td>&quot;YR1960&quot;</td><td>&quot;62.36937450505…</td></tr><tr><td>&quot;GDP per capita…</td><td>&quot;NY.GDP.PCAP.CD…</td><td>&quot;Afghanistan&quot;</td><td>&quot;AFG&quot;</td><td>1961</td><td>&quot;YR1961&quot;</td><td>&quot;62.44370346269…</td></tr><tr><td>&quot;GDP per capita…</td><td>&quot;NY.GDP.PCAP.CD…</td><td>&quot;Afghanistan&quot;</td><td>&quot;AFG&quot;</td><td>1962</td><td>&quot;YR1962&quot;</td><td>&quot;60.95036382101…</td></tr><tr><td>&quot;GDP per capita…</td><td>&quot;NY.GDP.PCAP.CD…</td><td>&quot;Afghanistan&quot;</td><td>&quot;AFG&quot;</td><td>1963</td><td>&quot;YR1963&quot;</td><td>&quot;82.02173757815…</td></tr><tr><td>&quot;GDP per capita…</td><td>&quot;NY.GDP.PCAP.CD…</td><td>&quot;Afghanistan&quot;</td><td>&quot;AFG&quot;</td><td>1964</td><td>&quot;YR1964&quot;</td><td>&quot;85.51107341023…</td></tr></tbody></table></div>"
      ],
      "text/plain": [
       "shape: (5, 7)\n",
       "┌────────────────┬────────────────┬──────────────┬──────────────┬──────┬───────────┬───────────────┐\n",
       "│ Series Name    ┆ Series Code    ┆ Country Name ┆ Country Code ┆ Time ┆ Time Code ┆ Value         │\n",
       "│ ---            ┆ ---            ┆ ---          ┆ ---          ┆ ---  ┆ ---       ┆ ---           │\n",
       "│ str            ┆ str            ┆ str          ┆ str          ┆ i64  ┆ str       ┆ str           │\n",
       "╞════════════════╪════════════════╪══════════════╪══════════════╪══════╪═══════════╪═══════════════╡\n",
       "│ GDP per capita ┆ NY.GDP.PCAP.CD ┆ Afghanistan  ┆ AFG          ┆ 1960 ┆ YR1960    ┆ 62.3693745050 │\n",
       "│ (current US$)  ┆                ┆              ┆              ┆      ┆           ┆ 559           │\n",
       "│ GDP per capita ┆ NY.GDP.PCAP.CD ┆ Afghanistan  ┆ AFG          ┆ 1961 ┆ YR1961    ┆ 62.4437034626 │\n",
       "│ (current US$)  ┆                ┆              ┆              ┆      ┆           ┆ 929           │\n",
       "│ GDP per capita ┆ NY.GDP.PCAP.CD ┆ Afghanistan  ┆ AFG          ┆ 1962 ┆ YR1962    ┆ 60.9503638210 │\n",
       "│ (current US$)  ┆                ┆              ┆              ┆      ┆           ┆ 144           │\n",
       "│ GDP per capita ┆ NY.GDP.PCAP.CD ┆ Afghanistan  ┆ AFG          ┆ 1963 ┆ YR1963    ┆ 82.0217375781 │\n",
       "│ (current US$)  ┆                ┆              ┆              ┆      ┆           ┆ 519           │\n",
       "│ GDP per capita ┆ NY.GDP.PCAP.CD ┆ Afghanistan  ┆ AFG          ┆ 1964 ┆ YR1964    ┆ 85.5110734102 │\n",
       "│ (current US$)  ┆                ┆              ┆              ┆      ┆           ┆ 311           │\n",
       "└────────────────┴────────────────┴──────────────┴──────────────┴──────┴───────────┴───────────────┘"
      ]
     },
     "execution_count": 14,
     "metadata": {},
     "output_type": "execute_result"
    }
   ],
   "source": [
    "df.head()"
   ]
  },
  {
   "cell_type": "code",
   "execution_count": 15,
   "metadata": {},
   "outputs": [],
   "source": [
    "pivoted = df.pivot(index=[\"Country Code\", \"Time\"], columns=\"Series Code\", values=\"Value\", aggregate_function=\"first\").drop(\"\")"
   ]
  },
  {
   "cell_type": "code",
   "execution_count": 16,
   "metadata": {},
   "outputs": [
    {
     "data": {
      "text/html": [
       "<div><style>\n",
       ".dataframe > thead > tr,\n",
       ".dataframe > tbody > tr {\n",
       "  text-align: right;\n",
       "  white-space: pre-wrap;\n",
       "}\n",
       "</style>\n",
       "<small>shape: (5, 8)</small><table border=\"1\" class=\"dataframe\"><thead><tr><th>Country Code</th><th>Time</th><th>NY.GDP.PCAP.CD</th><th>NY.GDP.PCAP.KD.ZG</th><th>SE.PRM.CUAT.ZS</th><th>SE.SEC.CUAT.LO.ZS</th><th>SE.SEC.CUAT.UP.ZS</th><th>SP.POP.TOTL</th></tr><tr><td>str</td><td>i64</td><td>str</td><td>str</td><td>str</td><td>str</td><td>str</td><td>str</td></tr></thead><tbody><tr><td>&quot;AFG&quot;</td><td>1960</td><td>&quot;62.36937450505…</td><td>&quot;&quot;</td><td>&quot;&quot;</td><td>&quot;&quot;</td><td>&quot;&quot;</td><td>&quot;8622466&quot;</td></tr><tr><td>&quot;AFG&quot;</td><td>1961</td><td>&quot;62.44370346269…</td><td>&quot;&quot;</td><td>&quot;&quot;</td><td>&quot;&quot;</td><td>&quot;&quot;</td><td>&quot;8790140&quot;</td></tr><tr><td>&quot;AFG&quot;</td><td>1962</td><td>&quot;60.95036382101…</td><td>&quot;&quot;</td><td>&quot;&quot;</td><td>&quot;&quot;</td><td>&quot;&quot;</td><td>&quot;8969047&quot;</td></tr><tr><td>&quot;AFG&quot;</td><td>1963</td><td>&quot;82.02173757815…</td><td>&quot;&quot;</td><td>&quot;&quot;</td><td>&quot;&quot;</td><td>&quot;&quot;</td><td>&quot;9157465&quot;</td></tr><tr><td>&quot;AFG&quot;</td><td>1964</td><td>&quot;85.51107341023…</td><td>&quot;&quot;</td><td>&quot;&quot;</td><td>&quot;&quot;</td><td>&quot;&quot;</td><td>&quot;9355514&quot;</td></tr></tbody></table></div>"
      ],
      "text/plain": [
       "shape: (5, 8)\n",
       "┌─────────┬──────┬─────────────┬─────────────┬─────────────┬─────────────┬────────────┬────────────┐\n",
       "│ Country ┆ Time ┆ NY.GDP.PCAP ┆ NY.GDP.PCAP ┆ SE.PRM.CUAT ┆ SE.SEC.CUAT ┆ SE.SEC.CUA ┆ SP.POP.TOT │\n",
       "│ Code    ┆ ---  ┆ .CD         ┆ .KD.ZG      ┆ .ZS         ┆ .LO.ZS      ┆ T.UP.ZS    ┆ L          │\n",
       "│ ---     ┆ i64  ┆ ---         ┆ ---         ┆ ---         ┆ ---         ┆ ---        ┆ ---        │\n",
       "│ str     ┆      ┆ str         ┆ str         ┆ str         ┆ str         ┆ str        ┆ str        │\n",
       "╞═════════╪══════╪═════════════╪═════════════╪═════════════╪═════════════╪════════════╪════════════╡\n",
       "│ AFG     ┆ 1960 ┆ 62.36937450 ┆             ┆             ┆             ┆            ┆ 8622466    │\n",
       "│         ┆      ┆ 50559       ┆             ┆             ┆             ┆            ┆            │\n",
       "│ AFG     ┆ 1961 ┆ 62.44370346 ┆             ┆             ┆             ┆            ┆ 8790140    │\n",
       "│         ┆      ┆ 26929       ┆             ┆             ┆             ┆            ┆            │\n",
       "│ AFG     ┆ 1962 ┆ 60.95036382 ┆             ┆             ┆             ┆            ┆ 8969047    │\n",
       "│         ┆      ┆ 10144       ┆             ┆             ┆             ┆            ┆            │\n",
       "│ AFG     ┆ 1963 ┆ 82.02173757 ┆             ┆             ┆             ┆            ┆ 9157465    │\n",
       "│         ┆      ┆ 81519       ┆             ┆             ┆             ┆            ┆            │\n",
       "│ AFG     ┆ 1964 ┆ 85.51107341 ┆             ┆             ┆             ┆            ┆ 9355514    │\n",
       "│         ┆      ┆ 02311       ┆             ┆             ┆             ┆            ┆            │\n",
       "└─────────┴──────┴─────────────┴─────────────┴─────────────┴─────────────┴────────────┴────────────┘"
      ]
     },
     "execution_count": 16,
     "metadata": {},
     "output_type": "execute_result"
    }
   ],
   "source": [
    "pivoted.head()"
   ]
  },
  {
   "cell_type": "code",
   "execution_count": 17,
   "metadata": {},
   "outputs": [
    {
     "data": {
      "text/html": [
       "<div><style>\n",
       ".dataframe > thead > tr,\n",
       ".dataframe > tbody > tr {\n",
       "  text-align: right;\n",
       "  white-space: pre-wrap;\n",
       "}\n",
       "</style>\n",
       "<small>shape: (9, 9)</small><table border=\"1\" class=\"dataframe\"><thead><tr><th>statistic</th><th>Country Code</th><th>Time</th><th>NY.GDP.PCAP.CD</th><th>NY.GDP.PCAP.KD.ZG</th><th>SE.PRM.CUAT.ZS</th><th>SE.SEC.CUAT.LO.ZS</th><th>SE.SEC.CUAT.UP.ZS</th><th>SP.POP.TOTL</th></tr><tr><td>str</td><td>str</td><td>f64</td><td>str</td><td>str</td><td>str</td><td>str</td><td>str</td><td>str</td></tr></thead><tbody><tr><td>&quot;count&quot;</td><td>&quot;16759&quot;</td><td>16758.0</td><td>&quot;16758&quot;</td><td>&quot;16758&quot;</td><td>&quot;16758&quot;</td><td>&quot;16758&quot;</td><td>&quot;16758&quot;</td><td>&quot;16758&quot;</td></tr><tr><td>&quot;null_count&quot;</td><td>&quot;0&quot;</td><td>1.0</td><td>&quot;1&quot;</td><td>&quot;1&quot;</td><td>&quot;1&quot;</td><td>&quot;1&quot;</td><td>&quot;1&quot;</td><td>&quot;1&quot;</td></tr><tr><td>&quot;mean&quot;</td><td>null</td><td>1991.0</td><td>null</td><td>null</td><td>null</td><td>null</td><td>null</td><td>null</td></tr><tr><td>&quot;std&quot;</td><td>null</td><td>18.184785</td><td>null</td><td>null</td><td>null</td><td>null</td><td>null</td><td>null</td></tr><tr><td>&quot;min&quot;</td><td>&quot;&quot;</td><td>1960.0</td><td>&quot;&quot;</td><td>&quot;&quot;</td><td>&quot;&quot;</td><td>&quot;&quot;</td><td>&quot;&quot;</td><td>&quot;&quot;</td></tr><tr><td>&quot;25%&quot;</td><td>null</td><td>1975.0</td><td>null</td><td>null</td><td>null</td><td>null</td><td>null</td><td>null</td></tr><tr><td>&quot;50%&quot;</td><td>null</td><td>1991.0</td><td>null</td><td>null</td><td>null</td><td>null</td><td>null</td><td>null</td></tr><tr><td>&quot;75%&quot;</td><td>null</td><td>2007.0</td><td>null</td><td>null</td><td>null</td><td>null</td><td>null</td><td>null</td></tr><tr><td>&quot;max&quot;</td><td>&quot;ZWE&quot;</td><td>2022.0</td><td>&quot;9998.975219030…</td><td>&quot;96.95641989940…</td><td>&quot;99.99781036376…</td><td>&quot;99.97833251953…</td><td>&quot;97.39978790283…</td><td>&quot;99977&quot;</td></tr></tbody></table></div>"
      ],
      "text/plain": [
       "shape: (9, 9)\n",
       "┌───────────┬───────────┬───────────┬───────────┬───┬───────────┬───────────┬───────────┬──────────┐\n",
       "│ statistic ┆ Country   ┆ Time      ┆ NY.GDP.PC ┆ … ┆ SE.PRM.CU ┆ SE.SEC.CU ┆ SE.SEC.CU ┆ SP.POP.T │\n",
       "│ ---       ┆ Code      ┆ ---       ┆ AP.CD     ┆   ┆ AT.ZS     ┆ AT.LO.ZS  ┆ AT.UP.ZS  ┆ OTL      │\n",
       "│ str       ┆ ---       ┆ f64       ┆ ---       ┆   ┆ ---       ┆ ---       ┆ ---       ┆ ---      │\n",
       "│           ┆ str       ┆           ┆ str       ┆   ┆ str       ┆ str       ┆ str       ┆ str      │\n",
       "╞═══════════╪═══════════╪═══════════╪═══════════╪═══╪═══════════╪═══════════╪═══════════╪══════════╡\n",
       "│ count     ┆ 16759     ┆ 16758.0   ┆ 16758     ┆ … ┆ 16758     ┆ 16758     ┆ 16758     ┆ 16758    │\n",
       "│ null_coun ┆ 0         ┆ 1.0       ┆ 1         ┆ … ┆ 1         ┆ 1         ┆ 1         ┆ 1        │\n",
       "│ t         ┆           ┆           ┆           ┆   ┆           ┆           ┆           ┆          │\n",
       "│ mean      ┆ null      ┆ 1991.0    ┆ null      ┆ … ┆ null      ┆ null      ┆ null      ┆ null     │\n",
       "│ std       ┆ null      ┆ 18.184785 ┆ null      ┆ … ┆ null      ┆ null      ┆ null      ┆ null     │\n",
       "│ min       ┆           ┆ 1960.0    ┆           ┆ … ┆           ┆           ┆           ┆          │\n",
       "│ 25%       ┆ null      ┆ 1975.0    ┆ null      ┆ … ┆ null      ┆ null      ┆ null      ┆ null     │\n",
       "│ 50%       ┆ null      ┆ 1991.0    ┆ null      ┆ … ┆ null      ┆ null      ┆ null      ┆ null     │\n",
       "│ 75%       ┆ null      ┆ 2007.0    ┆ null      ┆ … ┆ null      ┆ null      ┆ null      ┆ null     │\n",
       "│ max       ┆ ZWE       ┆ 2022.0    ┆ 9998.9752 ┆ … ┆ 99.997810 ┆ 99.978332 ┆ 97.399787 ┆ 99977    │\n",
       "│           ┆           ┆           ┆ 1903088   ┆   ┆ 3637695   ┆ 5195312   ┆ 902832    ┆          │\n",
       "└───────────┴───────────┴───────────┴───────────┴───┴───────────┴───────────┴───────────┴──────────┘"
      ]
     },
     "execution_count": 17,
     "metadata": {},
     "output_type": "execute_result"
    }
   ],
   "source": [
    "pivoted.describe()"
   ]
  },
  {
   "cell_type": "code",
   "execution_count": 18,
   "metadata": {},
   "outputs": [],
   "source": [
    "pivoted = pivoted.with_columns(pl.col(\"NY.GDP.PCAP.CD\").cast(pl.Float64, strict=False),\n",
    "                     pl.col(\"NY.GDP.PCAP.KD.ZG\").cast(pl.Float64, strict=False),\n",
    "                     pl.col(\"SE.PRM.CUAT.ZS\").cast(pl.Float64, strict=False),\n",
    "                     pl.col(\"SE.SEC.CUAT.LO.ZS\").cast(pl.Float64, strict=False),\n",
    "                     pl.col(\"SE.SEC.CUAT.UP.ZS\").cast(pl.Float64, strict=False),\n",
    "                     pl.col(\"SP.POP.TOTL\").cast(pl.UInt64, strict=False),\n",
    "                     pl.col(\"Time\").cast(pl.UInt32))"
   ]
  },
  {
   "cell_type": "code",
   "execution_count": 19,
   "metadata": {},
   "outputs": [
    {
     "data": {
      "text/html": [
       "<div><style>\n",
       ".dataframe > thead > tr,\n",
       ".dataframe > tbody > tr {\n",
       "  text-align: right;\n",
       "  white-space: pre-wrap;\n",
       "}\n",
       "</style>\n",
       "<small>shape: (9, 9)</small><table border=\"1\" class=\"dataframe\"><thead><tr><th>statistic</th><th>Country Code</th><th>Time</th><th>NY.GDP.PCAP.CD</th><th>NY.GDP.PCAP.KD.ZG</th><th>SE.PRM.CUAT.ZS</th><th>SE.SEC.CUAT.LO.ZS</th><th>SE.SEC.CUAT.UP.ZS</th><th>SP.POP.TOTL</th></tr><tr><td>str</td><td>str</td><td>f64</td><td>f64</td><td>f64</td><td>f64</td><td>f64</td><td>f64</td><td>f64</td></tr></thead><tbody><tr><td>&quot;count&quot;</td><td>&quot;16759&quot;</td><td>16758.0</td><td>13202.0</td><td>12761.0</td><td>1221.0</td><td>1464.0</td><td>1394.0</td><td>16665.0</td></tr><tr><td>&quot;null_count&quot;</td><td>&quot;0&quot;</td><td>1.0</td><td>3557.0</td><td>3998.0</td><td>15538.0</td><td>15295.0</td><td>15365.0</td><td>94.0</td></tr><tr><td>&quot;mean&quot;</td><td>null</td><td>1991.0</td><td>8577.069191</td><td>1.96266</td><td>75.393014</td><td>57.944755</td><td>47.341594</td><td>2.1596e8</td></tr><tr><td>&quot;std&quot;</td><td>null</td><td>18.184785</td><td>17076.69232</td><td>5.704587</td><td>24.490245</td><td>28.282983</td><td>25.790407</td><td>7.1026e8</td></tr><tr><td>&quot;min&quot;</td><td>&quot;&quot;</td><td>1960.0</td><td>11.792676</td><td>-64.425841</td><td>1.59906</td><td>0.6</td><td>0.2</td><td>2646.0</td></tr><tr><td>&quot;25%&quot;</td><td>null</td><td>1975.0</td><td>586.073008</td><td>-0.151357</td><td>61.474979</td><td>36.939999</td><td>26.75</td><td>994000.0</td></tr><tr><td>&quot;50%&quot;</td><td>null</td><td>1991.0</td><td>1981.858367</td><td>2.129965</td><td>82.629356</td><td>57.599998</td><td>44.556358</td><td>6.787419e6</td></tr><tr><td>&quot;75%&quot;</td><td>null</td><td>2007.0</td><td>8129.144121</td><td>4.357167</td><td>96.43</td><td>83.158417</td><td>71.104958</td><td>4.6416031e7</td></tr><tr><td>&quot;max&quot;</td><td>&quot;ZWE&quot;</td><td>2022.0</td><td>240862.182448</td><td>140.480042</td><td>100.0</td><td>100.0</td><td>97.399788</td><td>7.9509e9</td></tr></tbody></table></div>"
      ],
      "text/plain": [
       "shape: (9, 9)\n",
       "┌───────────┬───────────┬───────────┬───────────┬───┬───────────┬───────────┬───────────┬──────────┐\n",
       "│ statistic ┆ Country   ┆ Time      ┆ NY.GDP.PC ┆ … ┆ SE.PRM.CU ┆ SE.SEC.CU ┆ SE.SEC.CU ┆ SP.POP.T │\n",
       "│ ---       ┆ Code      ┆ ---       ┆ AP.CD     ┆   ┆ AT.ZS     ┆ AT.LO.ZS  ┆ AT.UP.ZS  ┆ OTL      │\n",
       "│ str       ┆ ---       ┆ f64       ┆ ---       ┆   ┆ ---       ┆ ---       ┆ ---       ┆ ---      │\n",
       "│           ┆ str       ┆           ┆ f64       ┆   ┆ f64       ┆ f64       ┆ f64       ┆ f64      │\n",
       "╞═══════════╪═══════════╪═══════════╪═══════════╪═══╪═══════════╪═══════════╪═══════════╪══════════╡\n",
       "│ count     ┆ 16759     ┆ 16758.0   ┆ 13202.0   ┆ … ┆ 1221.0    ┆ 1464.0    ┆ 1394.0    ┆ 16665.0  │\n",
       "│ null_coun ┆ 0         ┆ 1.0       ┆ 3557.0    ┆ … ┆ 15538.0   ┆ 15295.0   ┆ 15365.0   ┆ 94.0     │\n",
       "│ t         ┆           ┆           ┆           ┆   ┆           ┆           ┆           ┆          │\n",
       "│ mean      ┆ null      ┆ 1991.0    ┆ 8577.0691 ┆ … ┆ 75.393014 ┆ 57.944755 ┆ 47.341594 ┆ 2.1596e8 │\n",
       "│           ┆           ┆           ┆ 91        ┆   ┆           ┆           ┆           ┆          │\n",
       "│ std       ┆ null      ┆ 18.184785 ┆ 17076.692 ┆ … ┆ 24.490245 ┆ 28.282983 ┆ 25.790407 ┆ 7.1026e8 │\n",
       "│           ┆           ┆           ┆ 32        ┆   ┆           ┆           ┆           ┆          │\n",
       "│ min       ┆           ┆ 1960.0    ┆ 11.792676 ┆ … ┆ 1.59906   ┆ 0.6       ┆ 0.2       ┆ 2646.0   │\n",
       "│ 25%       ┆ null      ┆ 1975.0    ┆ 586.07300 ┆ … ┆ 61.474979 ┆ 36.939999 ┆ 26.75     ┆ 994000.0 │\n",
       "│           ┆           ┆           ┆ 8         ┆   ┆           ┆           ┆           ┆          │\n",
       "│ 50%       ┆ null      ┆ 1991.0    ┆ 1981.8583 ┆ … ┆ 82.629356 ┆ 57.599998 ┆ 44.556358 ┆ 6.787419 │\n",
       "│           ┆           ┆           ┆ 67        ┆   ┆           ┆           ┆           ┆ e6       │\n",
       "│ 75%       ┆ null      ┆ 2007.0    ┆ 8129.1441 ┆ … ┆ 96.43     ┆ 83.158417 ┆ 71.104958 ┆ 4.641603 │\n",
       "│           ┆           ┆           ┆ 21        ┆   ┆           ┆           ┆           ┆ 1e7      │\n",
       "│ max       ┆ ZWE       ┆ 2022.0    ┆ 240862.18 ┆ … ┆ 100.0     ┆ 100.0     ┆ 97.399788 ┆ 7.9509e9 │\n",
       "│           ┆           ┆           ┆ 2448      ┆   ┆           ┆           ┆           ┆          │\n",
       "└───────────┴───────────┴───────────┴───────────┴───┴───────────┴───────────┴───────────┴──────────┘"
      ]
     },
     "execution_count": 19,
     "metadata": {},
     "output_type": "execute_result"
    }
   ],
   "source": [
    "pivoted.describe()"
   ]
  },
  {
   "cell_type": "code",
   "execution_count": 20,
   "metadata": {},
   "outputs": [],
   "source": [
    "pivoted = pivoted.rename({\"NY.GDP.PCAP.CD\": \"gdp_pc\",\n",
    "                          \"NY.GDP.PCAP.KD.ZG\" : \"gdp_pc_growth\", \n",
    "                          \"SE.PRM.CUAT.ZS\": \"primary_completion\",\n",
    "                          \"SE.SEC.CUAT.LO.ZS\": \"lower_sec_completion\",\n",
    "                          \"SE.SEC.CUAT.UP.ZS\": \"upper_sec_completion\",\n",
    "                          \"SP.POP.TOTL\": \"population\"})"
   ]
  },
  {
   "cell_type": "code",
   "execution_count": 21,
   "metadata": {},
   "outputs": [
    {
     "data": {
      "text/html": [
       "<div><style>\n",
       ".dataframe > thead > tr,\n",
       ".dataframe > tbody > tr {\n",
       "  text-align: right;\n",
       "  white-space: pre-wrap;\n",
       "}\n",
       "</style>\n",
       "<small>shape: (5, 8)</small><table border=\"1\" class=\"dataframe\"><thead><tr><th>Country Code</th><th>Time</th><th>gdp_pc</th><th>gdp_pc_growth</th><th>primary_completion</th><th>lower_sec_completion</th><th>upper_sec_completion</th><th>population</th></tr><tr><td>str</td><td>u32</td><td>f64</td><td>f64</td><td>f64</td><td>f64</td><td>f64</td><td>u64</td></tr></thead><tbody><tr><td>&quot;AFG&quot;</td><td>1960</td><td>62.369375</td><td>null</td><td>null</td><td>null</td><td>null</td><td>8622466</td></tr><tr><td>&quot;AFG&quot;</td><td>1961</td><td>62.443703</td><td>null</td><td>null</td><td>null</td><td>null</td><td>8790140</td></tr><tr><td>&quot;AFG&quot;</td><td>1962</td><td>60.950364</td><td>null</td><td>null</td><td>null</td><td>null</td><td>8969047</td></tr><tr><td>&quot;AFG&quot;</td><td>1963</td><td>82.021738</td><td>null</td><td>null</td><td>null</td><td>null</td><td>9157465</td></tr><tr><td>&quot;AFG&quot;</td><td>1964</td><td>85.511073</td><td>null</td><td>null</td><td>null</td><td>null</td><td>9355514</td></tr></tbody></table></div>"
      ],
      "text/plain": [
       "shape: (5, 8)\n",
       "┌─────────┬──────┬───────────┬──────────────┬─────────────┬─────────────┬─────────────┬────────────┐\n",
       "│ Country ┆ Time ┆ gdp_pc    ┆ gdp_pc_growt ┆ primary_com ┆ lower_sec_c ┆ upper_sec_c ┆ population │\n",
       "│ Code    ┆ ---  ┆ ---       ┆ h            ┆ pletion     ┆ ompletion   ┆ ompletion   ┆ ---        │\n",
       "│ ---     ┆ u32  ┆ f64       ┆ ---          ┆ ---         ┆ ---         ┆ ---         ┆ u64        │\n",
       "│ str     ┆      ┆           ┆ f64          ┆ f64         ┆ f64         ┆ f64         ┆            │\n",
       "╞═════════╪══════╪═══════════╪══════════════╪═════════════╪═════════════╪═════════════╪════════════╡\n",
       "│ AFG     ┆ 1960 ┆ 62.369375 ┆ null         ┆ null        ┆ null        ┆ null        ┆ 8622466    │\n",
       "│ AFG     ┆ 1961 ┆ 62.443703 ┆ null         ┆ null        ┆ null        ┆ null        ┆ 8790140    │\n",
       "│ AFG     ┆ 1962 ┆ 60.950364 ┆ null         ┆ null        ┆ null        ┆ null        ┆ 8969047    │\n",
       "│ AFG     ┆ 1963 ┆ 82.021738 ┆ null         ┆ null        ┆ null        ┆ null        ┆ 9157465    │\n",
       "│ AFG     ┆ 1964 ┆ 85.511073 ┆ null         ┆ null        ┆ null        ┆ null        ┆ 9355514    │\n",
       "└─────────┴──────┴───────────┴──────────────┴─────────────┴─────────────┴─────────────┴────────────┘"
      ]
     },
     "execution_count": 21,
     "metadata": {},
     "output_type": "execute_result"
    }
   ],
   "source": [
    "pivoted.head()"
   ]
  },
  {
   "cell_type": "code",
   "execution_count": 22,
   "metadata": {},
   "outputs": [],
   "source": [
    "pivoted.write_parquet(\"data/worldbank_indicators.parquet\")"
   ]
  },
  {
   "cell_type": "code",
   "execution_count": null,
   "metadata": {},
   "outputs": [],
   "source": []
  },
  {
   "cell_type": "code",
   "execution_count": null,
   "metadata": {},
   "outputs": [],
   "source": []
  }
 ],
 "metadata": {
  "kernelspec": {
   "display_name": "442research",
   "language": "python",
   "name": "python3"
  },
  "language_info": {
   "codemirror_mode": {
    "name": "ipython",
    "version": 3
   },
   "file_extension": ".py",
   "mimetype": "text/x-python",
   "name": "python",
   "nbconvert_exporter": "python",
   "pygments_lexer": "ipython3",
   "version": "3.12.2"
  }
 },
 "nbformat": 4,
 "nbformat_minor": 2
}
