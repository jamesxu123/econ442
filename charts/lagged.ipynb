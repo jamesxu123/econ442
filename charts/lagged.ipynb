{
 "cells": [
  {
   "cell_type": "code",
   "execution_count": 1,
   "metadata": {},
   "outputs": [],
   "source": [
    "import polars as pl\n",
    "import statsmodels.formula.api as smf\n",
    "import numpy as np\n",
    "from stargazer.stargazer import Stargazer"
   ]
  },
  {
   "cell_type": "code",
   "execution_count": 10,
   "metadata": {},
   "outputs": [
    {
     "data": {
      "text/html": [
       "<div><style>\n",
       ".dataframe > thead > tr,\n",
       ".dataframe > tbody > tr {\n",
       "  text-align: right;\n",
       "  white-space: pre-wrap;\n",
       "}\n",
       "</style>\n",
       "<small>shape: (5, 16)</small><table border=\"1\" class=\"dataframe\"><thead><tr><th>country</th><th>year</th><th>gdp_pc</th><th>gdp_pc_growth</th><th>primary_completion</th><th>lower_sec_completion</th><th>upper_sec_completion</th><th>population</th><th>arwu_ranked_num</th><th>arwu_sum_score</th><th>math</th><th>read</th><th>science</th><th>in_math99</th><th>imo_total_score</th><th>democracy_eiu</th></tr><tr><td>str</td><td>i64</td><td>f64</td><td>f64</td><td>f64</td><td>f64</td><td>f64</td><td>u64</td><td>u32</td><td>f64</td><td>f64</td><td>f64</td><td>f64</td><td>f64</td><td>f64</td><td>f64</td></tr></thead><tbody><tr><td>&quot;ABW&quot;</td><td>2003</td><td>22050.589873</td><td>0.107046</td><td>null</td><td>null</td><td>null</td><td>92701</td><td>0</td><td>0.0</td><td>null</td><td>null</td><td>null</td><td>null</td><td>0.0</td><td>null</td></tr><tr><td>&quot;ABW&quot;</td><td>2004</td><td>24105.524121</td><td>6.331366</td><td>null</td><td>null</td><td>null</td><td>93540</td><td>0</td><td>0.0</td><td>null</td><td>null</td><td>null</td><td>null</td><td>0.0</td><td>null</td></tr><tr><td>&quot;ABW&quot;</td><td>2005</td><td>24978.221674</td><td>-1.377379</td><td>null</td><td>null</td><td>null</td><td>94483</td><td>0</td><td>0.0</td><td>null</td><td>null</td><td>null</td><td>null</td><td>0.0</td><td>null</td></tr><tr><td>&quot;ABW&quot;</td><td>2006</td><td>25832.925565</td><td>-0.060443</td><td>null</td><td>null</td><td>null</td><td>95606</td><td>0</td><td>0.0</td><td>null</td><td>null</td><td>null</td><td>null</td><td>0.0</td><td>null</td></tr><tr><td>&quot;ABW&quot;</td><td>2007</td><td>27665.29948</td><td>1.83164</td><td>null</td><td>null</td><td>null</td><td>96787</td><td>0</td><td>0.0</td><td>null</td><td>null</td><td>null</td><td>null</td><td>0.0</td><td>null</td></tr></tbody></table></div>"
      ],
      "text/plain": [
       "shape: (5, 16)\n",
       "┌─────────┬──────┬─────────────┬─────────────┬───┬─────────┬───────────┬─────────────┬─────────────┐\n",
       "│ country ┆ year ┆ gdp_pc      ┆ gdp_pc_grow ┆ … ┆ science ┆ in_math99 ┆ imo_total_s ┆ democracy_e │\n",
       "│ ---     ┆ ---  ┆ ---         ┆ th          ┆   ┆ ---     ┆ ---       ┆ core        ┆ iu          │\n",
       "│ str     ┆ i64  ┆ f64         ┆ ---         ┆   ┆ f64     ┆ f64       ┆ ---         ┆ ---         │\n",
       "│         ┆      ┆             ┆ f64         ┆   ┆         ┆           ┆ f64         ┆ f64         │\n",
       "╞═════════╪══════╪═════════════╪═════════════╪═══╪═════════╪═══════════╪═════════════╪═════════════╡\n",
       "│ ABW     ┆ 2003 ┆ 22050.58987 ┆ 0.107046    ┆ … ┆ null    ┆ null      ┆ 0.0         ┆ null        │\n",
       "│         ┆      ┆ 3           ┆             ┆   ┆         ┆           ┆             ┆             │\n",
       "│ ABW     ┆ 2004 ┆ 24105.52412 ┆ 6.331366    ┆ … ┆ null    ┆ null      ┆ 0.0         ┆ null        │\n",
       "│         ┆      ┆ 1           ┆             ┆   ┆         ┆           ┆             ┆             │\n",
       "│ ABW     ┆ 2005 ┆ 24978.22167 ┆ -1.377379   ┆ … ┆ null    ┆ null      ┆ 0.0         ┆ null        │\n",
       "│         ┆      ┆ 4           ┆             ┆   ┆         ┆           ┆             ┆             │\n",
       "│ ABW     ┆ 2006 ┆ 25832.92556 ┆ -0.060443   ┆ … ┆ null    ┆ null      ┆ 0.0         ┆ null        │\n",
       "│         ┆      ┆ 5           ┆             ┆   ┆         ┆           ┆             ┆             │\n",
       "│ ABW     ┆ 2007 ┆ 27665.29948 ┆ 1.83164     ┆ … ┆ null    ┆ null      ┆ 0.0         ┆ null        │\n",
       "└─────────┴──────┴─────────────┴─────────────┴───┴─────────┴───────────┴─────────────┴─────────────┘"
      ]
     },
     "execution_count": 10,
     "metadata": {},
     "output_type": "execute_result"
    }
   ],
   "source": [
    "df = pl.read_parquet(\"../data/combined_all.parquet\").sort([\"country\", \"year\"])\n",
    "df.head()"
   ]
  },
  {
   "cell_type": "code",
   "execution_count": 11,
   "metadata": {},
   "outputs": [],
   "source": [
    "pd_df = df.to_pandas()"
   ]
  },
  {
   "cell_type": "code",
   "execution_count": 3,
   "metadata": {},
   "outputs": [],
   "source": [
    "pd_df[\"arwu_ranked_num\"] = pd_df[\"arwu_ranked_num\"] / pd_df[\"population\"] * 1_000_000\n",
    "pd_df[\"gdp_pc_growth\"] = 100 * pd_df[\"gdp_pc_growth\"]\n",
    "# pd_df[\"gdp_pc\"] = np.log(pd_df[\"gdp_pc\"])\n",
    "# pd_df[\"population\"] = np.log(pd_df[\"population\"])"
   ]
  },
  {
   "cell_type": "code",
   "execution_count": null,
   "metadata": {},
   "outputs": [],
   "source": []
  }
 ],
 "metadata": {
  "kernelspec": {
   "display_name": "442research",
   "language": "python",
   "name": "python3"
  },
  "language_info": {
   "codemirror_mode": {
    "name": "ipython",
    "version": 3
   },
   "file_extension": ".py",
   "mimetype": "text/x-python",
   "name": "python",
   "nbconvert_exporter": "python",
   "pygments_lexer": "ipython3",
   "version": "3.12.2"
  }
 },
 "nbformat": 4,
 "nbformat_minor": 2
}
