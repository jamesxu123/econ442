{
 "cells": [
  {
   "cell_type": "code",
   "execution_count": 1,
   "metadata": {},
   "outputs": [],
   "source": [
    "import polars as pl\n",
    "import statsmodels.formula.api as smf\n",
    "import numpy as np\n",
    "from stargazer.stargazer import Stargazer\n",
    "from linearmodels.panel import PanelOLS"
   ]
  },
  {
   "cell_type": "code",
   "execution_count": 36,
   "metadata": {},
   "outputs": [],
   "source": [
    "df = pl.read_parquet(\"../data/combined-2022-xgboost-synthetic.parquet\")\n",
    "pd_df = df.to_pandas()\n",
    "pd_df = pd_df[pd_df.reset_index()[\"year\"].isin([2003, 2006, 2009, 2012, 2015, 2018, 2022])]\n",
    "\n",
    "pd_df = pd_df.set_index([\"country\", \"year\"])"
   ]
  },
  {
   "cell_type": "code",
   "execution_count": 37,
   "metadata": {},
   "outputs": [],
   "source": [
    "# pd_df[\"arwu_ranked_num_pc\"] = pd_df[\"arwu_ranked_num\"] / pd_df[\"population\"] * 1_000_000\n",
    "# pd_df[\"gdp_pc\"] = np.log(pd_df[\"gdp_pc\"])\n",
    "# pd_df[\"population\"] = np.log(pd_df[\"population\"])"
   ]
  },
  {
   "cell_type": "code",
   "execution_count": 38,
   "metadata": {},
   "outputs": [
    {
     "data": {
      "text/plain": [
       "(323, 17)"
      ]
     },
     "execution_count": 38,
     "metadata": {},
     "output_type": "execute_result"
    }
   ],
   "source": [
    "group1 = pd_df[(pd_df[\"arwu_ranked_num\"].notnull()) & (pd_df[\"math\"].notnull()) & (pd_df[\"imo_total_score\"].notnull()) & (pd_df[\"primary_completion\"].notnull()) & (pd_df[\"lower_sec_completion\"].notnull()) & (pd_df[\"upper_sec_completion\"].notnull()) & (pd_df[\"democracy_eiu\"].notnull())]\n",
    "group1.shape"
   ]
  },
  {
   "cell_type": "code",
   "execution_count": 39,
   "metadata": {},
   "outputs": [
    {
     "data": {
      "text/plain": [
       "(813, 17)"
      ]
     },
     "execution_count": 39,
     "metadata": {},
     "output_type": "execute_result"
    }
   ],
   "source": [
    "group2 = pd_df[(pd_df[\"gdp_pc\"].notnull()) & (pd_df[\"arwu_ranked_num\"].notnull()) & (pd_df[\"imo_total_score\"].notnull()) & (pd_df[\"primary_completion\"].notnull()) & (pd_df[\"lower_sec_completion\"].notnull()) & (pd_df[\"upper_sec_completion\"].notnull()) & (pd_df[\"democracy_eiu\"].notnull())]\n",
    "group2.shape"
   ]
  },
  {
   "cell_type": "code",
   "execution_count": 40,
   "metadata": {},
   "outputs": [],
   "source": [
    "pisa_time_fe = PanelOLS.from_formula(\"gdp_pc_growth ~ gdp_pc + imo_total_score + math + in_math99 + arwu_ranked_num*gdp_pc + primary_completion + lower_sec_completion + upper_sec_completion + population + democracy_eiu + TimeEffects\", group1).fit()"
   ]
  },
  {
   "cell_type": "code",
   "execution_count": 41,
   "metadata": {},
   "outputs": [],
   "source": [
    "pisa_time_country_fe = PanelOLS.from_formula(\"gdp_pc_growth ~ gdp_pc + imo_total_score + math + in_math99 + arwu_ranked_num*gdp_pc + primary_completion + lower_sec_completion + upper_sec_completion + population + democracy_eiu + TimeEffects + EntityEffects\", group1).fit()"
   ]
  },
  {
   "cell_type": "code",
   "execution_count": 42,
   "metadata": {},
   "outputs": [],
   "source": [
    "pisa_no_math_time_fe = PanelOLS.from_formula(\"gdp_pc_growth ~ gdp_pc + imo_total_score + in_math99 + arwu_ranked_num*gdp_pc + primary_completion + lower_sec_completion + upper_sec_completion + population + democracy_eiu + TimeEffects\", group1).fit()"
   ]
  },
  {
   "cell_type": "code",
   "execution_count": 43,
   "metadata": {},
   "outputs": [
    {
     "name": "stderr",
     "output_type": "stream",
     "text": [
      "/Users/jamesxu/miniforge3/envs/442research/lib/python3.12/site-packages/linearmodels/panel/model.py:1214: MissingValueWarning: \n",
      "Inputs contain missing values. Dropping rows with missing observations.\n",
      "  super().__init__(dependent, exog, weights=weights, check_rank=check_rank)\n"
     ]
    }
   ],
   "source": [
    "non_pisa = PanelOLS.from_formula(\"gdp_pc_growth ~ gdp_pc + democracy_eiu + imo_total_score + arwu_ranked_num*gdp_pc + primary_completion + lower_sec_completion + upper_sec_completion + population + TimeEffects\", group2).fit()"
   ]
  },
  {
   "cell_type": "code",
   "execution_count": 44,
   "metadata": {},
   "outputs": [
    {
     "name": "stderr",
     "output_type": "stream",
     "text": [
      "/Users/jamesxu/miniforge3/envs/442research/lib/python3.12/site-packages/linearmodels/panel/model.py:1214: MissingValueWarning: \n",
      "Inputs contain missing values. Dropping rows with missing observations.\n",
      "  super().__init__(dependent, exog, weights=weights, check_rank=check_rank)\n"
     ]
    }
   ],
   "source": [
    "non_pisa_no_interac = PanelOLS.from_formula(\"gdp_pc_growth ~ gdp_pc + democracy_eiu + imo_total_score + arwu_ranked_num + primary_completion + lower_sec_completion + upper_sec_completion + population + TimeEffects\", group2).fit()"
   ]
  },
  {
   "cell_type": "code",
   "execution_count": 45,
   "metadata": {},
   "outputs": [
    {
     "data": {
      "text/html": [
       "<table class=\"simpletable\">\n",
       "<caption>PanelOLS Estimation Summary</caption>\n",
       "<tr>\n",
       "  <th>Dep. Variable:</th>      <td>gdp_pc_growth</td>  <th>  R-squared:         </th>    <td>0.0362</td> \n",
       "</tr>\n",
       "<tr>\n",
       "  <th>Estimator:</th>            <td>PanelOLS</td>     <th>  R-squared (Between):</th>   <td>0.4979</td> \n",
       "</tr>\n",
       "<tr>\n",
       "  <th>No. Observations:</th>        <td>809</td>       <th>  R-squared (Within):</th>    <td>0.0104</td> \n",
       "</tr>\n",
       "<tr>\n",
       "  <th>Date:</th>             <td>Thu, Apr 04 2024</td> <th>  R-squared (Overall):</th>   <td>0.2088</td> \n",
       "</tr>\n",
       "<tr>\n",
       "  <th>Time:</th>                 <td>22:00:45</td>     <th>  Log-likelihood     </th>    <td>-6254.4</td>\n",
       "</tr>\n",
       "<tr>\n",
       "  <th>Cov. Estimator:</th>      <td>Unadjusted</td>    <th>                     </th>       <td></td>    \n",
       "</tr>\n",
       "<tr>\n",
       "  <th></th>                          <td></td>         <th>  F-statistic:       </th>    <td>3.3198</td> \n",
       "</tr>\n",
       "<tr>\n",
       "  <th>Entities:</th>                <td>165</td>       <th>  P-value            </th>    <td>0.0005</td> \n",
       "</tr>\n",
       "<tr>\n",
       "  <th>Avg Obs:</th>               <td>4.9030</td>      <th>  Distribution:      </th>   <td>F(9,795)</td>\n",
       "</tr>\n",
       "<tr>\n",
       "  <th>Min Obs:</th>               <td>1.0000</td>      <th>                     </th>       <td></td>    \n",
       "</tr>\n",
       "<tr>\n",
       "  <th>Max Obs:</th>               <td>5.0000</td>      <th>  F-statistic (robust):</th>  <td>3.3198</td> \n",
       "</tr>\n",
       "<tr>\n",
       "  <th></th>                          <td></td>         <th>  P-value            </th>    <td>0.0005</td> \n",
       "</tr>\n",
       "<tr>\n",
       "  <th>Time periods:</th>             <td>5</td>        <th>  Distribution:      </th>   <td>F(9,795)</td>\n",
       "</tr>\n",
       "<tr>\n",
       "  <th>Avg Obs:</th>               <td>161.80</td>      <th>                     </th>       <td></td>    \n",
       "</tr>\n",
       "<tr>\n",
       "  <th>Min Obs:</th>               <td>156.00</td>      <th>                     </th>       <td></td>    \n",
       "</tr>\n",
       "<tr>\n",
       "  <th>Max Obs:</th>               <td>164.00</td>      <th>                     </th>       <td></td>    \n",
       "</tr>\n",
       "<tr>\n",
       "  <th></th>                          <td></td>         <th>                     </th>       <td></td>    \n",
       "</tr>\n",
       "</table>\n",
       "<table class=\"simpletable\">\n",
       "<caption>Parameter Estimates</caption>\n",
       "<tr>\n",
       "             <td></td>            <th>Parameter</th> <th>Std. Err.</th> <th>T-stat</th>  <th>P-value</th>  <th>Lower CI</th>  <th>Upper CI</th> \n",
       "</tr>\n",
       "<tr>\n",
       "  <th>gdp_pc</th>                  <td>-0.0034</td>   <td>0.0018</td>   <td>-1.9379</td> <td>0.0530</td>    <td>-0.0069</td>  <td>4.457e-05</td>\n",
       "</tr>\n",
       "<tr>\n",
       "  <th>democracy_eiu</th>           <td>25.330</td>    <td>12.343</td>   <td>2.0522</td>  <td>0.0405</td>    <td>1.1021</td>    <td>49.559</td>  \n",
       "</tr>\n",
       "<tr>\n",
       "  <th>imo_total_score</th>         <td>-3.5239</td>   <td>8.1475</td>   <td>-0.4325</td> <td>0.6655</td>    <td>-19.517</td>   <td>12.469</td>  \n",
       "</tr>\n",
       "<tr>\n",
       "  <th>arwu_ranked_num</th>         <td>-570.26</td>   <td>231.57</td>   <td>-2.4626</td> <td>0.0140</td>    <td>-1024.8</td>   <td>-115.71</td> \n",
       "</tr>\n",
       "<tr>\n",
       "  <th>primary_completion</th>      <td>-1.1857</td>   <td>2.2057</td>   <td>-0.5375</td> <td>0.5910</td>    <td>-5.5154</td>   <td>3.1440</td>  \n",
       "</tr>\n",
       "<tr>\n",
       "  <th>lower_sec_completion</th>    <td>3.9648</td>    <td>3.3204</td>   <td>1.1941</td>  <td>0.2328</td>    <td>-2.5531</td>   <td>10.483</td>  \n",
       "</tr>\n",
       "<tr>\n",
       "  <th>upper_sec_completion</th>    <td>1.3005</td>    <td>2.7896</td>   <td>0.4662</td>  <td>0.6412</td>    <td>-4.1753</td>   <td>6.7763</td>  \n",
       "</tr>\n",
       "<tr>\n",
       "  <th>population</th>             <td>2.277e-07</td> <td>1.342e-07</td> <td>1.6969</td>  <td>0.0901</td>  <td>-3.571e-08</td> <td>4.912e-07</td>\n",
       "</tr>\n",
       "<tr>\n",
       "  <th>arwu_ranked_num:gdp_pc</th>  <td>0.0056</td>    <td>0.0043</td>   <td>1.3034</td>  <td>0.1928</td>    <td>-0.0028</td>   <td>0.0139</td>  \n",
       "</tr>\n",
       "</table><br/><br/>F-test for Poolability: 6.9352<br/>P-value: 0.0000<br/>Distribution: F(4,795)<br/><br/>Included effects: Time<br/>id: 0x3223c4830"
      ],
      "text/plain": [
       "                          PanelOLS Estimation Summary                           \n",
       "================================================================================\n",
       "Dep. Variable:          gdp_pc_growth   R-squared:                        0.0362\n",
       "Estimator:                   PanelOLS   R-squared (Between):              0.4979\n",
       "No. Observations:                 809   R-squared (Within):               0.0104\n",
       "Date:                Thu, Apr 04 2024   R-squared (Overall):              0.2088\n",
       "Time:                        22:00:45   Log-likelihood                   -6254.4\n",
       "Cov. Estimator:            Unadjusted                                           \n",
       "                                        F-statistic:                      3.3198\n",
       "Entities:                         165   P-value                           0.0005\n",
       "Avg Obs:                       4.9030   Distribution:                   F(9,795)\n",
       "Min Obs:                       1.0000                                           \n",
       "Max Obs:                       5.0000   F-statistic (robust):             3.3198\n",
       "                                        P-value                           0.0005\n",
       "Time periods:                       5   Distribution:                   F(9,795)\n",
       "Avg Obs:                       161.80                                           \n",
       "Min Obs:                       156.00                                           \n",
       "Max Obs:                       164.00                                           \n",
       "                                                                                \n",
       "                                   Parameter Estimates                                    \n",
       "==========================================================================================\n",
       "                        Parameter  Std. Err.     T-stat    P-value    Lower CI    Upper CI\n",
       "------------------------------------------------------------------------------------------\n",
       "gdp_pc                    -0.0034     0.0018    -1.9379     0.0530     -0.0069   4.457e-05\n",
       "democracy_eiu              25.330     12.343     2.0522     0.0405      1.1021      49.559\n",
       "imo_total_score           -3.5239     8.1475    -0.4325     0.6655     -19.517      12.469\n",
       "arwu_ranked_num           -570.26     231.57    -2.4626     0.0140     -1024.8     -115.71\n",
       "primary_completion        -1.1857     2.2057    -0.5375     0.5910     -5.5154      3.1440\n",
       "lower_sec_completion       3.9648     3.3204     1.1941     0.2328     -2.5531      10.483\n",
       "upper_sec_completion       1.3005     2.7896     0.4662     0.6412     -4.1753      6.7763\n",
       "population              2.277e-07  1.342e-07     1.6969     0.0901  -3.571e-08   4.912e-07\n",
       "arwu_ranked_num:gdp_pc     0.0056     0.0043     1.3034     0.1928     -0.0028      0.0139\n",
       "==========================================================================================\n",
       "\n",
       "F-test for Poolability: 6.9352\n",
       "P-value: 0.0000\n",
       "Distribution: F(4,795)\n",
       "\n",
       "Included effects: Time\n",
       "PanelEffectsResults, id: 0x3223c4830"
      ]
     },
     "execution_count": 45,
     "metadata": {},
     "output_type": "execute_result"
    }
   ],
   "source": [
    "non_pisa"
   ]
  },
  {
   "cell_type": "code",
   "execution_count": null,
   "metadata": {},
   "outputs": [],
   "source": []
  },
  {
   "cell_type": "code",
   "execution_count": null,
   "metadata": {},
   "outputs": [],
   "source": []
  }
 ],
 "metadata": {
  "kernelspec": {
   "display_name": "442research",
   "language": "python",
   "name": "python3"
  },
  "language_info": {
   "codemirror_mode": {
    "name": "ipython",
    "version": 3
   },
   "file_extension": ".py",
   "mimetype": "text/x-python",
   "name": "python",
   "nbconvert_exporter": "python",
   "pygments_lexer": "ipython3",
   "version": "3.12.2"
  }
 },
 "nbformat": 4,
 "nbformat_minor": 2
}
