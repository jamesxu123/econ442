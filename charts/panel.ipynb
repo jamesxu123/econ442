{
 "cells": [
  {
   "cell_type": "code",
   "execution_count": 7,
   "metadata": {},
   "outputs": [],
   "source": [
    "import polars as pl\n",
    "import statsmodels.formula.api as smf\n",
    "import numpy as np\n",
    "from stargazer.stargazer import Stargazer\n",
    "from linearmodels.panel import PanelOLS"
   ]
  },
  {
   "cell_type": "code",
   "execution_count": 11,
   "metadata": {},
   "outputs": [],
   "source": [
    "df = pl.read_parquet(\"../data/combined_all.parquet\")\n",
    "pd_df = df.to_pandas().set_index([\"country\", \"year\"])"
   ]
  },
  {
   "cell_type": "code",
   "execution_count": 12,
   "metadata": {},
   "outputs": [],
   "source": [
    "pd_df[\"arwu_ranked_num_pc\"] = pd_df[\"arwu_ranked_num\"] / pd_df[\"population\"] * 1_000_000\n",
    "pd_df[\"gdp_pc\"] = np.log(pd_df[\"gdp_pc\"])\n",
    "pd_df[\"population\"] = np.log(pd_df[\"population\"])"
   ]
  },
  {
   "cell_type": "code",
   "execution_count": 18,
   "metadata": {},
   "outputs": [
    {
     "data": {
      "text/plain": [
       "(109, 15)"
      ]
     },
     "execution_count": 18,
     "metadata": {},
     "output_type": "execute_result"
    }
   ],
   "source": [
    "group1 = pd_df[(pd_df[\"arwu_ranked_num\"].notnull()) & (pd_df[\"math\"].notnull()) & (pd_df[\"imo_total_score\"].notnull()) & (pd_df[\"primary_completion\"].notnull()) & (pd_df[\"lower_sec_completion\"].notnull()) & (pd_df[\"upper_sec_completion\"].notnull()) & (pd_df[\"democracy_eiu\"].notnull())]\n",
    "group1.shape"
   ]
  },
  {
   "cell_type": "code",
   "execution_count": 57,
   "metadata": {},
   "outputs": [
    {
     "data": {
      "text/plain": [
       "(746, 15)"
      ]
     },
     "execution_count": 57,
     "metadata": {},
     "output_type": "execute_result"
    }
   ],
   "source": [
    "group2 = pd_df[(pd_df[\"gdp_pc\"].notnull()) & (pd_df[\"arwu_ranked_num\"].notnull()) & (pd_df[\"imo_total_score\"].notnull()) & (pd_df[\"primary_completion\"].notnull()) & (pd_df[\"lower_sec_completion\"].notnull()) & (pd_df[\"upper_sec_completion\"].notnull()) & (pd_df[\"democracy_eiu\"].notnull())]\n",
    "group2.shape"
   ]
  },
  {
   "cell_type": "code",
   "execution_count": 84,
   "metadata": {},
   "outputs": [],
   "source": [
    "pisa_time_fe = PanelOLS.from_formula(\"gdp_pc_growth ~ gdp_pc + imo_total_score + math + in_math99 + arwu_ranked_num*gdp_pc + primary_completion + lower_sec_completion + upper_sec_completion + population + democracy_eiu + TimeEffects\", group1).fit()"
   ]
  },
  {
   "cell_type": "code",
   "execution_count": 85,
   "metadata": {},
   "outputs": [],
   "source": [
    "pisa_time_country_fe = PanelOLS.from_formula(\"gdp_pc_growth ~ gdp_pc + imo_total_score + math + in_math99 + arwu_ranked_num*gdp_pc + primary_completion + lower_sec_completion + upper_sec_completion + population + democracy_eiu + TimeEffects + EntityEffects\", group1).fit()"
   ]
  },
  {
   "cell_type": "code",
   "execution_count": 86,
   "metadata": {},
   "outputs": [],
   "source": [
    "pisa_no_math_time_fe = PanelOLS.from_formula(\"gdp_pc_growth ~ gdp_pc + imo_total_score + in_math99 + arwu_ranked_num*gdp_pc + primary_completion + lower_sec_completion + upper_sec_completion + population + democracy_eiu + TimeEffects\", group1).fit()"
   ]
  },
  {
   "cell_type": "code",
   "execution_count": 87,
   "metadata": {},
   "outputs": [],
   "source": [
    "non_pisa = PanelOLS.from_formula(\"gdp_pc_growth ~ gdp_pc + democracy_eiu + imo_total_score + arwu_ranked_num*gdp_pc + primary_completion + lower_sec_completion + upper_sec_completion + population + TimeEffects\", group2).fit()"
   ]
  },
  {
   "cell_type": "code",
   "execution_count": 88,
   "metadata": {},
   "outputs": [],
   "source": [
    "non_pisa_no_interac = PanelOLS.from_formula(\"gdp_pc_growth ~ gdp_pc + democracy_eiu + imo_total_score + arwu_ranked_num + primary_completion + lower_sec_completion + upper_sec_completion + population + TimeEffects\", group2).fit()"
   ]
  },
  {
   "cell_type": "code",
   "execution_count": 95,
   "metadata": {},
   "outputs": [
    {
     "data": {
      "text/html": [
       "<table class=\"simpletable\">\n",
       "<caption>PanelOLS Estimation Summary</caption>\n",
       "<tr>\n",
       "  <th>Dep. Variable:</th>      <td>gdp_pc_growth</td>  <th>  R-squared:         </th>    <td>0.0974</td> \n",
       "</tr>\n",
       "<tr>\n",
       "  <th>Estimator:</th>            <td>PanelOLS</td>     <th>  R-squared (Between):</th>   <td>-9.5763</td>\n",
       "</tr>\n",
       "<tr>\n",
       "  <th>No. Observations:</th>        <td>746</td>       <th>  R-squared (Within):</th>    <td>0.0035</td> \n",
       "</tr>\n",
       "<tr>\n",
       "  <th>Date:</th>             <td>Sun, Mar 31 2024</td> <th>  R-squared (Overall):</th>   <td>-5.6155</td>\n",
       "</tr>\n",
       "<tr>\n",
       "  <th>Time:</th>                 <td>17:23:35</td>     <th>  Log-likelihood     </th>    <td>-1833.6</td>\n",
       "</tr>\n",
       "<tr>\n",
       "  <th>Cov. Estimator:</th>      <td>Unadjusted</td>    <th>                     </th>       <td></td>    \n",
       "</tr>\n",
       "<tr>\n",
       "  <th></th>                          <td></td>         <th>  F-statistic:       </th>    <td>8.6589</td> \n",
       "</tr>\n",
       "<tr>\n",
       "  <th>Entities:</th>                <td>137</td>       <th>  P-value            </th>    <td>0.0000</td> \n",
       "</tr>\n",
       "<tr>\n",
       "  <th>Avg Obs:</th>               <td>5.4453</td>      <th>  Distribution:      </th>   <td>F(9,722)</td>\n",
       "</tr>\n",
       "<tr>\n",
       "  <th>Min Obs:</th>               <td>1.0000</td>      <th>                     </th>       <td></td>    \n",
       "</tr>\n",
       "<tr>\n",
       "  <th>Max Obs:</th>               <td>15.000</td>      <th>  F-statistic (robust):</th>  <td>8.6589</td> \n",
       "</tr>\n",
       "<tr>\n",
       "  <th></th>                          <td></td>         <th>  P-value            </th>    <td>0.0000</td> \n",
       "</tr>\n",
       "<tr>\n",
       "  <th>Time periods:</th>            <td>15</td>        <th>  Distribution:      </th>   <td>F(9,722)</td>\n",
       "</tr>\n",
       "<tr>\n",
       "  <th>Avg Obs:</th>               <td>49.733</td>      <th>                     </th>       <td></td>    \n",
       "</tr>\n",
       "<tr>\n",
       "  <th>Min Obs:</th>               <td>6.0000</td>      <th>                     </th>       <td></td>    \n",
       "</tr>\n",
       "<tr>\n",
       "  <th>Max Obs:</th>               <td>66.000</td>      <th>                     </th>       <td></td>    \n",
       "</tr>\n",
       "<tr>\n",
       "  <th></th>                          <td></td>         <th>                     </th>       <td></td>    \n",
       "</tr>\n",
       "</table>\n",
       "<table class=\"simpletable\">\n",
       "<caption>Parameter Estimates</caption>\n",
       "<tr>\n",
       "             <td></td>            <th>Parameter</th> <th>Std. Err.</th> <th>T-stat</th>  <th>P-value</th> <th>Lower CI</th> <th>Upper CI</th>\n",
       "</tr>\n",
       "<tr>\n",
       "  <th>gdp_pc</th>                  <td>-0.9580</td>   <td>0.1348</td>   <td>-7.1062</td> <td>0.0000</td>   <td>-1.2227</td>  <td>-0.6934</td>\n",
       "</tr>\n",
       "<tr>\n",
       "  <th>democracy_eiu</th>           <td>0.2413</td>    <td>0.0738</td>   <td>3.2692</td>  <td>0.0011</td>   <td>0.0964</td>   <td>0.3861</td> \n",
       "</tr>\n",
       "<tr>\n",
       "  <th>imo_total_score</th>         <td>0.0099</td>    <td>0.0024</td>   <td>4.1242</td>  <td>0.0000</td>   <td>0.0052</td>   <td>0.0146</td> \n",
       "</tr>\n",
       "<tr>\n",
       "  <th>arwu_ranked_num</th>         <td>-0.4159</td>   <td>0.2087</td>   <td>-1.9931</td> <td>0.0466</td>   <td>-0.8256</td>  <td>-0.0062</td>\n",
       "</tr>\n",
       "<tr>\n",
       "  <th>primary_completion</th>      <td>0.0100</td>    <td>0.0125</td>   <td>0.8003</td>  <td>0.4238</td>   <td>-0.0146</td>  <td>0.0346</td> \n",
       "</tr>\n",
       "<tr>\n",
       "  <th>lower_sec_completion</th>    <td>0.0086</td>    <td>0.0168</td>   <td>0.5135</td>  <td>0.6077</td>   <td>-0.0244</td>  <td>0.0416</td> \n",
       "</tr>\n",
       "<tr>\n",
       "  <th>upper_sec_completion</th>    <td>0.0004</td>    <td>0.0132</td>   <td>0.0336</td>  <td>0.9732</td>   <td>-0.0255</td>  <td>0.0264</td> \n",
       "</tr>\n",
       "<tr>\n",
       "  <th>population</th>              <td>-0.1628</td>   <td>0.0963</td>   <td>-1.6899</td> <td>0.0915</td>   <td>-0.3520</td>  <td>0.0263</td> \n",
       "</tr>\n",
       "<tr>\n",
       "  <th>arwu_ranked_num:gdp_pc</th>  <td>0.0377</td>    <td>0.0190</td>   <td>1.9818</td>  <td>0.0479</td>   <td>0.0004</td>   <td>0.0750</td> \n",
       "</tr>\n",
       "</table><br/><br/>F-test for Poolability: 26.374<br/>P-value: 0.0000<br/>Distribution: F(14,722)<br/><br/>Included effects: Time<br/>id: 0x314e1fce0"
      ],
      "text/plain": [
       "                          PanelOLS Estimation Summary                           \n",
       "================================================================================\n",
       "Dep. Variable:          gdp_pc_growth   R-squared:                        0.0974\n",
       "Estimator:                   PanelOLS   R-squared (Between):             -9.5763\n",
       "No. Observations:                 746   R-squared (Within):               0.0035\n",
       "Date:                Sun, Mar 31 2024   R-squared (Overall):             -5.6155\n",
       "Time:                        17:23:35   Log-likelihood                   -1833.6\n",
       "Cov. Estimator:            Unadjusted                                           \n",
       "                                        F-statistic:                      8.6589\n",
       "Entities:                         137   P-value                           0.0000\n",
       "Avg Obs:                       5.4453   Distribution:                   F(9,722)\n",
       "Min Obs:                       1.0000                                           \n",
       "Max Obs:                       15.000   F-statistic (robust):             8.6589\n",
       "                                        P-value                           0.0000\n",
       "Time periods:                      15   Distribution:                   F(9,722)\n",
       "Avg Obs:                       49.733                                           \n",
       "Min Obs:                       6.0000                                           \n",
       "Max Obs:                       66.000                                           \n",
       "                                                                                \n",
       "                                   Parameter Estimates                                    \n",
       "==========================================================================================\n",
       "                        Parameter  Std. Err.     T-stat    P-value    Lower CI    Upper CI\n",
       "------------------------------------------------------------------------------------------\n",
       "gdp_pc                    -0.9580     0.1348    -7.1062     0.0000     -1.2227     -0.6934\n",
       "democracy_eiu              0.2413     0.0738     3.2692     0.0011      0.0964      0.3861\n",
       "imo_total_score            0.0099     0.0024     4.1242     0.0000      0.0052      0.0146\n",
       "arwu_ranked_num           -0.4159     0.2087    -1.9931     0.0466     -0.8256     -0.0062\n",
       "primary_completion         0.0100     0.0125     0.8003     0.4238     -0.0146      0.0346\n",
       "lower_sec_completion       0.0086     0.0168     0.5135     0.6077     -0.0244      0.0416\n",
       "upper_sec_completion       0.0004     0.0132     0.0336     0.9732     -0.0255      0.0264\n",
       "population                -0.1628     0.0963    -1.6899     0.0915     -0.3520      0.0263\n",
       "arwu_ranked_num:gdp_pc     0.0377     0.0190     1.9818     0.0479      0.0004      0.0750\n",
       "==========================================================================================\n",
       "\n",
       "F-test for Poolability: 26.374\n",
       "P-value: 0.0000\n",
       "Distribution: F(14,722)\n",
       "\n",
       "Included effects: Time\n",
       "PanelEffectsResults, id: 0x314e1fce0"
      ]
     },
     "execution_count": 95,
     "metadata": {},
     "output_type": "execute_result"
    }
   ],
   "source": [
    "non_pisa"
   ]
  },
  {
   "cell_type": "code",
   "execution_count": 96,
   "metadata": {},
   "outputs": [
    {
     "data": {
      "text/html": [
       "<table class=\"simpletable\">\n",
       "<caption>PanelOLS Estimation Summary</caption>\n",
       "<tr>\n",
       "  <th>Dep. Variable:</th>      <td>gdp_pc_growth</td>  <th>  R-squared:         </th>    <td>0.2814</td> \n",
       "</tr>\n",
       "<tr>\n",
       "  <th>Estimator:</th>            <td>PanelOLS</td>     <th>  R-squared (Between):</th>   <td>-49.950</td>\n",
       "</tr>\n",
       "<tr>\n",
       "  <th>No. Observations:</th>        <td>109</td>       <th>  R-squared (Within):</th>    <td>0.0539</td> \n",
       "</tr>\n",
       "<tr>\n",
       "  <th>Date:</th>             <td>Sun, Mar 31 2024</td> <th>  R-squared (Overall):</th>   <td>-39.273</td>\n",
       "</tr>\n",
       "<tr>\n",
       "  <th>Time:</th>                 <td>17:15:24</td>     <th>  Log-likelihood     </th>    <td>-220.43</td>\n",
       "</tr>\n",
       "<tr>\n",
       "  <th>Cov. Estimator:</th>      <td>Unadjusted</td>    <th>                     </th>       <td></td>    \n",
       "</tr>\n",
       "<tr>\n",
       "  <th></th>                          <td></td>         <th>  F-statistic:       </th>    <td>3.3461</td> \n",
       "</tr>\n",
       "<tr>\n",
       "  <th>Entities:</th>                <td>48</td>        <th>  P-value            </th>    <td>0.0006</td> \n",
       "</tr>\n",
       "<tr>\n",
       "  <th>Avg Obs:</th>               <td>2.2708</td>      <th>  Distribution:      </th>   <td>F(11,94)</td>\n",
       "</tr>\n",
       "<tr>\n",
       "  <th>Min Obs:</th>               <td>1.0000</td>      <th>                     </th>       <td></td>    \n",
       "</tr>\n",
       "<tr>\n",
       "  <th>Max Obs:</th>               <td>4.0000</td>      <th>  F-statistic (robust):</th>  <td>3.3461</td> \n",
       "</tr>\n",
       "<tr>\n",
       "  <th></th>                          <td></td>         <th>  P-value            </th>    <td>0.0006</td> \n",
       "</tr>\n",
       "<tr>\n",
       "  <th>Time periods:</th>             <td>4</td>        <th>  Distribution:      </th>   <td>F(11,94)</td>\n",
       "</tr>\n",
       "<tr>\n",
       "  <th>Avg Obs:</th>               <td>27.250</td>      <th>                     </th>       <td></td>    \n",
       "</tr>\n",
       "<tr>\n",
       "  <th>Min Obs:</th>               <td>20.000</td>      <th>                     </th>       <td></td>    \n",
       "</tr>\n",
       "<tr>\n",
       "  <th>Max Obs:</th>               <td>34.000</td>      <th>                     </th>       <td></td>    \n",
       "</tr>\n",
       "<tr>\n",
       "  <th></th>                          <td></td>         <th>                     </th>       <td></td>    \n",
       "</tr>\n",
       "</table>\n",
       "<table class=\"simpletable\">\n",
       "<caption>Parameter Estimates</caption>\n",
       "<tr>\n",
       "             <td></td>            <th>Parameter</th> <th>Std. Err.</th> <th>T-stat</th>  <th>P-value</th> <th>Lower CI</th> <th>Upper CI</th>\n",
       "</tr>\n",
       "<tr>\n",
       "  <th>gdp_pc</th>                  <td>-1.1307</td>   <td>0.3757</td>   <td>-3.0095</td> <td>0.0034</td>   <td>-1.8767</td>  <td>-0.3847</td>\n",
       "</tr>\n",
       "<tr>\n",
       "  <th>imo_total_score</th>         <td>0.0064</td>    <td>0.0046</td>   <td>1.4036</td>  <td>0.1637</td>   <td>-0.0027</td>  <td>0.0155</td> \n",
       "</tr>\n",
       "<tr>\n",
       "  <th>math</th>                    <td>0.0018</td>    <td>0.0087</td>   <td>0.2068</td>  <td>0.8366</td>   <td>-0.0154</td>  <td>0.0190</td> \n",
       "</tr>\n",
       "<tr>\n",
       "  <th>in_math99</th>               <td>0.0606</td>    <td>0.2056</td>   <td>0.2945</td>  <td>0.7690</td>   <td>-0.3477</td>  <td>0.4689</td> \n",
       "</tr>\n",
       "<tr>\n",
       "  <th>arwu_ranked_num</th>         <td>-0.3906</td>   <td>0.3467</td>   <td>-1.1267</td> <td>0.2627</td>   <td>-1.0790</td>  <td>0.2978</td> \n",
       "</tr>\n",
       "<tr>\n",
       "  <th>primary_completion</th>      <td>-0.0289</td>   <td>0.0444</td>   <td>-0.6514</td> <td>0.5163</td>   <td>-0.1171</td>  <td>0.0593</td> \n",
       "</tr>\n",
       "<tr>\n",
       "  <th>lower_sec_completion</th>    <td>0.0093</td>    <td>0.0327</td>   <td>0.2835</td>  <td>0.7774</td>   <td>-0.0556</td>  <td>0.0741</td> \n",
       "</tr>\n",
       "<tr>\n",
       "  <th>upper_sec_completion</th>    <td>0.0173</td>    <td>0.0252</td>   <td>0.6850</td>  <td>0.4950</td>   <td>-0.0328</td>  <td>0.0674</td> \n",
       "</tr>\n",
       "<tr>\n",
       "  <th>population</th>              <td>-0.5243</td>   <td>0.1983</td>   <td>-2.6443</td> <td>0.0096</td>   <td>-0.9180</td>  <td>-0.1306</td>\n",
       "</tr>\n",
       "<tr>\n",
       "  <th>democracy_eiu</th>           <td>0.0636</td>    <td>0.1916</td>   <td>0.3322</td>  <td>0.7405</td>   <td>-0.3167</td>  <td>0.4440</td> \n",
       "</tr>\n",
       "<tr>\n",
       "  <th>arwu_ranked_num:gdp_pc</th>  <td>0.0363</td>    <td>0.0316</td>   <td>1.1510</td>  <td>0.2526</td>   <td>-0.0263</td>  <td>0.0990</td> \n",
       "</tr>\n",
       "</table><br/><br/>F-test for Poolability: 8.0561<br/>P-value: 0.0001<br/>Distribution: F(3,94)<br/><br/>Included effects: Time<br/>id: 0x16e095580"
      ],
      "text/plain": [
       "                          PanelOLS Estimation Summary                           \n",
       "================================================================================\n",
       "Dep. Variable:          gdp_pc_growth   R-squared:                        0.2814\n",
       "Estimator:                   PanelOLS   R-squared (Between):             -49.950\n",
       "No. Observations:                 109   R-squared (Within):               0.0539\n",
       "Date:                Sun, Mar 31 2024   R-squared (Overall):             -39.273\n",
       "Time:                        17:15:24   Log-likelihood                   -220.43\n",
       "Cov. Estimator:            Unadjusted                                           \n",
       "                                        F-statistic:                      3.3461\n",
       "Entities:                          48   P-value                           0.0006\n",
       "Avg Obs:                       2.2708   Distribution:                   F(11,94)\n",
       "Min Obs:                       1.0000                                           \n",
       "Max Obs:                       4.0000   F-statistic (robust):             3.3461\n",
       "                                        P-value                           0.0006\n",
       "Time periods:                       4   Distribution:                   F(11,94)\n",
       "Avg Obs:                       27.250                                           \n",
       "Min Obs:                       20.000                                           \n",
       "Max Obs:                       34.000                                           \n",
       "                                                                                \n",
       "                                   Parameter Estimates                                    \n",
       "==========================================================================================\n",
       "                        Parameter  Std. Err.     T-stat    P-value    Lower CI    Upper CI\n",
       "------------------------------------------------------------------------------------------\n",
       "gdp_pc                    -1.1307     0.3757    -3.0095     0.0034     -1.8767     -0.3847\n",
       "imo_total_score            0.0064     0.0046     1.4036     0.1637     -0.0027      0.0155\n",
       "math                       0.0018     0.0087     0.2068     0.8366     -0.0154      0.0190\n",
       "in_math99                  0.0606     0.2056     0.2945     0.7690     -0.3477      0.4689\n",
       "arwu_ranked_num           -0.3906     0.3467    -1.1267     0.2627     -1.0790      0.2978\n",
       "primary_completion        -0.0289     0.0444    -0.6514     0.5163     -0.1171      0.0593\n",
       "lower_sec_completion       0.0093     0.0327     0.2835     0.7774     -0.0556      0.0741\n",
       "upper_sec_completion       0.0173     0.0252     0.6850     0.4950     -0.0328      0.0674\n",
       "population                -0.5243     0.1983    -2.6443     0.0096     -0.9180     -0.1306\n",
       "democracy_eiu              0.0636     0.1916     0.3322     0.7405     -0.3167      0.4440\n",
       "arwu_ranked_num:gdp_pc     0.0363     0.0316     1.1510     0.2526     -0.0263      0.0990\n",
       "==========================================================================================\n",
       "\n",
       "F-test for Poolability: 8.0561\n",
       "P-value: 0.0001\n",
       "Distribution: F(3,94)\n",
       "\n",
       "Included effects: Time\n",
       "PanelEffectsResults, id: 0x16e095580"
      ]
     },
     "execution_count": 96,
     "metadata": {},
     "output_type": "execute_result"
    }
   ],
   "source": [
    "pisa"
   ]
  },
  {
   "cell_type": "code",
   "execution_count": null,
   "metadata": {},
   "outputs": [],
   "source": []
  }
 ],
 "metadata": {
  "kernelspec": {
   "display_name": "442research",
   "language": "python",
   "name": "python3"
  },
  "language_info": {
   "codemirror_mode": {
    "name": "ipython",
    "version": 3
   },
   "file_extension": ".py",
   "mimetype": "text/x-python",
   "name": "python",
   "nbconvert_exporter": "python",
   "pygments_lexer": "ipython3",
   "version": "3.12.2"
  }
 },
 "nbformat": 4,
 "nbformat_minor": 2
}
