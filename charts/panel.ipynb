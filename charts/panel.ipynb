{
 "cells": [
  {
   "cell_type": "code",
   "execution_count": 35,
   "metadata": {},
   "outputs": [],
   "source": [
    "import polars as pl\n",
    "import statsmodels.formula.api as smf\n",
    "import numpy as np\n",
    "from stargazer.stargazer import Stargazer\n",
    "from linearmodels.panel import PanelOLS"
   ]
  },
  {
   "cell_type": "code",
   "execution_count": 36,
   "metadata": {},
   "outputs": [],
   "source": [
    "df = pl.read_parquet(\"../data/combined_all.parquet\")\n",
    "pd_df = df.to_pandas()\n",
    "pd_df = pd_df[pd_df.reset_index()[\"year\"].isin([2003, 2006, 2009, 2012, 2015, 2018])]\n",
    "\n",
    "pd_df = pd_df.set_index([\"country\", \"year\"])"
   ]
  },
  {
   "cell_type": "code",
   "execution_count": 37,
   "metadata": {},
   "outputs": [],
   "source": [
    "pd_df[\"arwu_ranked_num_pc\"] = pd_df[\"arwu_ranked_num\"] / pd_df[\"population\"] * 1_000_000\n",
    "pd_df[\"gdp_pc\"] = np.log(pd_df[\"gdp_pc\"])\n",
    "pd_df[\"population\"] = np.log(pd_df[\"population\"])"
   ]
  },
  {
   "cell_type": "code",
   "execution_count": 38,
   "metadata": {},
   "outputs": [
    {
     "data": {
      "text/plain": [
       "(109, 15)"
      ]
     },
     "execution_count": 38,
     "metadata": {},
     "output_type": "execute_result"
    }
   ],
   "source": [
    "group1 = pd_df[(pd_df[\"arwu_ranked_num\"].notnull()) & (pd_df[\"math\"].notnull()) & (pd_df[\"imo_total_score\"].notnull()) & (pd_df[\"primary_completion\"].notnull()) & (pd_df[\"lower_sec_completion\"].notnull()) & (pd_df[\"upper_sec_completion\"].notnull()) & (pd_df[\"democracy_eiu\"].notnull())]\n",
    "group1.shape"
   ]
  },
  {
   "cell_type": "code",
   "execution_count": 39,
   "metadata": {},
   "outputs": [
    {
     "data": {
      "text/plain": [
       "(222, 15)"
      ]
     },
     "execution_count": 39,
     "metadata": {},
     "output_type": "execute_result"
    }
   ],
   "source": [
    "group2 = pd_df[(pd_df[\"gdp_pc\"].notnull()) & (pd_df[\"arwu_ranked_num\"].notnull()) & (pd_df[\"imo_total_score\"].notnull()) & (pd_df[\"primary_completion\"].notnull()) & (pd_df[\"lower_sec_completion\"].notnull()) & (pd_df[\"upper_sec_completion\"].notnull()) & (pd_df[\"democracy_eiu\"].notnull())]\n",
    "group2.shape"
   ]
  },
  {
   "cell_type": "code",
   "execution_count": 40,
   "metadata": {},
   "outputs": [],
   "source": [
    "pisa_time_fe = PanelOLS.from_formula(\"gdp_pc_growth ~ gdp_pc + imo_total_score + math + in_math99 + arwu_ranked_num*gdp_pc + primary_completion + lower_sec_completion + upper_sec_completion + population + democracy_eiu + TimeEffects\", group1).fit()"
   ]
  },
  {
   "cell_type": "code",
   "execution_count": 41,
   "metadata": {},
   "outputs": [],
   "source": [
    "pisa_time_country_fe = PanelOLS.from_formula(\"gdp_pc_growth ~ gdp_pc + imo_total_score + math + in_math99 + arwu_ranked_num*gdp_pc + primary_completion + lower_sec_completion + upper_sec_completion + population + democracy_eiu + TimeEffects + EntityEffects\", group1).fit()"
   ]
  },
  {
   "cell_type": "code",
   "execution_count": 42,
   "metadata": {},
   "outputs": [],
   "source": [
    "pisa_no_math_time_fe = PanelOLS.from_formula(\"gdp_pc_growth ~ gdp_pc + imo_total_score + in_math99 + arwu_ranked_num*gdp_pc + primary_completion + lower_sec_completion + upper_sec_completion + population + democracy_eiu + TimeEffects\", group1).fit()"
   ]
  },
  {
   "cell_type": "code",
   "execution_count": 43,
   "metadata": {},
   "outputs": [],
   "source": [
    "non_pisa = PanelOLS.from_formula(\"gdp_pc_growth ~ gdp_pc + democracy_eiu + imo_total_score + arwu_ranked_num*gdp_pc + primary_completion + lower_sec_completion + upper_sec_completion + population + TimeEffects\", group2).fit()"
   ]
  },
  {
   "cell_type": "code",
   "execution_count": 44,
   "metadata": {},
   "outputs": [],
   "source": [
    "non_pisa_no_interac = PanelOLS.from_formula(\"gdp_pc_growth ~ gdp_pc + democracy_eiu + imo_total_score + arwu_ranked_num + primary_completion + lower_sec_completion + upper_sec_completion + population + TimeEffects\", group2).fit()"
   ]
  },
  {
   "cell_type": "code",
   "execution_count": 45,
   "metadata": {},
   "outputs": [
    {
     "data": {
      "text/html": [
       "<table class=\"simpletable\">\n",
       "<caption>PanelOLS Estimation Summary</caption>\n",
       "<tr>\n",
       "  <th>Dep. Variable:</th>      <td>gdp_pc_growth</td>  <th>  R-squared:         </th>    <td>0.1370</td> \n",
       "</tr>\n",
       "<tr>\n",
       "  <th>Estimator:</th>            <td>PanelOLS</td>     <th>  R-squared (Between):</th>   <td>-12.796</td>\n",
       "</tr>\n",
       "<tr>\n",
       "  <th>No. Observations:</th>        <td>222</td>       <th>  R-squared (Within):</th>    <td>0.0354</td> \n",
       "</tr>\n",
       "<tr>\n",
       "  <th>Date:</th>             <td>Mon, Apr 01 2024</td> <th>  R-squared (Overall):</th>   <td>-9.9892</td>\n",
       "</tr>\n",
       "<tr>\n",
       "  <th>Time:</th>                 <td>21:27:39</td>     <th>  Log-likelihood     </th>    <td>-501.81</td>\n",
       "</tr>\n",
       "<tr>\n",
       "  <th>Cov. Estimator:</th>      <td>Unadjusted</td>    <th>                     </th>       <td></td>    \n",
       "</tr>\n",
       "<tr>\n",
       "  <th></th>                          <td></td>         <th>  F-statistic:       </th>    <td>3.6868</td> \n",
       "</tr>\n",
       "<tr>\n",
       "  <th>Entities:</th>                <td>103</td>       <th>  P-value            </th>    <td>0.0003</td> \n",
       "</tr>\n",
       "<tr>\n",
       "  <th>Avg Obs:</th>               <td>2.1553</td>      <th>  Distribution:      </th>   <td>F(9,209)</td>\n",
       "</tr>\n",
       "<tr>\n",
       "  <th>Min Obs:</th>               <td>1.0000</td>      <th>                     </th>       <td></td>    \n",
       "</tr>\n",
       "<tr>\n",
       "  <th>Max Obs:</th>               <td>4.0000</td>      <th>  F-statistic (robust):</th>  <td>3.6868</td> \n",
       "</tr>\n",
       "<tr>\n",
       "  <th></th>                          <td></td>         <th>  P-value            </th>    <td>0.0003</td> \n",
       "</tr>\n",
       "<tr>\n",
       "  <th>Time periods:</th>             <td>4</td>        <th>  Distribution:      </th>   <td>F(9,209)</td>\n",
       "</tr>\n",
       "<tr>\n",
       "  <th>Avg Obs:</th>               <td>55.500</td>      <th>                     </th>       <td></td>    \n",
       "</tr>\n",
       "<tr>\n",
       "  <th>Min Obs:</th>               <td>41.000</td>      <th>                     </th>       <td></td>    \n",
       "</tr>\n",
       "<tr>\n",
       "  <th>Max Obs:</th>               <td>66.000</td>      <th>                     </th>       <td></td>    \n",
       "</tr>\n",
       "<tr>\n",
       "  <th></th>                          <td></td>         <th>                     </th>       <td></td>    \n",
       "</tr>\n",
       "</table>\n",
       "<table class=\"simpletable\">\n",
       "<caption>Parameter Estimates</caption>\n",
       "<tr>\n",
       "             <td></td>            <th>Parameter</th> <th>Std. Err.</th> <th>T-stat</th>  <th>P-value</th> <th>Lower CI</th> <th>Upper CI</th>\n",
       "</tr>\n",
       "<tr>\n",
       "  <th>gdp_pc</th>                  <td>-0.8488</td>   <td>0.2068</td>   <td>-4.1046</td> <td>0.0001</td>   <td>-1.2565</td>  <td>-0.4411</td>\n",
       "</tr>\n",
       "<tr>\n",
       "  <th>democracy_eiu</th>           <td>0.1949</td>    <td>0.1188</td>   <td>1.6411</td>  <td>0.1023</td>   <td>-0.0392</td>  <td>0.4290</td> \n",
       "</tr>\n",
       "<tr>\n",
       "  <th>imo_total_score</th>         <td>0.0135</td>    <td>0.0039</td>   <td>3.4701</td>  <td>0.0006</td>   <td>0.0058</td>   <td>0.0212</td> \n",
       "</tr>\n",
       "<tr>\n",
       "  <th>arwu_ranked_num</th>         <td>-0.2286</td>   <td>0.3260</td>   <td>-0.7013</td> <td>0.4839</td>   <td>-0.8714</td>  <td>0.4141</td> \n",
       "</tr>\n",
       "<tr>\n",
       "  <th>primary_completion</th>      <td>-0.0204</td>   <td>0.0175</td>   <td>-1.1669</td> <td>0.2446</td>   <td>-0.0549</td>  <td>0.0141</td> \n",
       "</tr>\n",
       "<tr>\n",
       "  <th>lower_sec_completion</th>    <td>0.0483</td>    <td>0.0247</td>   <td>1.9570</td>  <td>0.0517</td>   <td>-0.0004</td>  <td>0.0969</td> \n",
       "</tr>\n",
       "<tr>\n",
       "  <th>upper_sec_completion</th>    <td>-0.0218</td>   <td>0.0194</td>   <td>-1.1219</td> <td>0.2632</td>   <td>-0.0600</td>  <td>0.0165</td> \n",
       "</tr>\n",
       "<tr>\n",
       "  <th>population</th>              <td>-0.2250</td>   <td>0.1461</td>   <td>-1.5403</td> <td>0.1250</td>   <td>-0.5131</td>  <td>0.0630</td> \n",
       "</tr>\n",
       "<tr>\n",
       "  <th>arwu_ranked_num:gdp_pc</th>  <td>0.0205</td>    <td>0.0298</td>   <td>0.6883</td>  <td>0.4920</td>   <td>-0.0382</td>  <td>0.0791</td> \n",
       "</tr>\n",
       "</table><br/><br/>F-test for Poolability: 8.3373<br/>P-value: 0.0000<br/>Distribution: F(3,209)<br/><br/>Included effects: Time<br/>id: 0x12a7846e0"
      ],
      "text/plain": [
       "                          PanelOLS Estimation Summary                           \n",
       "================================================================================\n",
       "Dep. Variable:          gdp_pc_growth   R-squared:                        0.1370\n",
       "Estimator:                   PanelOLS   R-squared (Between):             -12.796\n",
       "No. Observations:                 222   R-squared (Within):               0.0354\n",
       "Date:                Mon, Apr 01 2024   R-squared (Overall):             -9.9892\n",
       "Time:                        21:27:39   Log-likelihood                   -501.81\n",
       "Cov. Estimator:            Unadjusted                                           \n",
       "                                        F-statistic:                      3.6868\n",
       "Entities:                         103   P-value                           0.0003\n",
       "Avg Obs:                       2.1553   Distribution:                   F(9,209)\n",
       "Min Obs:                       1.0000                                           \n",
       "Max Obs:                       4.0000   F-statistic (robust):             3.6868\n",
       "                                        P-value                           0.0003\n",
       "Time periods:                       4   Distribution:                   F(9,209)\n",
       "Avg Obs:                       55.500                                           \n",
       "Min Obs:                       41.000                                           \n",
       "Max Obs:                       66.000                                           \n",
       "                                                                                \n",
       "                                   Parameter Estimates                                    \n",
       "==========================================================================================\n",
       "                        Parameter  Std. Err.     T-stat    P-value    Lower CI    Upper CI\n",
       "------------------------------------------------------------------------------------------\n",
       "gdp_pc                    -0.8488     0.2068    -4.1046     0.0001     -1.2565     -0.4411\n",
       "democracy_eiu              0.1949     0.1188     1.6411     0.1023     -0.0392      0.4290\n",
       "imo_total_score            0.0135     0.0039     3.4701     0.0006      0.0058      0.0212\n",
       "arwu_ranked_num           -0.2286     0.3260    -0.7013     0.4839     -0.8714      0.4141\n",
       "primary_completion        -0.0204     0.0175    -1.1669     0.2446     -0.0549      0.0141\n",
       "lower_sec_completion       0.0483     0.0247     1.9570     0.0517     -0.0004      0.0969\n",
       "upper_sec_completion      -0.0218     0.0194    -1.1219     0.2632     -0.0600      0.0165\n",
       "population                -0.2250     0.1461    -1.5403     0.1250     -0.5131      0.0630\n",
       "arwu_ranked_num:gdp_pc     0.0205     0.0298     0.6883     0.4920     -0.0382      0.0791\n",
       "==========================================================================================\n",
       "\n",
       "F-test for Poolability: 8.3373\n",
       "P-value: 0.0000\n",
       "Distribution: F(3,209)\n",
       "\n",
       "Included effects: Time\n",
       "PanelEffectsResults, id: 0x12a7846e0"
      ]
     },
     "execution_count": 45,
     "metadata": {},
     "output_type": "execute_result"
    }
   ],
   "source": [
    "non_pisa"
   ]
  },
  {
   "cell_type": "code",
   "execution_count": null,
   "metadata": {},
   "outputs": [],
   "source": []
  }
 ],
 "metadata": {
  "kernelspec": {
   "display_name": "442research",
   "language": "python",
   "name": "python3"
  },
  "language_info": {
   "codemirror_mode": {
    "name": "ipython",
    "version": 3
   },
   "file_extension": ".py",
   "mimetype": "text/x-python",
   "name": "python",
   "nbconvert_exporter": "python",
   "pygments_lexer": "ipython3",
   "version": "3.12.2"
  }
 },
 "nbformat": 4,
 "nbformat_minor": 2
}
