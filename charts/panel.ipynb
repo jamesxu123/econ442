{
 "cells": [
  {
   "cell_type": "code",
   "execution_count": 28,
   "metadata": {},
   "outputs": [],
   "source": [
    "import polars as pl\n",
    "import statsmodels.formula.api as smf\n",
    "import numpy as np\n",
    "from stargazer.stargazer import Stargazer\n",
    "from linearmodels.panel import PanelOLS"
   ]
  },
  {
   "cell_type": "code",
   "execution_count": 29,
   "metadata": {},
   "outputs": [],
   "source": [
    "countries = set(open(\"./worldbankcountries.txt\").read().split())\n",
    "df = pl.read_parquet(\"../data/combined-2022-xgboost-synthetic-eiu.parquet\")\n",
    "df = df.filter(pl.col(\"country\").str.contains_any(list(countries)))\n",
    "pd_df = df.to_pandas()\n",
    "pd_df = pd_df[pd_df.reset_index()[\"year\"].isin([2003, 2006, 2009, 2012, 2015, 2018, 2022])]\n",
    "\n",
    "pd_df = pd_df.set_index([\"country\", \"year\"])"
   ]
  },
  {
   "cell_type": "code",
   "execution_count": 31,
   "metadata": {},
   "outputs": [],
   "source": [
    "# pd_df[\"arwu_ranked_num_pc\"] = pd_df[\"arwu_ranked_num\"] / pd_df[\"population\"] * 1_000_000\n",
    "# pd_df[\"gdp_pc\"] = np.log(pd_df[\"gdp_pc\"])\n",
    "# pd_df[\"population\"] = np.log(pd_df[\"population\"])"
   ]
  },
  {
   "cell_type": "code",
   "execution_count": 32,
   "metadata": {},
   "outputs": [
    {
     "data": {
      "text/plain": [
       "(441, 17)"
      ]
     },
     "execution_count": 32,
     "metadata": {},
     "output_type": "execute_result"
    }
   ],
   "source": [
    "group1 = pd_df[(pd_df[\"arwu_ranked_num\"].notnull()) & (pd_df[\"math\"].notnull()) & (pd_df[\"imo_total_score\"].notnull()) & (pd_df[\"primary_completion\"].notnull()) & (pd_df[\"lower_sec_completion\"].notnull()) & (pd_df[\"upper_sec_completion\"].notnull()) & (pd_df[\"democracy_eiu\"].notnull())]\n",
    "group1.shape"
   ]
  },
  {
   "cell_type": "code",
   "execution_count": 33,
   "metadata": {},
   "outputs": [
    {
     "data": {
      "text/plain": [
       "(1446, 17)"
      ]
     },
     "execution_count": 33,
     "metadata": {},
     "output_type": "execute_result"
    }
   ],
   "source": [
    "group2 = pd_df[(pd_df[\"gdp_pc\"].notnull()) & (pd_df[\"arwu_ranked_num\"].notnull()) & (pd_df[\"imo_total_score\"].notnull()) & (pd_df[\"primary_completion\"].notnull()) & (pd_df[\"lower_sec_completion\"].notnull()) & (pd_df[\"upper_sec_completion\"].notnull()) & (pd_df[\"democracy_eiu\"].notnull())]\n",
    "group2.shape"
   ]
  },
  {
   "cell_type": "code",
   "execution_count": 34,
   "metadata": {},
   "outputs": [
    {
     "name": "stderr",
     "output_type": "stream",
     "text": [
      "/Users/jamesxu/miniforge3/envs/442research/lib/python3.12/site-packages/linearmodels/panel/model.py:1214: MissingValueWarning: \n",
      "Inputs contain missing values. Dropping rows with missing observations.\n",
      "  super().__init__(dependent, exog, weights=weights, check_rank=check_rank)\n"
     ]
    }
   ],
   "source": [
    "pisa_time_fe = PanelOLS.from_formula(\"gdp_pc_growth ~ gdp_pc + imo_total_score + math + in_math99 + arwu_ranked_num*gdp_pc + primary_completion + lower_sec_completion + upper_sec_completion + population + democracy_eiu + TimeEffects\", group1).fit()"
   ]
  },
  {
   "cell_type": "code",
   "execution_count": 35,
   "metadata": {},
   "outputs": [
    {
     "name": "stderr",
     "output_type": "stream",
     "text": [
      "/Users/jamesxu/miniforge3/envs/442research/lib/python3.12/site-packages/linearmodels/panel/model.py:1214: MissingValueWarning: \n",
      "Inputs contain missing values. Dropping rows with missing observations.\n",
      "  super().__init__(dependent, exog, weights=weights, check_rank=check_rank)\n"
     ]
    }
   ],
   "source": [
    "pisa_time_country_fe = PanelOLS.from_formula(\"gdp_pc_growth ~ gdp_pc + imo_total_score + math + in_math99 + arwu_ranked_num*gdp_pc + primary_completion + lower_sec_completion + upper_sec_completion + population + democracy_eiu + TimeEffects + EntityEffects\", group1).fit()"
   ]
  },
  {
   "cell_type": "code",
   "execution_count": 36,
   "metadata": {},
   "outputs": [
    {
     "name": "stderr",
     "output_type": "stream",
     "text": [
      "/Users/jamesxu/miniforge3/envs/442research/lib/python3.12/site-packages/linearmodels/panel/model.py:1214: MissingValueWarning: \n",
      "Inputs contain missing values. Dropping rows with missing observations.\n",
      "  super().__init__(dependent, exog, weights=weights, check_rank=check_rank)\n"
     ]
    }
   ],
   "source": [
    "non_pisa_pyears = PanelOLS.from_formula(\"gdp_pc_growth ~ gdp_pc + democracy_eiu + imo_total_score + arwu_ranked_num + primary_completion + lower_sec_completion + upper_sec_completion + TimeEffects\", pd_df).fit()"
   ]
  },
  {
   "cell_type": "code",
   "execution_count": 37,
   "metadata": {},
   "outputs": [
    {
     "data": {
      "text/html": [
       "<table class=\"simpletable\">\n",
       "<caption>PanelOLS Estimation Summary</caption>\n",
       "<tr>\n",
       "  <th>Dep. Variable:</th>      <td>gdp_pc_growth</td>  <th>  R-squared:         </th>     <td>0.0208</td>  \n",
       "</tr>\n",
       "<tr>\n",
       "  <th>Estimator:</th>            <td>PanelOLS</td>     <th>  R-squared (Between):</th>    <td>0.2144</td>  \n",
       "</tr>\n",
       "<tr>\n",
       "  <th>No. Observations:</th>       <td>1424</td>       <th>  R-squared (Within):</th>     <td>-0.0045</td> \n",
       "</tr>\n",
       "<tr>\n",
       "  <th>Date:</th>             <td>Tue, Apr 23 2024</td> <th>  R-squared (Overall):</th>    <td>0.0582</td>  \n",
       "</tr>\n",
       "<tr>\n",
       "  <th>Time:</th>                 <td>19:07:43</td>     <th>  Log-likelihood     </th>   <td>-1.105e+04</td>\n",
       "</tr>\n",
       "<tr>\n",
       "  <th>Cov. Estimator:</th>      <td>Unadjusted</td>    <th>                     </th>        <td></td>     \n",
       "</tr>\n",
       "<tr>\n",
       "  <th></th>                          <td></td>         <th>  F-statistic:       </th>     <td>4.2847</td>  \n",
       "</tr>\n",
       "<tr>\n",
       "  <th>Entities:</th>                <td>213</td>       <th>  P-value            </th>     <td>0.0001</td>  \n",
       "</tr>\n",
       "<tr>\n",
       "  <th>Avg Obs:</th>               <td>6.6854</td>      <th>  Distribution:      </th>    <td>F(7,1410)</td>\n",
       "</tr>\n",
       "<tr>\n",
       "  <th>Min Obs:</th>               <td>1.0000</td>      <th>                     </th>        <td></td>     \n",
       "</tr>\n",
       "<tr>\n",
       "  <th>Max Obs:</th>               <td>7.0000</td>      <th>  F-statistic (robust):</th>   <td>4.2847</td>  \n",
       "</tr>\n",
       "<tr>\n",
       "  <th></th>                          <td></td>         <th>  P-value            </th>     <td>0.0001</td>  \n",
       "</tr>\n",
       "<tr>\n",
       "  <th>Time periods:</th>             <td>7</td>        <th>  Distribution:      </th>    <td>F(7,1410)</td>\n",
       "</tr>\n",
       "<tr>\n",
       "  <th>Avg Obs:</th>               <td>203.43</td>      <th>                     </th>        <td></td>     \n",
       "</tr>\n",
       "<tr>\n",
       "  <th>Min Obs:</th>               <td>193.00</td>      <th>                     </th>        <td></td>     \n",
       "</tr>\n",
       "<tr>\n",
       "  <th>Max Obs:</th>               <td>209.00</td>      <th>                     </th>        <td></td>     \n",
       "</tr>\n",
       "<tr>\n",
       "  <th></th>                          <td></td>         <th>                     </th>        <td></td>     \n",
       "</tr>\n",
       "</table>\n",
       "<table class=\"simpletable\">\n",
       "<caption>Parameter Estimates</caption>\n",
       "<tr>\n",
       "            <td></td>           <th>Parameter</th> <th>Std. Err.</th> <th>T-stat</th>  <th>P-value</th> <th>Lower CI</th> <th>Upper CI</th>\n",
       "</tr>\n",
       "<tr>\n",
       "  <th>gdp_pc</th>                <td>-0.0014</td>   <td>0.0009</td>   <td>-1.6871</td> <td>0.0918</td>   <td>-0.0031</td>  <td>0.0002</td> \n",
       "</tr>\n",
       "<tr>\n",
       "  <th>democracy_eiu</th>         <td>-17.342</td>   <td>7.5304</td>   <td>-2.3029</td> <td>0.0214</td>   <td>-32.114</td>  <td>-2.5698</td>\n",
       "</tr>\n",
       "<tr>\n",
       "  <th>imo_total_score</th>       <td>8.5604</td>    <td>6.2242</td>   <td>1.3753</td>  <td>0.1692</td>   <td>-3.6492</td>  <td>20.770</td> \n",
       "</tr>\n",
       "<tr>\n",
       "  <th>arwu_ranked_num</th>       <td>-191.82</td>   <td>82.126</td>   <td>-2.3356</td> <td>0.0197</td>   <td>-352.92</td>  <td>-30.713</td>\n",
       "</tr>\n",
       "<tr>\n",
       "  <th>primary_completion</th>    <td>1.8142</td>    <td>1.5624</td>   <td>1.1612</td>  <td>0.2458</td>   <td>-1.2507</td>  <td>4.8791</td> \n",
       "</tr>\n",
       "<tr>\n",
       "  <th>lower_sec_completion</th>  <td>1.5025</td>    <td>2.2570</td>   <td>0.6657</td>  <td>0.5057</td>   <td>-2.9248</td>  <td>5.9299</td> \n",
       "</tr>\n",
       "<tr>\n",
       "  <th>upper_sec_completion</th>  <td>-0.7930</td>   <td>2.0704</td>   <td>-0.3830</td> <td>0.7018</td>   <td>-4.8545</td>  <td>3.2685</td> \n",
       "</tr>\n",
       "</table><br/><br/>F-test for Poolability: 21.123<br/>P-value: 0.0000<br/>Distribution: F(6,1410)<br/><br/>Included effects: Time<br/>id: 0x3198f63c0"
      ],
      "text/plain": [
       "                          PanelOLS Estimation Summary                           \n",
       "================================================================================\n",
       "Dep. Variable:          gdp_pc_growth   R-squared:                        0.0208\n",
       "Estimator:                   PanelOLS   R-squared (Between):              0.2144\n",
       "No. Observations:                1424   R-squared (Within):              -0.0045\n",
       "Date:                Tue, Apr 23 2024   R-squared (Overall):              0.0582\n",
       "Time:                        19:07:43   Log-likelihood                -1.105e+04\n",
       "Cov. Estimator:            Unadjusted                                           \n",
       "                                        F-statistic:                      4.2847\n",
       "Entities:                         213   P-value                           0.0001\n",
       "Avg Obs:                       6.6854   Distribution:                  F(7,1410)\n",
       "Min Obs:                       1.0000                                           \n",
       "Max Obs:                       7.0000   F-statistic (robust):             4.2847\n",
       "                                        P-value                           0.0001\n",
       "Time periods:                       7   Distribution:                  F(7,1410)\n",
       "Avg Obs:                       203.43                                           \n",
       "Min Obs:                       193.00                                           \n",
       "Max Obs:                       209.00                                           \n",
       "                                                                                \n",
       "                                  Parameter Estimates                                   \n",
       "========================================================================================\n",
       "                      Parameter  Std. Err.     T-stat    P-value    Lower CI    Upper CI\n",
       "----------------------------------------------------------------------------------------\n",
       "gdp_pc                  -0.0014     0.0009    -1.6871     0.0918     -0.0031      0.0002\n",
       "democracy_eiu           -17.342     7.5304    -2.3029     0.0214     -32.114     -2.5698\n",
       "imo_total_score          8.5604     6.2242     1.3753     0.1692     -3.6492      20.770\n",
       "arwu_ranked_num         -191.82     82.126    -2.3356     0.0197     -352.92     -30.713\n",
       "primary_completion       1.8142     1.5624     1.1612     0.2458     -1.2507      4.8791\n",
       "lower_sec_completion     1.5025     2.2570     0.6657     0.5057     -2.9248      5.9299\n",
       "upper_sec_completion    -0.7930     2.0704    -0.3830     0.7018     -4.8545      3.2685\n",
       "========================================================================================\n",
       "\n",
       "F-test for Poolability: 21.123\n",
       "P-value: 0.0000\n",
       "Distribution: F(6,1410)\n",
       "\n",
       "Included effects: Time\n",
       "PanelEffectsResults, id: 0x3198f63c0"
      ]
     },
     "execution_count": 37,
     "metadata": {},
     "output_type": "execute_result"
    }
   ],
   "source": [
    "non_pisa_pyears"
   ]
  },
  {
   "cell_type": "code",
   "execution_count": 8,
   "metadata": {},
   "outputs": [
    {
     "name": "stderr",
     "output_type": "stream",
     "text": [
      "/Users/jamesxu/miniforge3/envs/442research/lib/python3.12/site-packages/linearmodels/panel/model.py:1214: MissingValueWarning: \n",
      "Inputs contain missing values. Dropping rows with missing observations.\n",
      "  super().__init__(dependent, exog, weights=weights, check_rank=check_rank)\n"
     ]
    }
   ],
   "source": [
    "pisa_no_math_time_fe = PanelOLS.from_formula(\"gdp_pc_growth ~ gdp_pc + imo_total_score + in_math99 + arwu_ranked_num*gdp_pc + primary_completion + lower_sec_completion + upper_sec_completion + population + democracy_eiu + TimeEffects\", group1).fit()"
   ]
  },
  {
   "cell_type": "code",
   "execution_count": 9,
   "metadata": {},
   "outputs": [
    {
     "name": "stderr",
     "output_type": "stream",
     "text": [
      "/Users/jamesxu/miniforge3/envs/442research/lib/python3.12/site-packages/linearmodels/panel/model.py:1214: MissingValueWarning: \n",
      "Inputs contain missing values. Dropping rows with missing observations.\n",
      "  super().__init__(dependent, exog, weights=weights, check_rank=check_rank)\n"
     ]
    }
   ],
   "source": [
    "non_pisa = PanelOLS.from_formula(\"gdp_pc_growth ~ gdp_pc + democracy_eiu + imo_total_score + arwu_ranked_num*gdp_pc + primary_completion + lower_sec_completion + upper_sec_completion + population + TimeEffects\", group2).fit()"
   ]
  },
  {
   "cell_type": "code",
   "execution_count": 10,
   "metadata": {},
   "outputs": [
    {
     "name": "stderr",
     "output_type": "stream",
     "text": [
      "/Users/jamesxu/miniforge3/envs/442research/lib/python3.12/site-packages/linearmodels/panel/model.py:1214: MissingValueWarning: \n",
      "Inputs contain missing values. Dropping rows with missing observations.\n",
      "  super().__init__(dependent, exog, weights=weights, check_rank=check_rank)\n"
     ]
    }
   ],
   "source": [
    "non_pisa_no_interac = PanelOLS.from_formula(\"gdp_pc_growth ~ gdp_pc + democracy_eiu + imo_total_score + arwu_ranked_num + primary_completion + lower_sec_completion + upper_sec_completion + population + TimeEffects\", group2).fit()"
   ]
  },
  {
   "cell_type": "code",
   "execution_count": 11,
   "metadata": {},
   "outputs": [
    {
     "data": {
      "text/html": [
       "<table class=\"simpletable\">\n",
       "<caption>PanelOLS Estimation Summary</caption>\n",
       "<tr>\n",
       "  <th>Dep. Variable:</th>      <td>gdp_pc_growth</td>  <th>  R-squared:         </th>    <td>0.0767</td>  \n",
       "</tr>\n",
       "<tr>\n",
       "  <th>Estimator:</th>            <td>PanelOLS</td>     <th>  R-squared (Between):</th>   <td>0.2030</td>  \n",
       "</tr>\n",
       "<tr>\n",
       "  <th>No. Observations:</th>        <td>440</td>       <th>  R-squared (Within):</th>    <td>0.0416</td>  \n",
       "</tr>\n",
       "<tr>\n",
       "  <th>Date:</th>             <td>Sat, Apr 20 2024</td> <th>  R-squared (Overall):</th>   <td>0.0408</td>  \n",
       "</tr>\n",
       "<tr>\n",
       "  <th>Time:</th>                 <td>12:36:28</td>     <th>  Log-likelihood     </th>    <td>-3132.7</td> \n",
       "</tr>\n",
       "<tr>\n",
       "  <th>Cov. Estimator:</th>      <td>Unadjusted</td>    <th>                     </th>       <td></td>     \n",
       "</tr>\n",
       "<tr>\n",
       "  <th></th>                          <td></td>         <th>  F-statistic:       </th>    <td>2.5236</td>  \n",
       "</tr>\n",
       "<tr>\n",
       "  <th>Entities:</th>                <td>89</td>        <th>  P-value            </th>    <td>0.0046</td>  \n",
       "</tr>\n",
       "<tr>\n",
       "  <th>Avg Obs:</th>               <td>4.9438</td>      <th>  Distribution:      </th>   <td>F(11,334)</td>\n",
       "</tr>\n",
       "<tr>\n",
       "  <th>Min Obs:</th>               <td>1.0000</td>      <th>                     </th>       <td></td>     \n",
       "</tr>\n",
       "<tr>\n",
       "  <th>Max Obs:</th>               <td>7.0000</td>      <th>  F-statistic (robust):</th>  <td>2.5236</td>  \n",
       "</tr>\n",
       "<tr>\n",
       "  <th></th>                          <td></td>         <th>  P-value            </th>    <td>0.0046</td>  \n",
       "</tr>\n",
       "<tr>\n",
       "  <th>Time periods:</th>             <td>7</td>        <th>  Distribution:      </th>   <td>F(11,334)</td>\n",
       "</tr>\n",
       "<tr>\n",
       "  <th>Avg Obs:</th>               <td>62.857</td>      <th>                     </th>       <td></td>     \n",
       "</tr>\n",
       "<tr>\n",
       "  <th>Min Obs:</th>               <td>40.000</td>      <th>                     </th>       <td></td>     \n",
       "</tr>\n",
       "<tr>\n",
       "  <th>Max Obs:</th>               <td>76.000</td>      <th>                     </th>       <td></td>     \n",
       "</tr>\n",
       "<tr>\n",
       "  <th></th>                          <td></td>         <th>                     </th>       <td></td>     \n",
       "</tr>\n",
       "</table>\n",
       "<table class=\"simpletable\">\n",
       "<caption>Parameter Estimates</caption>\n",
       "<tr>\n",
       "             <td></td>            <th>Parameter</th> <th>Std. Err.</th> <th>T-stat</th>  <th>P-value</th>  <th>Lower CI</th>  <th>Upper CI</th> \n",
       "</tr>\n",
       "<tr>\n",
       "  <th>gdp_pc</th>                  <td>-0.0036</td>   <td>0.0037</td>   <td>-0.9530</td> <td>0.3413</td>    <td>-0.0109</td>   <td>0.0038</td>  \n",
       "</tr>\n",
       "<tr>\n",
       "  <th>imo_total_score</th>         <td>-6.7859</td>   <td>15.668</td>   <td>-0.4331</td> <td>0.6652</td>    <td>-37.606</td>   <td>24.035</td>  \n",
       "</tr>\n",
       "<tr>\n",
       "  <th>math</th>                    <td>0.8685</td>    <td>1.7384</td>   <td>0.4996</td>  <td>0.6177</td>    <td>-2.5510</td>   <td>4.2881</td>  \n",
       "</tr>\n",
       "<tr>\n",
       "  <th>in_math99</th>               <td>-105.91</td>   <td>36.438</td>   <td>-2.9065</td> <td>0.0039</td>    <td>-177.58</td>   <td>-34.230</td> \n",
       "</tr>\n",
       "<tr>\n",
       "  <th>arwu_ranked_num</th>         <td>-754.20</td>   <td>247.65</td>   <td>-3.0454</td> <td>0.0025</td>    <td>-1241.4</td>   <td>-267.04</td> \n",
       "</tr>\n",
       "<tr>\n",
       "  <th>primary_completion</th>      <td>-4.0232</td>   <td>4.9213</td>   <td>-0.8175</td> <td>0.4142</td>    <td>-13.704</td>   <td>5.6574</td>  \n",
       "</tr>\n",
       "<tr>\n",
       "  <th>lower_sec_completion</th>    <td>0.1401</td>    <td>4.4355</td>   <td>0.0316</td>  <td>0.9748</td>    <td>-8.5850</td>   <td>8.8653</td>  \n",
       "</tr>\n",
       "<tr>\n",
       "  <th>upper_sec_completion</th>    <td>2.7494</td>    <td>3.6827</td>   <td>0.7466</td>  <td>0.4558</td>    <td>-4.4949</td>   <td>9.9937</td>  \n",
       "</tr>\n",
       "<tr>\n",
       "  <th>population</th>             <td>4.473e-07</td> <td>5.203e-06</td> <td>0.0860</td>  <td>0.9315</td>  <td>-9.787e-06</td> <td>1.068e-05</td>\n",
       "</tr>\n",
       "<tr>\n",
       "  <th>democracy_eiu</th>           <td>46.781</td>    <td>61.726</td>   <td>0.7579</td>  <td>0.4491</td>    <td>-74.641</td>   <td>168.20</td>  \n",
       "</tr>\n",
       "<tr>\n",
       "  <th>arwu_ranked_num:gdp_pc</th>  <td>0.0109</td>    <td>0.0040</td>   <td>2.6894</td>  <td>0.0075</td>    <td>0.0029</td>    <td>0.0188</td>  \n",
       "</tr>\n",
       "</table><br/><br/>F-test for Poolability: 3.8202<br/>P-value: 0.0000<br/>Distribution: F(94,334)<br/><br/>Included effects: Entity, Time<br/>id: 0x169c5f7a0"
      ],
      "text/plain": [
       "                          PanelOLS Estimation Summary                           \n",
       "================================================================================\n",
       "Dep. Variable:          gdp_pc_growth   R-squared:                        0.0767\n",
       "Estimator:                   PanelOLS   R-squared (Between):              0.2030\n",
       "No. Observations:                 440   R-squared (Within):               0.0416\n",
       "Date:                Sat, Apr 20 2024   R-squared (Overall):              0.0408\n",
       "Time:                        12:36:28   Log-likelihood                   -3132.7\n",
       "Cov. Estimator:            Unadjusted                                           \n",
       "                                        F-statistic:                      2.5236\n",
       "Entities:                          89   P-value                           0.0046\n",
       "Avg Obs:                       4.9438   Distribution:                  F(11,334)\n",
       "Min Obs:                       1.0000                                           \n",
       "Max Obs:                       7.0000   F-statistic (robust):             2.5236\n",
       "                                        P-value                           0.0046\n",
       "Time periods:                       7   Distribution:                  F(11,334)\n",
       "Avg Obs:                       62.857                                           \n",
       "Min Obs:                       40.000                                           \n",
       "Max Obs:                       76.000                                           \n",
       "                                                                                \n",
       "                                   Parameter Estimates                                    \n",
       "==========================================================================================\n",
       "                        Parameter  Std. Err.     T-stat    P-value    Lower CI    Upper CI\n",
       "------------------------------------------------------------------------------------------\n",
       "gdp_pc                    -0.0036     0.0037    -0.9530     0.3413     -0.0109      0.0038\n",
       "imo_total_score           -6.7859     15.668    -0.4331     0.6652     -37.606      24.035\n",
       "math                       0.8685     1.7384     0.4996     0.6177     -2.5510      4.2881\n",
       "in_math99                 -105.91     36.438    -2.9065     0.0039     -177.58     -34.230\n",
       "arwu_ranked_num           -754.20     247.65    -3.0454     0.0025     -1241.4     -267.04\n",
       "primary_completion        -4.0232     4.9213    -0.8175     0.4142     -13.704      5.6574\n",
       "lower_sec_completion       0.1401     4.4355     0.0316     0.9748     -8.5850      8.8653\n",
       "upper_sec_completion       2.7494     3.6827     0.7466     0.4558     -4.4949      9.9937\n",
       "population              4.473e-07  5.203e-06     0.0860     0.9315  -9.787e-06   1.068e-05\n",
       "democracy_eiu              46.781     61.726     0.7579     0.4491     -74.641      168.20\n",
       "arwu_ranked_num:gdp_pc     0.0109     0.0040     2.6894     0.0075      0.0029      0.0188\n",
       "==========================================================================================\n",
       "\n",
       "F-test for Poolability: 3.8202\n",
       "P-value: 0.0000\n",
       "Distribution: F(94,334)\n",
       "\n",
       "Included effects: Entity, Time\n",
       "PanelEffectsResults, id: 0x169c5f7a0"
      ]
     },
     "execution_count": 11,
     "metadata": {},
     "output_type": "execute_result"
    }
   ],
   "source": [
    "pisa_time_country_fe"
   ]
  },
  {
   "cell_type": "code",
   "execution_count": null,
   "metadata": {},
   "outputs": [],
   "source": []
  },
  {
   "cell_type": "code",
   "execution_count": null,
   "metadata": {},
   "outputs": [],
   "source": []
  }
 ],
 "metadata": {
  "kernelspec": {
   "display_name": "442research",
   "language": "python",
   "name": "python3"
  },
  "language_info": {
   "codemirror_mode": {
    "name": "ipython",
    "version": 3
   },
   "file_extension": ".py",
   "mimetype": "text/x-python",
   "name": "python",
   "nbconvert_exporter": "python",
   "pygments_lexer": "ipython3",
   "version": "3.12.2"
  }
 },
 "nbformat": 4,
 "nbformat_minor": 2
}
